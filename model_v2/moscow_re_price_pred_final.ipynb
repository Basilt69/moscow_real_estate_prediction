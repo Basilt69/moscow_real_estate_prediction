{
  "cells": [
    {
      "cell_type": "code",
      "execution_count": 1,
      "id": "483f8640",
      "metadata": {
        "colab": {
          "base_uri": "https://localhost:8080/"
        },
        "id": "483f8640",
        "outputId": "361b5adc-ecc6-495b-bf92-f53363aced9a"
      },
      "outputs": [
        {
          "output_type": "stream",
          "name": "stdout",
          "text": [
            "Looking in indexes: https://pypi.org/simple, https://us-python.pkg.dev/colab-wheels/public/simple/\n",
            "Requirement already satisfied: geopy in /usr/local/lib/python3.7/dist-packages (1.17.0)\n",
            "Requirement already satisfied: geographiclib<2,>=1.49 in /usr/local/lib/python3.7/dist-packages (from geopy) (1.52)\n"
          ]
        }
      ],
      "source": [
        "pip install geopy"
      ]
    },
    {
      "cell_type": "code",
      "execution_count": 2,
      "id": "392d5fdc",
      "metadata": {
        "colab": {
          "base_uri": "https://localhost:8080/"
        },
        "id": "392d5fdc",
        "outputId": "7158433f-84d9-4a1b-bc14-a726edc45bf7"
      },
      "outputs": [
        {
          "output_type": "stream",
          "name": "stdout",
          "text": [
            "Looking in indexes: https://pypi.org/simple, https://us-python.pkg.dev/colab-wheels/public/simple/\n",
            "Collecting googletrans==3.1.0a0\n",
            "  Downloading googletrans-3.1.0a0.tar.gz (19 kB)\n",
            "Collecting httpx==0.13.3\n",
            "  Downloading httpx-0.13.3-py3-none-any.whl (55 kB)\n",
            "\u001b[K     |████████████████████████████████| 55 kB 2.0 MB/s \n",
            "\u001b[?25hCollecting httpcore==0.9.*\n",
            "  Downloading httpcore-0.9.1-py3-none-any.whl (42 kB)\n",
            "\u001b[K     |████████████████████████████████| 42 kB 1.2 MB/s \n",
            "\u001b[?25hRequirement already satisfied: chardet==3.* in /usr/local/lib/python3.7/dist-packages (from httpx==0.13.3->googletrans==3.1.0a0) (3.0.4)\n",
            "Requirement already satisfied: idna==2.* in /usr/local/lib/python3.7/dist-packages (from httpx==0.13.3->googletrans==3.1.0a0) (2.10)\n",
            "Collecting rfc3986<2,>=1.3\n",
            "  Downloading rfc3986-1.5.0-py2.py3-none-any.whl (31 kB)\n",
            "Collecting hstspreload\n",
            "  Downloading hstspreload-2022.9.1-py3-none-any.whl (1.4 MB)\n",
            "\u001b[K     |████████████████████████████████| 1.4 MB 10.8 MB/s \n",
            "\u001b[?25hRequirement already satisfied: certifi in /usr/local/lib/python3.7/dist-packages (from httpx==0.13.3->googletrans==3.1.0a0) (2022.6.15)\n",
            "Collecting sniffio\n",
            "  Downloading sniffio-1.3.0-py3-none-any.whl (10 kB)\n",
            "Collecting h2==3.*\n",
            "  Downloading h2-3.2.0-py2.py3-none-any.whl (65 kB)\n",
            "\u001b[K     |████████████████████████████████| 65 kB 3.1 MB/s \n",
            "\u001b[?25hCollecting h11<0.10,>=0.8\n",
            "  Downloading h11-0.9.0-py2.py3-none-any.whl (53 kB)\n",
            "\u001b[K     |████████████████████████████████| 53 kB 2.0 MB/s \n",
            "\u001b[?25hCollecting hpack<4,>=3.0\n",
            "  Downloading hpack-3.0.0-py2.py3-none-any.whl (38 kB)\n",
            "Collecting hyperframe<6,>=5.2.0\n",
            "  Downloading hyperframe-5.2.0-py2.py3-none-any.whl (12 kB)\n",
            "Building wheels for collected packages: googletrans\n",
            "  Building wheel for googletrans (setup.py) ... \u001b[?25l\u001b[?25hdone\n",
            "  Created wheel for googletrans: filename=googletrans-3.1.0a0-py3-none-any.whl size=16367 sha256=5c0ce67f31e9719558935efb7539d5e873116f029d8e26e4dc904ed1f1c6d224\n",
            "  Stored in directory: /root/.cache/pip/wheels/0c/be/fe/93a6a40ffe386e16089e44dad9018ebab9dc4cb9eb7eab65ae\n",
            "Successfully built googletrans\n",
            "Installing collected packages: hyperframe, hpack, sniffio, h2, h11, rfc3986, httpcore, hstspreload, httpx, googletrans\n",
            "Successfully installed googletrans-3.1.0a0 h11-0.9.0 h2-3.2.0 hpack-3.0.0 hstspreload-2022.9.1 httpcore-0.9.1 httpx-0.13.3 hyperframe-5.2.0 rfc3986-1.5.0 sniffio-1.3.0\n"
          ]
        }
      ],
      "source": [
        "pip install googletrans==3.1.0a0"
      ]
    },
    {
      "cell_type": "code",
      "execution_count": 3,
      "id": "9ef36e85",
      "metadata": {
        "colab": {
          "base_uri": "https://localhost:8080/"
        },
        "id": "9ef36e85",
        "outputId": "9e555a16-ce3e-4517-a46c-a9d77dbfb2f8"
      },
      "outputs": [
        {
          "output_type": "stream",
          "name": "stdout",
          "text": [
            "Looking in indexes: https://pypi.org/simple, https://us-python.pkg.dev/colab-wheels/public/simple/\n",
            "Requirement already satisfied: google in /usr/local/lib/python3.7/dist-packages (2.0.3)\n",
            "Requirement already satisfied: beautifulsoup4 in /usr/local/lib/python3.7/dist-packages (from google) (4.6.3)\n"
          ]
        }
      ],
      "source": [
        "pip install google"
      ]
    },
    {
      "cell_type": "code",
      "execution_count": 4,
      "id": "09801305",
      "metadata": {
        "colab": {
          "base_uri": "https://localhost:8080/"
        },
        "id": "09801305",
        "outputId": "e25e74fa-0cdd-4595-d7e8-287fe846fbf1"
      },
      "outputs": [
        {
          "output_type": "stream",
          "name": "stdout",
          "text": [
            "Looking in indexes: https://pypi.org/simple, https://us-python.pkg.dev/colab-wheels/public/simple/\n",
            "Collecting google-cloud\n",
            "  Downloading google_cloud-0.34.0-py2.py3-none-any.whl (1.8 kB)\n",
            "Installing collected packages: google-cloud\n",
            "Successfully installed google-cloud-0.34.0\n"
          ]
        }
      ],
      "source": [
        "pip install google-cloud"
      ]
    },
    {
      "cell_type": "code",
      "execution_count": 5,
      "id": "a0020424",
      "metadata": {
        "colab": {
          "base_uri": "https://localhost:8080/"
        },
        "id": "a0020424",
        "outputId": "65f712e1-8dd7-4337-bb9d-2a1d81f27f0e"
      },
      "outputs": [
        {
          "output_type": "stream",
          "name": "stdout",
          "text": [
            "Looking in indexes: https://pypi.org/simple, https://us-python.pkg.dev/colab-wheels/public/simple/\n",
            "Requirement already satisfied: google-api-python-client in /usr/local/lib/python3.7/dist-packages (1.12.11)\n",
            "Collecting google-api-python-client\n",
            "  Downloading google_api_python_client-2.58.0-py2.py3-none-any.whl (9.0 MB)\n",
            "\u001b[K     |████████████████████████████████| 9.0 MB 5.6 MB/s \n",
            "\u001b[?25hRequirement already satisfied: google-api-core!=2.0.*,!=2.1.*,!=2.2.*,!=2.3.0,<3.0.0dev,>=1.31.5 in /usr/local/lib/python3.7/dist-packages (from google-api-python-client) (1.31.6)\n",
            "Requirement already satisfied: uritemplate<5,>=3.0.1 in /usr/local/lib/python3.7/dist-packages (from google-api-python-client) (3.0.1)\n",
            "Requirement already satisfied: httplib2<1dev,>=0.15.0 in /usr/local/lib/python3.7/dist-packages (from google-api-python-client) (0.17.4)\n",
            "Collecting google-auth-httplib2>=0.1.0\n",
            "  Downloading google_auth_httplib2-0.1.0-py2.py3-none-any.whl (9.3 kB)\n",
            "Requirement already satisfied: google-auth<3.0.0dev,>=1.19.0 in /usr/local/lib/python3.7/dist-packages (from google-api-python-client) (1.35.0)\n",
            "Requirement already satisfied: six>=1.13.0 in /usr/local/lib/python3.7/dist-packages (from google-api-core!=2.0.*,!=2.1.*,!=2.2.*,!=2.3.0,<3.0.0dev,>=1.31.5->google-api-python-client) (1.15.0)\n",
            "Requirement already satisfied: packaging>=14.3 in /usr/local/lib/python3.7/dist-packages (from google-api-core!=2.0.*,!=2.1.*,!=2.2.*,!=2.3.0,<3.0.0dev,>=1.31.5->google-api-python-client) (21.3)\n",
            "Requirement already satisfied: pytz in /usr/local/lib/python3.7/dist-packages (from google-api-core!=2.0.*,!=2.1.*,!=2.2.*,!=2.3.0,<3.0.0dev,>=1.31.5->google-api-python-client) (2022.2.1)\n",
            "Requirement already satisfied: requests<3.0.0dev,>=2.18.0 in /usr/local/lib/python3.7/dist-packages (from google-api-core!=2.0.*,!=2.1.*,!=2.2.*,!=2.3.0,<3.0.0dev,>=1.31.5->google-api-python-client) (2.23.0)\n",
            "Requirement already satisfied: setuptools>=40.3.0 in /usr/local/lib/python3.7/dist-packages (from google-api-core!=2.0.*,!=2.1.*,!=2.2.*,!=2.3.0,<3.0.0dev,>=1.31.5->google-api-python-client) (57.4.0)\n",
            "Requirement already satisfied: googleapis-common-protos<2.0dev,>=1.6.0 in /usr/local/lib/python3.7/dist-packages (from google-api-core!=2.0.*,!=2.1.*,!=2.2.*,!=2.3.0,<3.0.0dev,>=1.31.5->google-api-python-client) (1.56.4)\n",
            "Requirement already satisfied: protobuf<4.0.0dev,>=3.12.0 in /usr/local/lib/python3.7/dist-packages (from google-api-core!=2.0.*,!=2.1.*,!=2.2.*,!=2.3.0,<3.0.0dev,>=1.31.5->google-api-python-client) (3.17.3)\n",
            "Requirement already satisfied: cachetools<5.0,>=2.0.0 in /usr/local/lib/python3.7/dist-packages (from google-auth<3.0.0dev,>=1.19.0->google-api-python-client) (4.2.4)\n",
            "Requirement already satisfied: rsa<5,>=3.1.4 in /usr/local/lib/python3.7/dist-packages (from google-auth<3.0.0dev,>=1.19.0->google-api-python-client) (4.9)\n",
            "Requirement already satisfied: pyasn1-modules>=0.2.1 in /usr/local/lib/python3.7/dist-packages (from google-auth<3.0.0dev,>=1.19.0->google-api-python-client) (0.2.8)\n",
            "Requirement already satisfied: pyparsing!=3.0.5,>=2.0.2 in /usr/local/lib/python3.7/dist-packages (from packaging>=14.3->google-api-core!=2.0.*,!=2.1.*,!=2.2.*,!=2.3.0,<3.0.0dev,>=1.31.5->google-api-python-client) (3.0.9)\n",
            "Requirement already satisfied: pyasn1<0.5.0,>=0.4.6 in /usr/local/lib/python3.7/dist-packages (from pyasn1-modules>=0.2.1->google-auth<3.0.0dev,>=1.19.0->google-api-python-client) (0.4.8)\n",
            "Requirement already satisfied: urllib3!=1.25.0,!=1.25.1,<1.26,>=1.21.1 in /usr/local/lib/python3.7/dist-packages (from requests<3.0.0dev,>=2.18.0->google-api-core!=2.0.*,!=2.1.*,!=2.2.*,!=2.3.0,<3.0.0dev,>=1.31.5->google-api-python-client) (1.24.3)\n",
            "Requirement already satisfied: idna<3,>=2.5 in /usr/local/lib/python3.7/dist-packages (from requests<3.0.0dev,>=2.18.0->google-api-core!=2.0.*,!=2.1.*,!=2.2.*,!=2.3.0,<3.0.0dev,>=1.31.5->google-api-python-client) (2.10)\n",
            "Requirement already satisfied: chardet<4,>=3.0.2 in /usr/local/lib/python3.7/dist-packages (from requests<3.0.0dev,>=2.18.0->google-api-core!=2.0.*,!=2.1.*,!=2.2.*,!=2.3.0,<3.0.0dev,>=1.31.5->google-api-python-client) (3.0.4)\n",
            "Requirement already satisfied: certifi>=2017.4.17 in /usr/local/lib/python3.7/dist-packages (from requests<3.0.0dev,>=2.18.0->google-api-core!=2.0.*,!=2.1.*,!=2.2.*,!=2.3.0,<3.0.0dev,>=1.31.5->google-api-python-client) (2022.6.15)\n",
            "Installing collected packages: google-auth-httplib2, google-api-python-client\n",
            "  Attempting uninstall: google-auth-httplib2\n",
            "    Found existing installation: google-auth-httplib2 0.0.4\n",
            "    Uninstalling google-auth-httplib2-0.0.4:\n",
            "      Successfully uninstalled google-auth-httplib2-0.0.4\n",
            "  Attempting uninstall: google-api-python-client\n",
            "    Found existing installation: google-api-python-client 1.12.11\n",
            "    Uninstalling google-api-python-client-1.12.11:\n",
            "      Successfully uninstalled google-api-python-client-1.12.11\n",
            "\u001b[31mERROR: pip's dependency resolver does not currently take into account all the packages that are installed. This behaviour is the source of the following dependency conflicts.\n",
            "earthengine-api 0.1.321 requires google-api-python-client<2,>=1.12.1, but you have google-api-python-client 2.58.0 which is incompatible.\u001b[0m\n",
            "Successfully installed google-api-python-client-2.58.0 google-auth-httplib2-0.1.0\n"
          ]
        }
      ],
      "source": [
        "pip install --upgrade google-api-python-client"
      ]
    },
    {
      "cell_type": "code",
      "execution_count": 6,
      "id": "4430942f",
      "metadata": {
        "colab": {
          "base_uri": "https://localhost:8080/",
          "height": 795
        },
        "id": "4430942f",
        "outputId": "d1c24f3d-ea69-485d-8bf8-5119e47f5787"
      },
      "outputs": [
        {
          "output_type": "stream",
          "name": "stdout",
          "text": [
            "Looking in indexes: https://pypi.org/simple, https://us-python.pkg.dev/colab-wheels/public/simple/\n",
            "Collecting google-cloud-translate==2.0.1\n",
            "  Downloading google_cloud_translate-2.0.1-py2.py3-none-any.whl (90 kB)\n",
            "\u001b[K     |████████████████████████████████| 90 kB 3.7 MB/s \n",
            "\u001b[?25hCollecting google-cloud-core<2.0dev,>=1.1.0\n",
            "  Downloading google_cloud_core-1.7.3-py2.py3-none-any.whl (28 kB)\n",
            "Requirement already satisfied: google-api-core[grpc]<2.0.0dev,>=1.15.0 in /usr/local/lib/python3.7/dist-packages (from google-cloud-translate==2.0.1) (1.31.6)\n",
            "Requirement already satisfied: requests<3.0.0dev,>=2.18.0 in /usr/local/lib/python3.7/dist-packages (from google-api-core[grpc]<2.0.0dev,>=1.15.0->google-cloud-translate==2.0.1) (2.23.0)\n",
            "Requirement already satisfied: packaging>=14.3 in /usr/local/lib/python3.7/dist-packages (from google-api-core[grpc]<2.0.0dev,>=1.15.0->google-cloud-translate==2.0.1) (21.3)\n",
            "Requirement already satisfied: googleapis-common-protos<2.0dev,>=1.6.0 in /usr/local/lib/python3.7/dist-packages (from google-api-core[grpc]<2.0.0dev,>=1.15.0->google-cloud-translate==2.0.1) (1.56.4)\n",
            "Requirement already satisfied: google-auth<2.0dev,>=1.25.0 in /usr/local/lib/python3.7/dist-packages (from google-api-core[grpc]<2.0.0dev,>=1.15.0->google-cloud-translate==2.0.1) (1.35.0)\n",
            "Requirement already satisfied: pytz in /usr/local/lib/python3.7/dist-packages (from google-api-core[grpc]<2.0.0dev,>=1.15.0->google-cloud-translate==2.0.1) (2022.2.1)\n",
            "Requirement already satisfied: setuptools>=40.3.0 in /usr/local/lib/python3.7/dist-packages (from google-api-core[grpc]<2.0.0dev,>=1.15.0->google-cloud-translate==2.0.1) (57.4.0)\n",
            "Requirement already satisfied: protobuf<4.0.0dev,>=3.12.0 in /usr/local/lib/python3.7/dist-packages (from google-api-core[grpc]<2.0.0dev,>=1.15.0->google-cloud-translate==2.0.1) (3.17.3)\n",
            "Requirement already satisfied: six>=1.13.0 in /usr/local/lib/python3.7/dist-packages (from google-api-core[grpc]<2.0.0dev,>=1.15.0->google-cloud-translate==2.0.1) (1.15.0)\n",
            "Requirement already satisfied: grpcio<2.0dev,>=1.29.0 in /usr/local/lib/python3.7/dist-packages (from google-api-core[grpc]<2.0.0dev,>=1.15.0->google-cloud-translate==2.0.1) (1.47.0)\n",
            "Requirement already satisfied: rsa<5,>=3.1.4 in /usr/local/lib/python3.7/dist-packages (from google-auth<2.0dev,>=1.25.0->google-api-core[grpc]<2.0.0dev,>=1.15.0->google-cloud-translate==2.0.1) (4.9)\n",
            "Requirement already satisfied: pyasn1-modules>=0.2.1 in /usr/local/lib/python3.7/dist-packages (from google-auth<2.0dev,>=1.25.0->google-api-core[grpc]<2.0.0dev,>=1.15.0->google-cloud-translate==2.0.1) (0.2.8)\n",
            "Requirement already satisfied: cachetools<5.0,>=2.0.0 in /usr/local/lib/python3.7/dist-packages (from google-auth<2.0dev,>=1.25.0->google-api-core[grpc]<2.0.0dev,>=1.15.0->google-cloud-translate==2.0.1) (4.2.4)\n",
            "Requirement already satisfied: pyparsing!=3.0.5,>=2.0.2 in /usr/local/lib/python3.7/dist-packages (from packaging>=14.3->google-api-core[grpc]<2.0.0dev,>=1.15.0->google-cloud-translate==2.0.1) (3.0.9)\n",
            "Requirement already satisfied: pyasn1<0.5.0,>=0.4.6 in /usr/local/lib/python3.7/dist-packages (from pyasn1-modules>=0.2.1->google-auth<2.0dev,>=1.25.0->google-api-core[grpc]<2.0.0dev,>=1.15.0->google-cloud-translate==2.0.1) (0.4.8)\n",
            "Requirement already satisfied: chardet<4,>=3.0.2 in /usr/local/lib/python3.7/dist-packages (from requests<3.0.0dev,>=2.18.0->google-api-core[grpc]<2.0.0dev,>=1.15.0->google-cloud-translate==2.0.1) (3.0.4)\n",
            "Requirement already satisfied: idna<3,>=2.5 in /usr/local/lib/python3.7/dist-packages (from requests<3.0.0dev,>=2.18.0->google-api-core[grpc]<2.0.0dev,>=1.15.0->google-cloud-translate==2.0.1) (2.10)\n",
            "Requirement already satisfied: urllib3!=1.25.0,!=1.25.1,<1.26,>=1.21.1 in /usr/local/lib/python3.7/dist-packages (from requests<3.0.0dev,>=2.18.0->google-api-core[grpc]<2.0.0dev,>=1.15.0->google-cloud-translate==2.0.1) (1.24.3)\n",
            "Requirement already satisfied: certifi>=2017.4.17 in /usr/local/lib/python3.7/dist-packages (from requests<3.0.0dev,>=2.18.0->google-api-core[grpc]<2.0.0dev,>=1.15.0->google-cloud-translate==2.0.1) (2022.6.15)\n",
            "Installing collected packages: google-cloud-core, google-cloud-translate\n",
            "  Attempting uninstall: google-cloud-core\n",
            "    Found existing installation: google-cloud-core 1.0.3\n",
            "    Uninstalling google-cloud-core-1.0.3:\n",
            "      Successfully uninstalled google-cloud-core-1.0.3\n",
            "  Attempting uninstall: google-cloud-translate\n",
            "    Found existing installation: google-cloud-translate 1.5.0\n",
            "    Uninstalling google-cloud-translate-1.5.0:\n",
            "      Successfully uninstalled google-cloud-translate-1.5.0\n",
            "\u001b[31mERROR: pip's dependency resolver does not currently take into account all the packages that are installed. This behaviour is the source of the following dependency conflicts.\n",
            "earthengine-api 0.1.321 requires google-api-python-client<2,>=1.12.1, but you have google-api-python-client 2.58.0 which is incompatible.\u001b[0m\n",
            "Successfully installed google-cloud-core-1.7.3 google-cloud-translate-2.0.1\n"
          ]
        },
        {
          "output_type": "display_data",
          "data": {
            "application/vnd.colab-display-data+json": {
              "pip_warning": {
                "packages": [
                  "google"
                ]
              }
            }
          },
          "metadata": {}
        }
      ],
      "source": [
        "pip install google-cloud-translate==2.0.1"
      ]
    },
    {
      "cell_type": "code",
      "execution_count": 7,
      "id": "0db74f5b",
      "metadata": {
        "colab": {
          "base_uri": "https://localhost:8080/",
          "height": 1000
        },
        "id": "0db74f5b",
        "outputId": "27799c8e-fe58-4241-9839-e423fb3e814c"
      },
      "outputs": [
        {
          "output_type": "stream",
          "name": "stdout",
          "text": [
            "Looking in indexes: https://pypi.org/simple, https://us-python.pkg.dev/colab-wheels/public/simple/\n",
            "Requirement already satisfied: google-cloud-storage in /usr/local/lib/python3.7/dist-packages (1.18.1)\n",
            "Collecting google-cloud-storage\n",
            "  Downloading google_cloud_storage-2.5.0-py2.py3-none-any.whl (106 kB)\n",
            "\u001b[K     |████████████████████████████████| 106 kB 5.4 MB/s \n",
            "\u001b[?25hRequirement already satisfied: google-auth<3.0dev,>=1.25.0 in /usr/local/lib/python3.7/dist-packages (from google-cloud-storage) (1.35.0)\n",
            "Requirement already satisfied: requests<3.0.0dev,>=2.18.0 in /usr/local/lib/python3.7/dist-packages (from google-cloud-storage) (2.23.0)\n",
            "Collecting google-cloud-core<3.0dev,>=2.3.0\n",
            "  Downloading google_cloud_core-2.3.2-py2.py3-none-any.whl (29 kB)\n",
            "Collecting google-resumable-media>=2.3.2\n",
            "  Downloading google_resumable_media-2.3.3-py2.py3-none-any.whl (76 kB)\n",
            "\u001b[K     |████████████████████████████████| 76 kB 4.1 MB/s \n",
            "\u001b[?25hRequirement already satisfied: google-api-core!=2.0.*,!=2.1.*,!=2.2.*,!=2.3.0,<3.0.0dev,>=1.31.5 in /usr/local/lib/python3.7/dist-packages (from google-cloud-storage) (1.31.6)\n",
            "Requirement already satisfied: setuptools>=40.3.0 in /usr/local/lib/python3.7/dist-packages (from google-api-core!=2.0.*,!=2.1.*,!=2.2.*,!=2.3.0,<3.0.0dev,>=1.31.5->google-cloud-storage) (57.4.0)\n",
            "Requirement already satisfied: protobuf<4.0.0dev,>=3.12.0 in /usr/local/lib/python3.7/dist-packages (from google-api-core!=2.0.*,!=2.1.*,!=2.2.*,!=2.3.0,<3.0.0dev,>=1.31.5->google-cloud-storage) (3.17.3)\n",
            "Requirement already satisfied: pytz in /usr/local/lib/python3.7/dist-packages (from google-api-core!=2.0.*,!=2.1.*,!=2.2.*,!=2.3.0,<3.0.0dev,>=1.31.5->google-cloud-storage) (2022.2.1)\n",
            "Requirement already satisfied: six>=1.13.0 in /usr/local/lib/python3.7/dist-packages (from google-api-core!=2.0.*,!=2.1.*,!=2.2.*,!=2.3.0,<3.0.0dev,>=1.31.5->google-cloud-storage) (1.15.0)\n",
            "Requirement already satisfied: packaging>=14.3 in /usr/local/lib/python3.7/dist-packages (from google-api-core!=2.0.*,!=2.1.*,!=2.2.*,!=2.3.0,<3.0.0dev,>=1.31.5->google-cloud-storage) (21.3)\n",
            "Requirement already satisfied: googleapis-common-protos<2.0dev,>=1.6.0 in /usr/local/lib/python3.7/dist-packages (from google-api-core!=2.0.*,!=2.1.*,!=2.2.*,!=2.3.0,<3.0.0dev,>=1.31.5->google-cloud-storage) (1.56.4)\n",
            "Requirement already satisfied: rsa<5,>=3.1.4 in /usr/local/lib/python3.7/dist-packages (from google-auth<3.0dev,>=1.25.0->google-cloud-storage) (4.9)\n",
            "Requirement already satisfied: pyasn1-modules>=0.2.1 in /usr/local/lib/python3.7/dist-packages (from google-auth<3.0dev,>=1.25.0->google-cloud-storage) (0.2.8)\n",
            "Requirement already satisfied: cachetools<5.0,>=2.0.0 in /usr/local/lib/python3.7/dist-packages (from google-auth<3.0dev,>=1.25.0->google-cloud-storage) (4.2.4)\n",
            "Collecting google-crc32c<2.0dev,>=1.0\n",
            "  Downloading google_crc32c-1.5.0-cp37-cp37m-manylinux_2_17_x86_64.manylinux2014_x86_64.whl (32 kB)\n",
            "Requirement already satisfied: pyparsing!=3.0.5,>=2.0.2 in /usr/local/lib/python3.7/dist-packages (from packaging>=14.3->google-api-core!=2.0.*,!=2.1.*,!=2.2.*,!=2.3.0,<3.0.0dev,>=1.31.5->google-cloud-storage) (3.0.9)\n",
            "Requirement already satisfied: pyasn1<0.5.0,>=0.4.6 in /usr/local/lib/python3.7/dist-packages (from pyasn1-modules>=0.2.1->google-auth<3.0dev,>=1.25.0->google-cloud-storage) (0.4.8)\n",
            "Requirement already satisfied: idna<3,>=2.5 in /usr/local/lib/python3.7/dist-packages (from requests<3.0.0dev,>=2.18.0->google-cloud-storage) (2.10)\n",
            "Requirement already satisfied: chardet<4,>=3.0.2 in /usr/local/lib/python3.7/dist-packages (from requests<3.0.0dev,>=2.18.0->google-cloud-storage) (3.0.4)\n",
            "Requirement already satisfied: urllib3!=1.25.0,!=1.25.1,<1.26,>=1.21.1 in /usr/local/lib/python3.7/dist-packages (from requests<3.0.0dev,>=2.18.0->google-cloud-storage) (1.24.3)\n",
            "Requirement already satisfied: certifi>=2017.4.17 in /usr/local/lib/python3.7/dist-packages (from requests<3.0.0dev,>=2.18.0->google-cloud-storage) (2022.6.15)\n",
            "Installing collected packages: google-crc32c, google-resumable-media, google-cloud-core, google-cloud-storage\n",
            "  Attempting uninstall: google-resumable-media\n",
            "    Found existing installation: google-resumable-media 0.4.1\n",
            "    Uninstalling google-resumable-media-0.4.1:\n",
            "      Successfully uninstalled google-resumable-media-0.4.1\n",
            "  Attempting uninstall: google-cloud-core\n",
            "    Found existing installation: google-cloud-core 1.7.3\n",
            "    Uninstalling google-cloud-core-1.7.3:\n",
            "      Successfully uninstalled google-cloud-core-1.7.3\n",
            "  Attempting uninstall: google-cloud-storage\n",
            "    Found existing installation: google-cloud-storage 1.18.1\n",
            "    Uninstalling google-cloud-storage-1.18.1:\n",
            "      Successfully uninstalled google-cloud-storage-1.18.1\n",
            "\u001b[31mERROR: pip's dependency resolver does not currently take into account all the packages that are installed. This behaviour is the source of the following dependency conflicts.\n",
            "google-cloud-translate 2.0.1 requires google-cloud-core<2.0dev,>=1.1.0, but you have google-cloud-core 2.3.2 which is incompatible.\n",
            "google-cloud-firestore 1.7.0 requires google-cloud-core<2.0dev,>=1.0.3, but you have google-cloud-core 2.3.2 which is incompatible.\n",
            "google-cloud-datastore 1.8.0 requires google-cloud-core<2.0dev,>=1.0.0, but you have google-cloud-core 2.3.2 which is incompatible.\n",
            "google-cloud-bigquery 1.21.0 requires google-cloud-core<2.0dev,>=1.0.3, but you have google-cloud-core 2.3.2 which is incompatible.\n",
            "google-cloud-bigquery 1.21.0 requires google-resumable-media!=0.4.0,<0.5.0dev,>=0.3.1, but you have google-resumable-media 2.3.3 which is incompatible.\n",
            "earthengine-api 0.1.321 requires google-api-python-client<2,>=1.12.1, but you have google-api-python-client 2.58.0 which is incompatible.\u001b[0m\n",
            "Successfully installed google-cloud-core-2.3.2 google-cloud-storage-2.5.0 google-crc32c-1.5.0 google-resumable-media-2.3.3\n"
          ]
        },
        {
          "output_type": "display_data",
          "data": {
            "application/vnd.colab-display-data+json": {
              "pip_warning": {
                "packages": [
                  "google"
                ]
              }
            }
          },
          "metadata": {}
        }
      ],
      "source": [
        "pip install --upgrade google-cloud-storage"
      ]
    },
    {
      "cell_type": "code",
      "execution_count": 8,
      "id": "obTUrYT1VrQT",
      "metadata": {
        "colab": {
          "base_uri": "https://localhost:8080/"
        },
        "id": "obTUrYT1VrQT",
        "outputId": "c540f10d-5198-4850-de8d-af7ac9acc299"
      },
      "outputs": [
        {
          "output_type": "stream",
          "name": "stdout",
          "text": [
            "Looking in indexes: https://pypi.org/simple, https://us-python.pkg.dev/colab-wheels/public/simple/\n",
            "Collecting catboost\n",
            "  Downloading catboost-1.0.6-cp37-none-manylinux1_x86_64.whl (76.6 MB)\n",
            "\u001b[K     |████████████████████████████████| 76.6 MB 1.7 MB/s \n",
            "\u001b[?25hRequirement already satisfied: matplotlib in /usr/local/lib/python3.7/dist-packages (from catboost) (3.2.2)\n",
            "Requirement already satisfied: pandas>=0.24.0 in /usr/local/lib/python3.7/dist-packages (from catboost) (1.3.5)\n",
            "Requirement already satisfied: scipy in /usr/local/lib/python3.7/dist-packages (from catboost) (1.7.3)\n",
            "Requirement already satisfied: numpy>=1.16.0 in /usr/local/lib/python3.7/dist-packages (from catboost) (1.21.6)\n",
            "Requirement already satisfied: graphviz in /usr/local/lib/python3.7/dist-packages (from catboost) (0.10.1)\n",
            "Requirement already satisfied: six in /usr/local/lib/python3.7/dist-packages (from catboost) (1.15.0)\n",
            "Requirement already satisfied: plotly in /usr/local/lib/python3.7/dist-packages (from catboost) (5.5.0)\n",
            "Requirement already satisfied: pytz>=2017.3 in /usr/local/lib/python3.7/dist-packages (from pandas>=0.24.0->catboost) (2022.2.1)\n",
            "Requirement already satisfied: python-dateutil>=2.7.3 in /usr/local/lib/python3.7/dist-packages (from pandas>=0.24.0->catboost) (2.8.2)\n",
            "Requirement already satisfied: kiwisolver>=1.0.1 in /usr/local/lib/python3.7/dist-packages (from matplotlib->catboost) (1.4.4)\n",
            "Requirement already satisfied: cycler>=0.10 in /usr/local/lib/python3.7/dist-packages (from matplotlib->catboost) (0.11.0)\n",
            "Requirement already satisfied: pyparsing!=2.0.4,!=2.1.2,!=2.1.6,>=2.0.1 in /usr/local/lib/python3.7/dist-packages (from matplotlib->catboost) (3.0.9)\n",
            "Requirement already satisfied: typing-extensions in /usr/local/lib/python3.7/dist-packages (from kiwisolver>=1.0.1->matplotlib->catboost) (4.1.1)\n",
            "Requirement already satisfied: tenacity>=6.2.0 in /usr/local/lib/python3.7/dist-packages (from plotly->catboost) (8.0.1)\n",
            "Installing collected packages: catboost\n",
            "Successfully installed catboost-1.0.6\n"
          ]
        }
      ],
      "source": [
        "pip install catboost"
      ]
    },
    {
      "cell_type": "markdown",
      "id": "02753043",
      "metadata": {
        "id": "02753043"
      },
      "source": [
        "<div style=\"font-size: 35px\">\n",
        "    \n",
        "\n",
        "**Moscow Real Estate Price Prediction Project**"
      ]
    },
    {
      "cell_type": "markdown",
      "id": "890a7e28",
      "metadata": {
        "id": "890a7e28"
      },
      "source": [
        "Moscow is on the fastest growing and developed European capitals. Real estate market of the region is might be really lucrative for potential investments. Since most of the real estate brokers as well as real estate owners tend to exaggerate the price of their property it is of the vital importance to get the decent price for a bet. Thus, the purpose of this project is to create ML model that on the basis of the given data be  able to predict the decent price of the real estate."
      ]
    },
    {
      "cell_type": "markdown",
      "id": "20600a85",
      "metadata": {
        "id": "20600a85"
      },
      "source": [
        "**Data description**\n",
        "\n",
        "The data is in the file 'moscow_dataset_2020.csv'.\n",
        "\n",
        "Our data contains the following columns:\n",
        "\n",
        "- wallsMaterial - a structure and a surface that defines an area;\n",
        "\n",
        "- floorNumber - actual floor where selling real estate is located;\n",
        "\n",
        "- floorsTotal - total number of the floors in the building;\n",
        "\n",
        "- totalArea - total area of the selling real estate;\n",
        "\n",
        "- kitchenArea - kitchen area of the selling real estate;\n",
        "\n",
        "- latitude and longitude - coordinates of the selling real estate;\n",
        "\n",
        "- price - declared price of the selling real estarte."
      ]
    },
    {
      "cell_type": "markdown",
      "id": "79228fee",
      "metadata": {
        "id": "79228fee"
      },
      "source": [
        "<h1>Table of contents<span class=\"tocSkip\"></span></h1>\n",
        "\n",
        "<div class=\"toc\"><ul class=\"toc-item\"><li><span><a href=\"#Preprocessing\" data-toc-modified-id=\"Подготовка-1\"><span class=\"toc-item-num\">1&nbsp;&nbsp;</span>Explonatory analysis</a></span></li><li><span><a href=\"#Train\" data-toc-modified-id=\"Обучение-2\"><span class=\"toc-item-num\">2&nbsp;&nbsp;</span>Data preprocessing and Training of the ML models</a></span></li><li><span><a href=\"#Conclusions\" data-toc-modified-id=\"Выводы-3\"><span class=\"toc-item-num\">3&nbsp;&nbsp;</span>Testing and conclusions</a></span></li></ul></div>"
      ]
    },
    {
      "cell_type": "markdown",
      "id": "180a5e34",
      "metadata": {
        "id": "180a5e34"
      },
      "source": [
        "# 1. Explonatory analyses"
      ]
    },
    {
      "cell_type": "code",
      "execution_count": 9,
      "id": "424a0f64",
      "metadata": {
        "id": "424a0f64"
      },
      "outputs": [],
      "source": [
        "import warnings\n",
        "import pickle\n",
        "import time\n",
        "import json\n",
        "import six\n",
        "import pandas as pd\n",
        "import numpy as np\n",
        "import matplotlib\n",
        "import seaborn as sns\n",
        "from matplotlib import pyplot as plt\n",
        "from googletrans import Translator\n",
        "from google.cloud import translate_v2 as translate\n",
        "from google.cloud import storage\n",
        "import googletrans\n",
        "\n",
        "from sklearn.preprocessing import StandardScaler, PolynomialFeatures, OrdinalEncoder, OneHotEncoder\n",
        "from sklearn.pipeline import Pipeline\n",
        "from sklearn.model_selection import train_test_split, GridSearchCV, cross_val_score, ShuffleSplit\n",
        "from sklearn.metrics import mean_squared_error\n",
        "\n",
        "from sklearn.tree import DecisionTreeRegressor\n",
        "from sklearn.ensemble import RandomForestRegressor\n",
        "from sklearn.linear_model import LinearRegression\n",
        "from lightgbm import LGBMRegressor\n",
        "from sklearn.linear_model import Lasso\n",
        "from catboost import CatBoostRegressor, Pool\n",
        "\n",
        "from geopy.geocoders import Nominatim\n",
        "from geopy.extra.rate_limiter import RateLimiter\n",
        "\n",
        "\n",
        "%matplotlib inline\n",
        "matplotlib.rcParams[\"figure.figsize\"] = (20,10)\n",
        "warnings.filterwarnings('ignore')"
      ]
    },
    {
      "cell_type": "markdown",
      "id": "9229de74",
      "metadata": {
        "id": "9229de74"
      },
      "source": [
        "Download and preprocess our data."
      ]
    },
    {
      "cell_type": "code",
      "execution_count": 10,
      "id": "6169bcdb",
      "metadata": {
        "colab": {
          "base_uri": "https://localhost:8080/",
          "height": 206
        },
        "id": "6169bcdb",
        "outputId": "a7395ca9-f481-4fd5-c8a5-dbb948fde36c"
      },
      "outputs": [
        {
          "output_type": "execute_result",
          "data": {
            "text/plain": [
              "  wallsMaterial  floorNumber  floorsTotal  totalArea  kitchenArea   latitude  \\\n",
              "0         brick            1          5.0       18.0          3.0  55.723379   \n",
              "1         brick            1          5.0       15.0          3.0  55.725980   \n",
              "2         brick            1          5.0       11.9          1.5  55.735976   \n",
              "3         brick            1          7.0       18.4          3.0  55.786698   \n",
              "4         brick            2          5.0       17.6          2.0  55.767894   \n",
              "\n",
              "   longitude    price  \n",
              "0  37.628577  5600000  \n",
              "1  37.671031  4650000  \n",
              "2  37.657817  2990000  \n",
              "3  37.595321  4390000  \n",
              "4  37.665920  4890000  "
            ],
            "text/html": [
              "\n",
              "  <div id=\"df-d419ac27-1978-4c43-b645-1889a15d7f50\">\n",
              "    <div class=\"colab-df-container\">\n",
              "      <div>\n",
              "<style scoped>\n",
              "    .dataframe tbody tr th:only-of-type {\n",
              "        vertical-align: middle;\n",
              "    }\n",
              "\n",
              "    .dataframe tbody tr th {\n",
              "        vertical-align: top;\n",
              "    }\n",
              "\n",
              "    .dataframe thead th {\n",
              "        text-align: right;\n",
              "    }\n",
              "</style>\n",
              "<table border=\"1\" class=\"dataframe\">\n",
              "  <thead>\n",
              "    <tr style=\"text-align: right;\">\n",
              "      <th></th>\n",
              "      <th>wallsMaterial</th>\n",
              "      <th>floorNumber</th>\n",
              "      <th>floorsTotal</th>\n",
              "      <th>totalArea</th>\n",
              "      <th>kitchenArea</th>\n",
              "      <th>latitude</th>\n",
              "      <th>longitude</th>\n",
              "      <th>price</th>\n",
              "    </tr>\n",
              "  </thead>\n",
              "  <tbody>\n",
              "    <tr>\n",
              "      <th>0</th>\n",
              "      <td>brick</td>\n",
              "      <td>1</td>\n",
              "      <td>5.0</td>\n",
              "      <td>18.0</td>\n",
              "      <td>3.0</td>\n",
              "      <td>55.723379</td>\n",
              "      <td>37.628577</td>\n",
              "      <td>5600000</td>\n",
              "    </tr>\n",
              "    <tr>\n",
              "      <th>1</th>\n",
              "      <td>brick</td>\n",
              "      <td>1</td>\n",
              "      <td>5.0</td>\n",
              "      <td>15.0</td>\n",
              "      <td>3.0</td>\n",
              "      <td>55.725980</td>\n",
              "      <td>37.671031</td>\n",
              "      <td>4650000</td>\n",
              "    </tr>\n",
              "    <tr>\n",
              "      <th>2</th>\n",
              "      <td>brick</td>\n",
              "      <td>1</td>\n",
              "      <td>5.0</td>\n",
              "      <td>11.9</td>\n",
              "      <td>1.5</td>\n",
              "      <td>55.735976</td>\n",
              "      <td>37.657817</td>\n",
              "      <td>2990000</td>\n",
              "    </tr>\n",
              "    <tr>\n",
              "      <th>3</th>\n",
              "      <td>brick</td>\n",
              "      <td>1</td>\n",
              "      <td>7.0</td>\n",
              "      <td>18.4</td>\n",
              "      <td>3.0</td>\n",
              "      <td>55.786698</td>\n",
              "      <td>37.595321</td>\n",
              "      <td>4390000</td>\n",
              "    </tr>\n",
              "    <tr>\n",
              "      <th>4</th>\n",
              "      <td>brick</td>\n",
              "      <td>2</td>\n",
              "      <td>5.0</td>\n",
              "      <td>17.6</td>\n",
              "      <td>2.0</td>\n",
              "      <td>55.767894</td>\n",
              "      <td>37.665920</td>\n",
              "      <td>4890000</td>\n",
              "    </tr>\n",
              "  </tbody>\n",
              "</table>\n",
              "</div>\n",
              "      <button class=\"colab-df-convert\" onclick=\"convertToInteractive('df-d419ac27-1978-4c43-b645-1889a15d7f50')\"\n",
              "              title=\"Convert this dataframe to an interactive table.\"\n",
              "              style=\"display:none;\">\n",
              "        \n",
              "  <svg xmlns=\"http://www.w3.org/2000/svg\" height=\"24px\"viewBox=\"0 0 24 24\"\n",
              "       width=\"24px\">\n",
              "    <path d=\"M0 0h24v24H0V0z\" fill=\"none\"/>\n",
              "    <path d=\"M18.56 5.44l.94 2.06.94-2.06 2.06-.94-2.06-.94-.94-2.06-.94 2.06-2.06.94zm-11 1L8.5 8.5l.94-2.06 2.06-.94-2.06-.94L8.5 2.5l-.94 2.06-2.06.94zm10 10l.94 2.06.94-2.06 2.06-.94-2.06-.94-.94-2.06-.94 2.06-2.06.94z\"/><path d=\"M17.41 7.96l-1.37-1.37c-.4-.4-.92-.59-1.43-.59-.52 0-1.04.2-1.43.59L10.3 9.45l-7.72 7.72c-.78.78-.78 2.05 0 2.83L4 21.41c.39.39.9.59 1.41.59.51 0 1.02-.2 1.41-.59l7.78-7.78 2.81-2.81c.8-.78.8-2.07 0-2.86zM5.41 20L4 18.59l7.72-7.72 1.47 1.35L5.41 20z\"/>\n",
              "  </svg>\n",
              "      </button>\n",
              "      \n",
              "  <style>\n",
              "    .colab-df-container {\n",
              "      display:flex;\n",
              "      flex-wrap:wrap;\n",
              "      gap: 12px;\n",
              "    }\n",
              "\n",
              "    .colab-df-convert {\n",
              "      background-color: #E8F0FE;\n",
              "      border: none;\n",
              "      border-radius: 50%;\n",
              "      cursor: pointer;\n",
              "      display: none;\n",
              "      fill: #1967D2;\n",
              "      height: 32px;\n",
              "      padding: 0 0 0 0;\n",
              "      width: 32px;\n",
              "    }\n",
              "\n",
              "    .colab-df-convert:hover {\n",
              "      background-color: #E2EBFA;\n",
              "      box-shadow: 0px 1px 2px rgba(60, 64, 67, 0.3), 0px 1px 3px 1px rgba(60, 64, 67, 0.15);\n",
              "      fill: #174EA6;\n",
              "    }\n",
              "\n",
              "    [theme=dark] .colab-df-convert {\n",
              "      background-color: #3B4455;\n",
              "      fill: #D2E3FC;\n",
              "    }\n",
              "\n",
              "    [theme=dark] .colab-df-convert:hover {\n",
              "      background-color: #434B5C;\n",
              "      box-shadow: 0px 1px 3px 1px rgba(0, 0, 0, 0.15);\n",
              "      filter: drop-shadow(0px 1px 2px rgba(0, 0, 0, 0.3));\n",
              "      fill: #FFFFFF;\n",
              "    }\n",
              "  </style>\n",
              "\n",
              "      <script>\n",
              "        const buttonEl =\n",
              "          document.querySelector('#df-d419ac27-1978-4c43-b645-1889a15d7f50 button.colab-df-convert');\n",
              "        buttonEl.style.display =\n",
              "          google.colab.kernel.accessAllowed ? 'block' : 'none';\n",
              "\n",
              "        async function convertToInteractive(key) {\n",
              "          const element = document.querySelector('#df-d419ac27-1978-4c43-b645-1889a15d7f50');\n",
              "          const dataTable =\n",
              "            await google.colab.kernel.invokeFunction('convertToInteractive',\n",
              "                                                     [key], {});\n",
              "          if (!dataTable) return;\n",
              "\n",
              "          const docLinkHtml = 'Like what you see? Visit the ' +\n",
              "            '<a target=\"_blank\" href=https://colab.research.google.com/notebooks/data_table.ipynb>data table notebook</a>'\n",
              "            + ' to learn more about interactive tables.';\n",
              "          element.innerHTML = '';\n",
              "          dataTable['output_type'] = 'display_data';\n",
              "          await google.colab.output.renderOutput(dataTable, element);\n",
              "          const docLink = document.createElement('div');\n",
              "          docLink.innerHTML = docLinkHtml;\n",
              "          element.appendChild(docLink);\n",
              "        }\n",
              "      </script>\n",
              "    </div>\n",
              "  </div>\n",
              "  "
            ]
          },
          "metadata": {},
          "execution_count": 10
        }
      ],
      "source": [
        "# import of dataset into dataframe\n",
        "df1 = pd.read_csv('moscow_dataset_2020.csv')\n",
        "df1.head()"
      ]
    },
    {
      "cell_type": "code",
      "execution_count": 11,
      "id": "55923ab4",
      "metadata": {
        "colab": {
          "base_uri": "https://localhost:8080/"
        },
        "id": "55923ab4",
        "outputId": "c545ac58-4bf3-422c-a0e4-5aeb8b06a959"
      },
      "outputs": [
        {
          "output_type": "execute_result",
          "data": {
            "text/plain": [
              "(63945, 8)"
            ]
          },
          "metadata": {},
          "execution_count": 11
        }
      ],
      "source": [
        "df1.shape"
      ]
    },
    {
      "cell_type": "markdown",
      "id": "f3e3bf54",
      "metadata": {
        "id": "f3e3bf54"
      },
      "source": [
        "Let's rename our columns. Let's estimate types of the house where flats are located"
      ]
    },
    {
      "cell_type": "code",
      "execution_count": 12,
      "id": "10fd8237",
      "metadata": {
        "id": "10fd8237"
      },
      "outputs": [],
      "source": [
        "df1.columns = ['walls_material', 'floor_number', 'floors_total', 'area_total', 'kitchen_area', 'latitude', 'longitude', 'price']"
      ]
    },
    {
      "cell_type": "code",
      "execution_count": 13,
      "id": "b618346a",
      "metadata": {
        "colab": {
          "base_uri": "https://localhost:8080/"
        },
        "id": "b618346a",
        "outputId": "c1b5f2c1-693f-496b-886a-443ac6576a60"
      },
      "outputs": [
        {
          "output_type": "execute_result",
          "data": {
            "text/plain": [
              "walls_material\n",
              "None                 2\n",
              "block             3954\n",
              "brick            12899\n",
              "monolith         14702\n",
              "monolithBrick     5400\n",
              "old                 12\n",
              "panel            25728\n",
              "stalin            1225\n",
              "wood                23\n",
              "Name: walls_material, dtype: int64"
            ]
          },
          "metadata": {},
          "execution_count": 13
        }
      ],
      "source": [
        "df1.groupby('walls_material')['walls_material'].agg('count')"
      ]
    },
    {
      "cell_type": "code",
      "execution_count": 14,
      "id": "7c3a0591",
      "metadata": {
        "colab": {
          "base_uri": "https://localhost:8080/",
          "height": 112
        },
        "id": "7c3a0591",
        "outputId": "86c28144-5b39-44c4-be5c-8f7b401e6f0c"
      },
      "outputs": [
        {
          "output_type": "execute_result",
          "data": {
            "text/plain": [
              "      walls_material  floor_number  floors_total  area_total  kitchen_area  \\\n",
              "21811           None             6           9.0        50.0           6.0   \n",
              "33183           None             1           4.0        90.0           9.0   \n",
              "\n",
              "        latitude  longitude     price  \n",
              "21811  55.630146  37.507924   9700000  \n",
              "33183  55.771337  37.635566  18400000  "
            ],
            "text/html": [
              "\n",
              "  <div id=\"df-cdc0c218-83bd-4da8-a8fd-d16327e9c5c3\">\n",
              "    <div class=\"colab-df-container\">\n",
              "      <div>\n",
              "<style scoped>\n",
              "    .dataframe tbody tr th:only-of-type {\n",
              "        vertical-align: middle;\n",
              "    }\n",
              "\n",
              "    .dataframe tbody tr th {\n",
              "        vertical-align: top;\n",
              "    }\n",
              "\n",
              "    .dataframe thead th {\n",
              "        text-align: right;\n",
              "    }\n",
              "</style>\n",
              "<table border=\"1\" class=\"dataframe\">\n",
              "  <thead>\n",
              "    <tr style=\"text-align: right;\">\n",
              "      <th></th>\n",
              "      <th>walls_material</th>\n",
              "      <th>floor_number</th>\n",
              "      <th>floors_total</th>\n",
              "      <th>area_total</th>\n",
              "      <th>kitchen_area</th>\n",
              "      <th>latitude</th>\n",
              "      <th>longitude</th>\n",
              "      <th>price</th>\n",
              "    </tr>\n",
              "  </thead>\n",
              "  <tbody>\n",
              "    <tr>\n",
              "      <th>21811</th>\n",
              "      <td>None</td>\n",
              "      <td>6</td>\n",
              "      <td>9.0</td>\n",
              "      <td>50.0</td>\n",
              "      <td>6.0</td>\n",
              "      <td>55.630146</td>\n",
              "      <td>37.507924</td>\n",
              "      <td>9700000</td>\n",
              "    </tr>\n",
              "    <tr>\n",
              "      <th>33183</th>\n",
              "      <td>None</td>\n",
              "      <td>1</td>\n",
              "      <td>4.0</td>\n",
              "      <td>90.0</td>\n",
              "      <td>9.0</td>\n",
              "      <td>55.771337</td>\n",
              "      <td>37.635566</td>\n",
              "      <td>18400000</td>\n",
              "    </tr>\n",
              "  </tbody>\n",
              "</table>\n",
              "</div>\n",
              "      <button class=\"colab-df-convert\" onclick=\"convertToInteractive('df-cdc0c218-83bd-4da8-a8fd-d16327e9c5c3')\"\n",
              "              title=\"Convert this dataframe to an interactive table.\"\n",
              "              style=\"display:none;\">\n",
              "        \n",
              "  <svg xmlns=\"http://www.w3.org/2000/svg\" height=\"24px\"viewBox=\"0 0 24 24\"\n",
              "       width=\"24px\">\n",
              "    <path d=\"M0 0h24v24H0V0z\" fill=\"none\"/>\n",
              "    <path d=\"M18.56 5.44l.94 2.06.94-2.06 2.06-.94-2.06-.94-.94-2.06-.94 2.06-2.06.94zm-11 1L8.5 8.5l.94-2.06 2.06-.94-2.06-.94L8.5 2.5l-.94 2.06-2.06.94zm10 10l.94 2.06.94-2.06 2.06-.94-2.06-.94-.94-2.06-.94 2.06-2.06.94z\"/><path d=\"M17.41 7.96l-1.37-1.37c-.4-.4-.92-.59-1.43-.59-.52 0-1.04.2-1.43.59L10.3 9.45l-7.72 7.72c-.78.78-.78 2.05 0 2.83L4 21.41c.39.39.9.59 1.41.59.51 0 1.02-.2 1.41-.59l7.78-7.78 2.81-2.81c.8-.78.8-2.07 0-2.86zM5.41 20L4 18.59l7.72-7.72 1.47 1.35L5.41 20z\"/>\n",
              "  </svg>\n",
              "      </button>\n",
              "      \n",
              "  <style>\n",
              "    .colab-df-container {\n",
              "      display:flex;\n",
              "      flex-wrap:wrap;\n",
              "      gap: 12px;\n",
              "    }\n",
              "\n",
              "    .colab-df-convert {\n",
              "      background-color: #E8F0FE;\n",
              "      border: none;\n",
              "      border-radius: 50%;\n",
              "      cursor: pointer;\n",
              "      display: none;\n",
              "      fill: #1967D2;\n",
              "      height: 32px;\n",
              "      padding: 0 0 0 0;\n",
              "      width: 32px;\n",
              "    }\n",
              "\n",
              "    .colab-df-convert:hover {\n",
              "      background-color: #E2EBFA;\n",
              "      box-shadow: 0px 1px 2px rgba(60, 64, 67, 0.3), 0px 1px 3px 1px rgba(60, 64, 67, 0.15);\n",
              "      fill: #174EA6;\n",
              "    }\n",
              "\n",
              "    [theme=dark] .colab-df-convert {\n",
              "      background-color: #3B4455;\n",
              "      fill: #D2E3FC;\n",
              "    }\n",
              "\n",
              "    [theme=dark] .colab-df-convert:hover {\n",
              "      background-color: #434B5C;\n",
              "      box-shadow: 0px 1px 3px 1px rgba(0, 0, 0, 0.15);\n",
              "      filter: drop-shadow(0px 1px 2px rgba(0, 0, 0, 0.3));\n",
              "      fill: #FFFFFF;\n",
              "    }\n",
              "  </style>\n",
              "\n",
              "      <script>\n",
              "        const buttonEl =\n",
              "          document.querySelector('#df-cdc0c218-83bd-4da8-a8fd-d16327e9c5c3 button.colab-df-convert');\n",
              "        buttonEl.style.display =\n",
              "          google.colab.kernel.accessAllowed ? 'block' : 'none';\n",
              "\n",
              "        async function convertToInteractive(key) {\n",
              "          const element = document.querySelector('#df-cdc0c218-83bd-4da8-a8fd-d16327e9c5c3');\n",
              "          const dataTable =\n",
              "            await google.colab.kernel.invokeFunction('convertToInteractive',\n",
              "                                                     [key], {});\n",
              "          if (!dataTable) return;\n",
              "\n",
              "          const docLinkHtml = 'Like what you see? Visit the ' +\n",
              "            '<a target=\"_blank\" href=https://colab.research.google.com/notebooks/data_table.ipynb>data table notebook</a>'\n",
              "            + ' to learn more about interactive tables.';\n",
              "          element.innerHTML = '';\n",
              "          dataTable['output_type'] = 'display_data';\n",
              "          await google.colab.output.renderOutput(dataTable, element);\n",
              "          const docLink = document.createElement('div');\n",
              "          docLink.innerHTML = docLinkHtml;\n",
              "          element.appendChild(docLink);\n",
              "        }\n",
              "      </script>\n",
              "    </div>\n",
              "  </div>\n",
              "  "
            ]
          },
          "metadata": {},
          "execution_count": 14
        }
      ],
      "source": [
        "df1.loc[df1.walls_material == 'None']"
      ]
    },
    {
      "cell_type": "code",
      "execution_count": 15,
      "id": "b75ea943",
      "metadata": {
        "id": "b75ea943"
      },
      "outputs": [],
      "source": [
        "df1 = df1.loc[df1.walls_material != 'None']"
      ]
    },
    {
      "cell_type": "code",
      "execution_count": 16,
      "id": "6661f51b",
      "metadata": {
        "colab": {
          "base_uri": "https://localhost:8080/"
        },
        "id": "6661f51b",
        "outputId": "15881a77-983c-4ef8-cf92-2a0d1724cc04"
      },
      "outputs": [
        {
          "output_type": "execute_result",
          "data": {
            "text/plain": [
              "(63943, 8)"
            ]
          },
          "metadata": {},
          "execution_count": 16
        }
      ],
      "source": [
        "df1.shape"
      ]
    },
    {
      "cell_type": "markdown",
      "id": "6358b78c",
      "metadata": {
        "id": "6358b78c"
      },
      "source": [
        "Since it is not clear what is meant by an old type of the house and number of values is not big, those cells can be droped.  "
      ]
    },
    {
      "cell_type": "code",
      "execution_count": 17,
      "id": "2b196e6a",
      "metadata": {
        "id": "2b196e6a"
      },
      "outputs": [],
      "source": [
        "df1 = df1.query('walls_material != \"old\"')"
      ]
    },
    {
      "cell_type": "code",
      "execution_count": 18,
      "id": "04154108",
      "metadata": {
        "colab": {
          "base_uri": "https://localhost:8080/"
        },
        "id": "04154108",
        "outputId": "32813c71-2104-47df-8173-ad559a203721"
      },
      "outputs": [
        {
          "output_type": "execute_result",
          "data": {
            "text/plain": [
              "(63931, 8)"
            ]
          },
          "metadata": {},
          "execution_count": 18
        }
      ],
      "source": [
        "df1.shape"
      ]
    },
    {
      "cell_type": "code",
      "execution_count": 19,
      "id": "b71d1930",
      "metadata": {
        "colab": {
          "base_uri": "https://localhost:8080/"
        },
        "id": "b71d1930",
        "outputId": "1dad1ec9-623a-4847-a75d-fbbcb3ce023b"
      },
      "outputs": [
        {
          "output_type": "stream",
          "name": "stdout",
          "text": [
            "<class 'pandas.core.frame.DataFrame'>\n",
            "Int64Index: 63931 entries, 0 to 63944\n",
            "Data columns (total 8 columns):\n",
            " #   Column          Non-Null Count  Dtype  \n",
            "---  ------          --------------  -----  \n",
            " 0   walls_material  63931 non-null  object \n",
            " 1   floor_number    63931 non-null  int64  \n",
            " 2   floors_total    63931 non-null  float64\n",
            " 3   area_total      63931 non-null  float64\n",
            " 4   kitchen_area    63931 non-null  float64\n",
            " 5   latitude        63931 non-null  float64\n",
            " 6   longitude       63931 non-null  float64\n",
            " 7   price           63931 non-null  int64  \n",
            "dtypes: float64(5), int64(2), object(1)\n",
            "memory usage: 4.4+ MB\n"
          ]
        }
      ],
      "source": [
        "df1.info()"
      ]
    },
    {
      "cell_type": "code",
      "execution_count": 20,
      "id": "809d9e8a",
      "metadata": {
        "id": "809d9e8a"
      },
      "outputs": [],
      "source": [
        "df1.floorsTotal = df1['floors_total'].astype('int64')"
      ]
    },
    {
      "cell_type": "code",
      "execution_count": 21,
      "id": "965040de",
      "metadata": {
        "colab": {
          "base_uri": "https://localhost:8080/"
        },
        "id": "965040de",
        "outputId": "067f1ba0-bd95-461b-d916-ef15ba394ea4"
      },
      "outputs": [
        {
          "output_type": "stream",
          "name": "stdout",
          "text": [
            "<class 'pandas.core.frame.DataFrame'>\n",
            "Int64Index: 63931 entries, 0 to 63944\n",
            "Data columns (total 8 columns):\n",
            " #   Column          Non-Null Count  Dtype  \n",
            "---  ------          --------------  -----  \n",
            " 0   walls_material  63931 non-null  object \n",
            " 1   floor_number    63931 non-null  int64  \n",
            " 2   floors_total    63931 non-null  float64\n",
            " 3   area_total      63931 non-null  float64\n",
            " 4   kitchen_area    63931 non-null  float64\n",
            " 5   latitude        63931 non-null  float64\n",
            " 6   longitude       63931 non-null  float64\n",
            " 7   price           63931 non-null  int64  \n",
            "dtypes: float64(5), int64(2), object(1)\n",
            "memory usage: 4.4+ MB\n"
          ]
        }
      ],
      "source": [
        "# Let's check the changes\n",
        "df1.info()"
      ]
    },
    {
      "cell_type": "code",
      "execution_count": 22,
      "id": "b598afff",
      "metadata": {
        "colab": {
          "base_uri": "https://localhost:8080/"
        },
        "id": "b598afff",
        "outputId": "bfc9ec61-fd4f-451c-a391-06f11c20baf8"
      },
      "outputs": [
        {
          "output_type": "execute_result",
          "data": {
            "text/plain": [
              "array(['brick', 'monolithBrick', 'panel', 'block', 'monolith', 'stalin',\n",
              "       'wood'], dtype=object)"
            ]
          },
          "metadata": {},
          "execution_count": 22
        }
      ],
      "source": [
        "df1.walls_material.unique()"
      ]
    },
    {
      "cell_type": "code",
      "execution_count": 23,
      "id": "a7651ccf",
      "metadata": {
        "colab": {
          "base_uri": "https://localhost:8080/",
          "height": 269
        },
        "id": "a7651ccf",
        "outputId": "8a0d27ec-c7b6-4811-bda4-9bfd59198d94"
      },
      "outputs": [
        {
          "output_type": "execute_result",
          "data": {
            "text/plain": [
              "                count          mean           std            min  \\\n",
              "floor_number  63931.0  7.779856e+00  6.360001e+00       1.000000   \n",
              "floors_total  63931.0  1.475933e+01  8.399842e+00       1.000000   \n",
              "area_total    63931.0  6.907639e+01  4.373888e+01      10.600000   \n",
              "kitchen_area  63931.0  1.102588e+01  5.831423e+00       1.000000   \n",
              "latitude      63931.0  5.572897e+01  1.000278e-01      55.211466   \n",
              "longitude     63931.0  3.757855e+01  1.467774e-01      36.864371   \n",
              "price         63931.0  1.814283e+07  3.046588e+07  750000.000000   \n",
              "\n",
              "                       25%           50%           75%           max  \n",
              "floor_number  3.000000e+00  6.000000e+00  1.100000e+01  8.100000e+01  \n",
              "floors_total  9.000000e+00  1.400000e+01  1.700000e+01  9.900000e+01  \n",
              "area_total    4.400000e+01  5.900000e+01  7.800000e+01  5.000000e+02  \n",
              "kitchen_area  8.000000e+00  1.000000e+01  1.200000e+01  1.150000e+02  \n",
              "latitude      5.566133e+01  5.573126e+01  5.579848e+01  5.601103e+01  \n",
              "longitude     3.749059e+01  3.757217e+01  3.766766e+01  3.795067e+01  \n",
              "price         8.150000e+06  1.128500e+07  1.758200e+07  1.290089e+09  "
            ],
            "text/html": [
              "\n",
              "  <div id=\"df-b96e0fb2-a525-4530-922d-0e6eb639d0f5\">\n",
              "    <div class=\"colab-df-container\">\n",
              "      <div>\n",
              "<style scoped>\n",
              "    .dataframe tbody tr th:only-of-type {\n",
              "        vertical-align: middle;\n",
              "    }\n",
              "\n",
              "    .dataframe tbody tr th {\n",
              "        vertical-align: top;\n",
              "    }\n",
              "\n",
              "    .dataframe thead th {\n",
              "        text-align: right;\n",
              "    }\n",
              "</style>\n",
              "<table border=\"1\" class=\"dataframe\">\n",
              "  <thead>\n",
              "    <tr style=\"text-align: right;\">\n",
              "      <th></th>\n",
              "      <th>count</th>\n",
              "      <th>mean</th>\n",
              "      <th>std</th>\n",
              "      <th>min</th>\n",
              "      <th>25%</th>\n",
              "      <th>50%</th>\n",
              "      <th>75%</th>\n",
              "      <th>max</th>\n",
              "    </tr>\n",
              "  </thead>\n",
              "  <tbody>\n",
              "    <tr>\n",
              "      <th>floor_number</th>\n",
              "      <td>63931.0</td>\n",
              "      <td>7.779856e+00</td>\n",
              "      <td>6.360001e+00</td>\n",
              "      <td>1.000000</td>\n",
              "      <td>3.000000e+00</td>\n",
              "      <td>6.000000e+00</td>\n",
              "      <td>1.100000e+01</td>\n",
              "      <td>8.100000e+01</td>\n",
              "    </tr>\n",
              "    <tr>\n",
              "      <th>floors_total</th>\n",
              "      <td>63931.0</td>\n",
              "      <td>1.475933e+01</td>\n",
              "      <td>8.399842e+00</td>\n",
              "      <td>1.000000</td>\n",
              "      <td>9.000000e+00</td>\n",
              "      <td>1.400000e+01</td>\n",
              "      <td>1.700000e+01</td>\n",
              "      <td>9.900000e+01</td>\n",
              "    </tr>\n",
              "    <tr>\n",
              "      <th>area_total</th>\n",
              "      <td>63931.0</td>\n",
              "      <td>6.907639e+01</td>\n",
              "      <td>4.373888e+01</td>\n",
              "      <td>10.600000</td>\n",
              "      <td>4.400000e+01</td>\n",
              "      <td>5.900000e+01</td>\n",
              "      <td>7.800000e+01</td>\n",
              "      <td>5.000000e+02</td>\n",
              "    </tr>\n",
              "    <tr>\n",
              "      <th>kitchen_area</th>\n",
              "      <td>63931.0</td>\n",
              "      <td>1.102588e+01</td>\n",
              "      <td>5.831423e+00</td>\n",
              "      <td>1.000000</td>\n",
              "      <td>8.000000e+00</td>\n",
              "      <td>1.000000e+01</td>\n",
              "      <td>1.200000e+01</td>\n",
              "      <td>1.150000e+02</td>\n",
              "    </tr>\n",
              "    <tr>\n",
              "      <th>latitude</th>\n",
              "      <td>63931.0</td>\n",
              "      <td>5.572897e+01</td>\n",
              "      <td>1.000278e-01</td>\n",
              "      <td>55.211466</td>\n",
              "      <td>5.566133e+01</td>\n",
              "      <td>5.573126e+01</td>\n",
              "      <td>5.579848e+01</td>\n",
              "      <td>5.601103e+01</td>\n",
              "    </tr>\n",
              "    <tr>\n",
              "      <th>longitude</th>\n",
              "      <td>63931.0</td>\n",
              "      <td>3.757855e+01</td>\n",
              "      <td>1.467774e-01</td>\n",
              "      <td>36.864371</td>\n",
              "      <td>3.749059e+01</td>\n",
              "      <td>3.757217e+01</td>\n",
              "      <td>3.766766e+01</td>\n",
              "      <td>3.795067e+01</td>\n",
              "    </tr>\n",
              "    <tr>\n",
              "      <th>price</th>\n",
              "      <td>63931.0</td>\n",
              "      <td>1.814283e+07</td>\n",
              "      <td>3.046588e+07</td>\n",
              "      <td>750000.000000</td>\n",
              "      <td>8.150000e+06</td>\n",
              "      <td>1.128500e+07</td>\n",
              "      <td>1.758200e+07</td>\n",
              "      <td>1.290089e+09</td>\n",
              "    </tr>\n",
              "  </tbody>\n",
              "</table>\n",
              "</div>\n",
              "      <button class=\"colab-df-convert\" onclick=\"convertToInteractive('df-b96e0fb2-a525-4530-922d-0e6eb639d0f5')\"\n",
              "              title=\"Convert this dataframe to an interactive table.\"\n",
              "              style=\"display:none;\">\n",
              "        \n",
              "  <svg xmlns=\"http://www.w3.org/2000/svg\" height=\"24px\"viewBox=\"0 0 24 24\"\n",
              "       width=\"24px\">\n",
              "    <path d=\"M0 0h24v24H0V0z\" fill=\"none\"/>\n",
              "    <path d=\"M18.56 5.44l.94 2.06.94-2.06 2.06-.94-2.06-.94-.94-2.06-.94 2.06-2.06.94zm-11 1L8.5 8.5l.94-2.06 2.06-.94-2.06-.94L8.5 2.5l-.94 2.06-2.06.94zm10 10l.94 2.06.94-2.06 2.06-.94-2.06-.94-.94-2.06-.94 2.06-2.06.94z\"/><path d=\"M17.41 7.96l-1.37-1.37c-.4-.4-.92-.59-1.43-.59-.52 0-1.04.2-1.43.59L10.3 9.45l-7.72 7.72c-.78.78-.78 2.05 0 2.83L4 21.41c.39.39.9.59 1.41.59.51 0 1.02-.2 1.41-.59l7.78-7.78 2.81-2.81c.8-.78.8-2.07 0-2.86zM5.41 20L4 18.59l7.72-7.72 1.47 1.35L5.41 20z\"/>\n",
              "  </svg>\n",
              "      </button>\n",
              "      \n",
              "  <style>\n",
              "    .colab-df-container {\n",
              "      display:flex;\n",
              "      flex-wrap:wrap;\n",
              "      gap: 12px;\n",
              "    }\n",
              "\n",
              "    .colab-df-convert {\n",
              "      background-color: #E8F0FE;\n",
              "      border: none;\n",
              "      border-radius: 50%;\n",
              "      cursor: pointer;\n",
              "      display: none;\n",
              "      fill: #1967D2;\n",
              "      height: 32px;\n",
              "      padding: 0 0 0 0;\n",
              "      width: 32px;\n",
              "    }\n",
              "\n",
              "    .colab-df-convert:hover {\n",
              "      background-color: #E2EBFA;\n",
              "      box-shadow: 0px 1px 2px rgba(60, 64, 67, 0.3), 0px 1px 3px 1px rgba(60, 64, 67, 0.15);\n",
              "      fill: #174EA6;\n",
              "    }\n",
              "\n",
              "    [theme=dark] .colab-df-convert {\n",
              "      background-color: #3B4455;\n",
              "      fill: #D2E3FC;\n",
              "    }\n",
              "\n",
              "    [theme=dark] .colab-df-convert:hover {\n",
              "      background-color: #434B5C;\n",
              "      box-shadow: 0px 1px 3px 1px rgba(0, 0, 0, 0.15);\n",
              "      filter: drop-shadow(0px 1px 2px rgba(0, 0, 0, 0.3));\n",
              "      fill: #FFFFFF;\n",
              "    }\n",
              "  </style>\n",
              "\n",
              "      <script>\n",
              "        const buttonEl =\n",
              "          document.querySelector('#df-b96e0fb2-a525-4530-922d-0e6eb639d0f5 button.colab-df-convert');\n",
              "        buttonEl.style.display =\n",
              "          google.colab.kernel.accessAllowed ? 'block' : 'none';\n",
              "\n",
              "        async function convertToInteractive(key) {\n",
              "          const element = document.querySelector('#df-b96e0fb2-a525-4530-922d-0e6eb639d0f5');\n",
              "          const dataTable =\n",
              "            await google.colab.kernel.invokeFunction('convertToInteractive',\n",
              "                                                     [key], {});\n",
              "          if (!dataTable) return;\n",
              "\n",
              "          const docLinkHtml = 'Like what you see? Visit the ' +\n",
              "            '<a target=\"_blank\" href=https://colab.research.google.com/notebooks/data_table.ipynb>data table notebook</a>'\n",
              "            + ' to learn more about interactive tables.';\n",
              "          element.innerHTML = '';\n",
              "          dataTable['output_type'] = 'display_data';\n",
              "          await google.colab.output.renderOutput(dataTable, element);\n",
              "          const docLink = document.createElement('div');\n",
              "          docLink.innerHTML = docLinkHtml;\n",
              "          element.appendChild(docLink);\n",
              "        }\n",
              "      </script>\n",
              "    </div>\n",
              "  </div>\n",
              "  "
            ]
          },
          "metadata": {},
          "execution_count": 23
        }
      ],
      "source": [
        "df1.describe().T"
      ]
    },
    {
      "cell_type": "markdown",
      "id": "61c251fd",
      "metadata": {
        "id": "61c251fd"
      },
      "source": [
        "# 2. Data preprocessing and Training of the ML models"
      ]
    },
    {
      "cell_type": "markdown",
      "id": "d0da09df",
      "metadata": {
        "id": "d0da09df"
      },
      "source": [
        "Let's teach the following models:\n",
        "\n",
        "* LinearRegression;\n",
        "* DecisionTreeRegression;\n",
        "* RandomForestRegressor;\n",
        "* CarBoostRegressor;\n",
        "* LGBMRegressor;\n",
        "* XGBoostRegressor.\n",
        "\n",
        "We will apply RMSE metric for our project which shall be applied on cross validation.\n",
        "\n",
        "It is necessary to prepare ohe_features for cross validation."
      ]
    },
    {
      "cell_type": "markdown",
      "id": "95cff687",
      "metadata": {
        "id": "95cff687"
      },
      "source": [
        "## 2.1 Data preprocessing"
      ]
    },
    {
      "cell_type": "code",
      "execution_count": 24,
      "id": "49592697",
      "metadata": {
        "colab": {
          "base_uri": "https://localhost:8080/",
          "height": 206
        },
        "id": "49592697",
        "outputId": "b785bc12-97f7-4ae6-e92c-6f3c24cf73ef"
      },
      "outputs": [
        {
          "output_type": "execute_result",
          "data": {
            "text/plain": [
              "   block  brick  monolith  monolith_brick  panel  stalin  wood\n",
              "0      0      1         0               0      0       0     0\n",
              "1      0      1         0               0      0       0     0\n",
              "2      0      1         0               0      0       0     0\n",
              "3      0      1         0               0      0       0     0\n",
              "4      0      1         0               0      0       0     0"
            ],
            "text/html": [
              "\n",
              "  <div id=\"df-1d55def8-4cae-4180-b924-684f8a1d8eef\">\n",
              "    <div class=\"colab-df-container\">\n",
              "      <div>\n",
              "<style scoped>\n",
              "    .dataframe tbody tr th:only-of-type {\n",
              "        vertical-align: middle;\n",
              "    }\n",
              "\n",
              "    .dataframe tbody tr th {\n",
              "        vertical-align: top;\n",
              "    }\n",
              "\n",
              "    .dataframe thead th {\n",
              "        text-align: right;\n",
              "    }\n",
              "</style>\n",
              "<table border=\"1\" class=\"dataframe\">\n",
              "  <thead>\n",
              "    <tr style=\"text-align: right;\">\n",
              "      <th></th>\n",
              "      <th>block</th>\n",
              "      <th>brick</th>\n",
              "      <th>monolith</th>\n",
              "      <th>monolith_brick</th>\n",
              "      <th>panel</th>\n",
              "      <th>stalin</th>\n",
              "      <th>wood</th>\n",
              "    </tr>\n",
              "  </thead>\n",
              "  <tbody>\n",
              "    <tr>\n",
              "      <th>0</th>\n",
              "      <td>0</td>\n",
              "      <td>1</td>\n",
              "      <td>0</td>\n",
              "      <td>0</td>\n",
              "      <td>0</td>\n",
              "      <td>0</td>\n",
              "      <td>0</td>\n",
              "    </tr>\n",
              "    <tr>\n",
              "      <th>1</th>\n",
              "      <td>0</td>\n",
              "      <td>1</td>\n",
              "      <td>0</td>\n",
              "      <td>0</td>\n",
              "      <td>0</td>\n",
              "      <td>0</td>\n",
              "      <td>0</td>\n",
              "    </tr>\n",
              "    <tr>\n",
              "      <th>2</th>\n",
              "      <td>0</td>\n",
              "      <td>1</td>\n",
              "      <td>0</td>\n",
              "      <td>0</td>\n",
              "      <td>0</td>\n",
              "      <td>0</td>\n",
              "      <td>0</td>\n",
              "    </tr>\n",
              "    <tr>\n",
              "      <th>3</th>\n",
              "      <td>0</td>\n",
              "      <td>1</td>\n",
              "      <td>0</td>\n",
              "      <td>0</td>\n",
              "      <td>0</td>\n",
              "      <td>0</td>\n",
              "      <td>0</td>\n",
              "    </tr>\n",
              "    <tr>\n",
              "      <th>4</th>\n",
              "      <td>0</td>\n",
              "      <td>1</td>\n",
              "      <td>0</td>\n",
              "      <td>0</td>\n",
              "      <td>0</td>\n",
              "      <td>0</td>\n",
              "      <td>0</td>\n",
              "    </tr>\n",
              "  </tbody>\n",
              "</table>\n",
              "</div>\n",
              "      <button class=\"colab-df-convert\" onclick=\"convertToInteractive('df-1d55def8-4cae-4180-b924-684f8a1d8eef')\"\n",
              "              title=\"Convert this dataframe to an interactive table.\"\n",
              "              style=\"display:none;\">\n",
              "        \n",
              "  <svg xmlns=\"http://www.w3.org/2000/svg\" height=\"24px\"viewBox=\"0 0 24 24\"\n",
              "       width=\"24px\">\n",
              "    <path d=\"M0 0h24v24H0V0z\" fill=\"none\"/>\n",
              "    <path d=\"M18.56 5.44l.94 2.06.94-2.06 2.06-.94-2.06-.94-.94-2.06-.94 2.06-2.06.94zm-11 1L8.5 8.5l.94-2.06 2.06-.94-2.06-.94L8.5 2.5l-.94 2.06-2.06.94zm10 10l.94 2.06.94-2.06 2.06-.94-2.06-.94-.94-2.06-.94 2.06-2.06.94z\"/><path d=\"M17.41 7.96l-1.37-1.37c-.4-.4-.92-.59-1.43-.59-.52 0-1.04.2-1.43.59L10.3 9.45l-7.72 7.72c-.78.78-.78 2.05 0 2.83L4 21.41c.39.39.9.59 1.41.59.51 0 1.02-.2 1.41-.59l7.78-7.78 2.81-2.81c.8-.78.8-2.07 0-2.86zM5.41 20L4 18.59l7.72-7.72 1.47 1.35L5.41 20z\"/>\n",
              "  </svg>\n",
              "      </button>\n",
              "      \n",
              "  <style>\n",
              "    .colab-df-container {\n",
              "      display:flex;\n",
              "      flex-wrap:wrap;\n",
              "      gap: 12px;\n",
              "    }\n",
              "\n",
              "    .colab-df-convert {\n",
              "      background-color: #E8F0FE;\n",
              "      border: none;\n",
              "      border-radius: 50%;\n",
              "      cursor: pointer;\n",
              "      display: none;\n",
              "      fill: #1967D2;\n",
              "      height: 32px;\n",
              "      padding: 0 0 0 0;\n",
              "      width: 32px;\n",
              "    }\n",
              "\n",
              "    .colab-df-convert:hover {\n",
              "      background-color: #E2EBFA;\n",
              "      box-shadow: 0px 1px 2px rgba(60, 64, 67, 0.3), 0px 1px 3px 1px rgba(60, 64, 67, 0.15);\n",
              "      fill: #174EA6;\n",
              "    }\n",
              "\n",
              "    [theme=dark] .colab-df-convert {\n",
              "      background-color: #3B4455;\n",
              "      fill: #D2E3FC;\n",
              "    }\n",
              "\n",
              "    [theme=dark] .colab-df-convert:hover {\n",
              "      background-color: #434B5C;\n",
              "      box-shadow: 0px 1px 3px 1px rgba(0, 0, 0, 0.15);\n",
              "      filter: drop-shadow(0px 1px 2px rgba(0, 0, 0, 0.3));\n",
              "      fill: #FFFFFF;\n",
              "    }\n",
              "  </style>\n",
              "\n",
              "      <script>\n",
              "        const buttonEl =\n",
              "          document.querySelector('#df-1d55def8-4cae-4180-b924-684f8a1d8eef button.colab-df-convert');\n",
              "        buttonEl.style.display =\n",
              "          google.colab.kernel.accessAllowed ? 'block' : 'none';\n",
              "\n",
              "        async function convertToInteractive(key) {\n",
              "          const element = document.querySelector('#df-1d55def8-4cae-4180-b924-684f8a1d8eef');\n",
              "          const dataTable =\n",
              "            await google.colab.kernel.invokeFunction('convertToInteractive',\n",
              "                                                     [key], {});\n",
              "          if (!dataTable) return;\n",
              "\n",
              "          const docLinkHtml = 'Like what you see? Visit the ' +\n",
              "            '<a target=\"_blank\" href=https://colab.research.google.com/notebooks/data_table.ipynb>data table notebook</a>'\n",
              "            + ' to learn more about interactive tables.';\n",
              "          element.innerHTML = '';\n",
              "          dataTable['output_type'] = 'display_data';\n",
              "          await google.colab.output.renderOutput(dataTable, element);\n",
              "          const docLink = document.createElement('div');\n",
              "          docLink.innerHTML = docLinkHtml;\n",
              "          element.appendChild(docLink);\n",
              "        }\n",
              "      </script>\n",
              "    </div>\n",
              "  </div>\n",
              "  "
            ]
          },
          "metadata": {},
          "execution_count": 24
        }
      ],
      "source": [
        "# let's turn my column into a dummy value\n",
        "dummy = pd.get_dummies(df1['walls_material'])\n",
        "dummy.columns = ['block', 'brick', 'monolith', 'monolith_brick', 'panel', 'stalin','wood']\n",
        "\n",
        "dummy.head()"
      ]
    },
    {
      "cell_type": "markdown",
      "id": "8da6379c",
      "metadata": {
        "id": "8da6379c"
      },
      "source": [
        "Let's concatenate this dummy data. "
      ]
    },
    {
      "cell_type": "code",
      "execution_count": 25,
      "id": "cce751fd",
      "metadata": {
        "colab": {
          "base_uri": "https://localhost:8080/",
          "height": 270
        },
        "id": "cce751fd",
        "outputId": "ad9566b6-7a33-4423-987a-dab20b046c74"
      },
      "outputs": [
        {
          "output_type": "execute_result",
          "data": {
            "text/plain": [
              "   floor_number  floors_total  area_total  kitchen_area   latitude  longitude  \\\n",
              "0             1           5.0        18.0           3.0  55.723379  37.628577   \n",
              "1             1           5.0        15.0           3.0  55.725980  37.671031   \n",
              "2             1           5.0        11.9           1.5  55.735976  37.657817   \n",
              "3             1           7.0        18.4           3.0  55.786698  37.595321   \n",
              "4             2           5.0        17.6           2.0  55.767894  37.665920   \n",
              "\n",
              "     price  block  brick  monolith  monolith_brick  panel  stalin  wood  \n",
              "0  5600000      0      1         0               0      0       0     0  \n",
              "1  4650000      0      1         0               0      0       0     0  \n",
              "2  2990000      0      1         0               0      0       0     0  \n",
              "3  4390000      0      1         0               0      0       0     0  \n",
              "4  4890000      0      1         0               0      0       0     0  "
            ],
            "text/html": [
              "\n",
              "  <div id=\"df-6b258bc9-6273-4ce6-be79-16c6c720f01a\">\n",
              "    <div class=\"colab-df-container\">\n",
              "      <div>\n",
              "<style scoped>\n",
              "    .dataframe tbody tr th:only-of-type {\n",
              "        vertical-align: middle;\n",
              "    }\n",
              "\n",
              "    .dataframe tbody tr th {\n",
              "        vertical-align: top;\n",
              "    }\n",
              "\n",
              "    .dataframe thead th {\n",
              "        text-align: right;\n",
              "    }\n",
              "</style>\n",
              "<table border=\"1\" class=\"dataframe\">\n",
              "  <thead>\n",
              "    <tr style=\"text-align: right;\">\n",
              "      <th></th>\n",
              "      <th>floor_number</th>\n",
              "      <th>floors_total</th>\n",
              "      <th>area_total</th>\n",
              "      <th>kitchen_area</th>\n",
              "      <th>latitude</th>\n",
              "      <th>longitude</th>\n",
              "      <th>price</th>\n",
              "      <th>block</th>\n",
              "      <th>brick</th>\n",
              "      <th>monolith</th>\n",
              "      <th>monolith_brick</th>\n",
              "      <th>panel</th>\n",
              "      <th>stalin</th>\n",
              "      <th>wood</th>\n",
              "    </tr>\n",
              "  </thead>\n",
              "  <tbody>\n",
              "    <tr>\n",
              "      <th>0</th>\n",
              "      <td>1</td>\n",
              "      <td>5.0</td>\n",
              "      <td>18.0</td>\n",
              "      <td>3.0</td>\n",
              "      <td>55.723379</td>\n",
              "      <td>37.628577</td>\n",
              "      <td>5600000</td>\n",
              "      <td>0</td>\n",
              "      <td>1</td>\n",
              "      <td>0</td>\n",
              "      <td>0</td>\n",
              "      <td>0</td>\n",
              "      <td>0</td>\n",
              "      <td>0</td>\n",
              "    </tr>\n",
              "    <tr>\n",
              "      <th>1</th>\n",
              "      <td>1</td>\n",
              "      <td>5.0</td>\n",
              "      <td>15.0</td>\n",
              "      <td>3.0</td>\n",
              "      <td>55.725980</td>\n",
              "      <td>37.671031</td>\n",
              "      <td>4650000</td>\n",
              "      <td>0</td>\n",
              "      <td>1</td>\n",
              "      <td>0</td>\n",
              "      <td>0</td>\n",
              "      <td>0</td>\n",
              "      <td>0</td>\n",
              "      <td>0</td>\n",
              "    </tr>\n",
              "    <tr>\n",
              "      <th>2</th>\n",
              "      <td>1</td>\n",
              "      <td>5.0</td>\n",
              "      <td>11.9</td>\n",
              "      <td>1.5</td>\n",
              "      <td>55.735976</td>\n",
              "      <td>37.657817</td>\n",
              "      <td>2990000</td>\n",
              "      <td>0</td>\n",
              "      <td>1</td>\n",
              "      <td>0</td>\n",
              "      <td>0</td>\n",
              "      <td>0</td>\n",
              "      <td>0</td>\n",
              "      <td>0</td>\n",
              "    </tr>\n",
              "    <tr>\n",
              "      <th>3</th>\n",
              "      <td>1</td>\n",
              "      <td>7.0</td>\n",
              "      <td>18.4</td>\n",
              "      <td>3.0</td>\n",
              "      <td>55.786698</td>\n",
              "      <td>37.595321</td>\n",
              "      <td>4390000</td>\n",
              "      <td>0</td>\n",
              "      <td>1</td>\n",
              "      <td>0</td>\n",
              "      <td>0</td>\n",
              "      <td>0</td>\n",
              "      <td>0</td>\n",
              "      <td>0</td>\n",
              "    </tr>\n",
              "    <tr>\n",
              "      <th>4</th>\n",
              "      <td>2</td>\n",
              "      <td>5.0</td>\n",
              "      <td>17.6</td>\n",
              "      <td>2.0</td>\n",
              "      <td>55.767894</td>\n",
              "      <td>37.665920</td>\n",
              "      <td>4890000</td>\n",
              "      <td>0</td>\n",
              "      <td>1</td>\n",
              "      <td>0</td>\n",
              "      <td>0</td>\n",
              "      <td>0</td>\n",
              "      <td>0</td>\n",
              "      <td>0</td>\n",
              "    </tr>\n",
              "  </tbody>\n",
              "</table>\n",
              "</div>\n",
              "      <button class=\"colab-df-convert\" onclick=\"convertToInteractive('df-6b258bc9-6273-4ce6-be79-16c6c720f01a')\"\n",
              "              title=\"Convert this dataframe to an interactive table.\"\n",
              "              style=\"display:none;\">\n",
              "        \n",
              "  <svg xmlns=\"http://www.w3.org/2000/svg\" height=\"24px\"viewBox=\"0 0 24 24\"\n",
              "       width=\"24px\">\n",
              "    <path d=\"M0 0h24v24H0V0z\" fill=\"none\"/>\n",
              "    <path d=\"M18.56 5.44l.94 2.06.94-2.06 2.06-.94-2.06-.94-.94-2.06-.94 2.06-2.06.94zm-11 1L8.5 8.5l.94-2.06 2.06-.94-2.06-.94L8.5 2.5l-.94 2.06-2.06.94zm10 10l.94 2.06.94-2.06 2.06-.94-2.06-.94-.94-2.06-.94 2.06-2.06.94z\"/><path d=\"M17.41 7.96l-1.37-1.37c-.4-.4-.92-.59-1.43-.59-.52 0-1.04.2-1.43.59L10.3 9.45l-7.72 7.72c-.78.78-.78 2.05 0 2.83L4 21.41c.39.39.9.59 1.41.59.51 0 1.02-.2 1.41-.59l7.78-7.78 2.81-2.81c.8-.78.8-2.07 0-2.86zM5.41 20L4 18.59l7.72-7.72 1.47 1.35L5.41 20z\"/>\n",
              "  </svg>\n",
              "      </button>\n",
              "      \n",
              "  <style>\n",
              "    .colab-df-container {\n",
              "      display:flex;\n",
              "      flex-wrap:wrap;\n",
              "      gap: 12px;\n",
              "    }\n",
              "\n",
              "    .colab-df-convert {\n",
              "      background-color: #E8F0FE;\n",
              "      border: none;\n",
              "      border-radius: 50%;\n",
              "      cursor: pointer;\n",
              "      display: none;\n",
              "      fill: #1967D2;\n",
              "      height: 32px;\n",
              "      padding: 0 0 0 0;\n",
              "      width: 32px;\n",
              "    }\n",
              "\n",
              "    .colab-df-convert:hover {\n",
              "      background-color: #E2EBFA;\n",
              "      box-shadow: 0px 1px 2px rgba(60, 64, 67, 0.3), 0px 1px 3px 1px rgba(60, 64, 67, 0.15);\n",
              "      fill: #174EA6;\n",
              "    }\n",
              "\n",
              "    [theme=dark] .colab-df-convert {\n",
              "      background-color: #3B4455;\n",
              "      fill: #D2E3FC;\n",
              "    }\n",
              "\n",
              "    [theme=dark] .colab-df-convert:hover {\n",
              "      background-color: #434B5C;\n",
              "      box-shadow: 0px 1px 3px 1px rgba(0, 0, 0, 0.15);\n",
              "      filter: drop-shadow(0px 1px 2px rgba(0, 0, 0, 0.3));\n",
              "      fill: #FFFFFF;\n",
              "    }\n",
              "  </style>\n",
              "\n",
              "      <script>\n",
              "        const buttonEl =\n",
              "          document.querySelector('#df-6b258bc9-6273-4ce6-be79-16c6c720f01a button.colab-df-convert');\n",
              "        buttonEl.style.display =\n",
              "          google.colab.kernel.accessAllowed ? 'block' : 'none';\n",
              "\n",
              "        async function convertToInteractive(key) {\n",
              "          const element = document.querySelector('#df-6b258bc9-6273-4ce6-be79-16c6c720f01a');\n",
              "          const dataTable =\n",
              "            await google.colab.kernel.invokeFunction('convertToInteractive',\n",
              "                                                     [key], {});\n",
              "          if (!dataTable) return;\n",
              "\n",
              "          const docLinkHtml = 'Like what you see? Visit the ' +\n",
              "            '<a target=\"_blank\" href=https://colab.research.google.com/notebooks/data_table.ipynb>data table notebook</a>'\n",
              "            + ' to learn more about interactive tables.';\n",
              "          element.innerHTML = '';\n",
              "          dataTable['output_type'] = 'display_data';\n",
              "          await google.colab.output.renderOutput(dataTable, element);\n",
              "          const docLink = document.createElement('div');\n",
              "          docLink.innerHTML = docLinkHtml;\n",
              "          element.appendChild(docLink);\n",
              "        }\n",
              "      </script>\n",
              "    </div>\n",
              "  </div>\n",
              "  "
            ]
          },
          "metadata": {},
          "execution_count": 25
        }
      ],
      "source": [
        "df1_ohe =pd.concat([df1, dummy], axis=1).drop('walls_material', axis=1)\n",
        "\n",
        "df1_ohe.head()"
      ]
    },
    {
      "cell_type": "code",
      "execution_count": 26,
      "id": "42c75fde",
      "metadata": {
        "colab": {
          "base_uri": "https://localhost:8080/",
          "height": 270
        },
        "id": "42c75fde",
        "outputId": "b795b2ae-1a20-4f82-b0bc-b6005df41531"
      },
      "outputs": [
        {
          "output_type": "execute_result",
          "data": {
            "text/plain": [
              "   floor_number  floors_total  area_total  kitchen_area   latitude  longitude  \\\n",
              "0             1           5.0        18.0           3.0  55.723379  37.628577   \n",
              "1             1           5.0        15.0           3.0  55.725980  37.671031   \n",
              "2             1           5.0        11.9           1.5  55.735976  37.657817   \n",
              "3             1           7.0        18.4           3.0  55.786698  37.595321   \n",
              "4             2           5.0        17.6           2.0  55.767894  37.665920   \n",
              "\n",
              "     price  block  brick  monolith  monolith_brick  panel  stalin  wood  \\\n",
              "0  5600000      0      1         0               0      0       0     0   \n",
              "1  4650000      0      1         0               0      0       0     0   \n",
              "2  2990000      0      1         0               0      0       0     0   \n",
              "3  4390000      0      1         0               0      0       0     0   \n",
              "4  4890000      0      1         0               0      0       0     0   \n",
              "\n",
              "  location_address  \n",
              "0                   \n",
              "1                   \n",
              "2                   \n",
              "3                   \n",
              "4                   "
            ],
            "text/html": [
              "\n",
              "  <div id=\"df-d1206952-13e8-4cc4-af15-bc3bfe70159c\">\n",
              "    <div class=\"colab-df-container\">\n",
              "      <div>\n",
              "<style scoped>\n",
              "    .dataframe tbody tr th:only-of-type {\n",
              "        vertical-align: middle;\n",
              "    }\n",
              "\n",
              "    .dataframe tbody tr th {\n",
              "        vertical-align: top;\n",
              "    }\n",
              "\n",
              "    .dataframe thead th {\n",
              "        text-align: right;\n",
              "    }\n",
              "</style>\n",
              "<table border=\"1\" class=\"dataframe\">\n",
              "  <thead>\n",
              "    <tr style=\"text-align: right;\">\n",
              "      <th></th>\n",
              "      <th>floor_number</th>\n",
              "      <th>floors_total</th>\n",
              "      <th>area_total</th>\n",
              "      <th>kitchen_area</th>\n",
              "      <th>latitude</th>\n",
              "      <th>longitude</th>\n",
              "      <th>price</th>\n",
              "      <th>block</th>\n",
              "      <th>brick</th>\n",
              "      <th>monolith</th>\n",
              "      <th>monolith_brick</th>\n",
              "      <th>panel</th>\n",
              "      <th>stalin</th>\n",
              "      <th>wood</th>\n",
              "      <th>location_address</th>\n",
              "    </tr>\n",
              "  </thead>\n",
              "  <tbody>\n",
              "    <tr>\n",
              "      <th>0</th>\n",
              "      <td>1</td>\n",
              "      <td>5.0</td>\n",
              "      <td>18.0</td>\n",
              "      <td>3.0</td>\n",
              "      <td>55.723379</td>\n",
              "      <td>37.628577</td>\n",
              "      <td>5600000</td>\n",
              "      <td>0</td>\n",
              "      <td>1</td>\n",
              "      <td>0</td>\n",
              "      <td>0</td>\n",
              "      <td>0</td>\n",
              "      <td>0</td>\n",
              "      <td>0</td>\n",
              "      <td></td>\n",
              "    </tr>\n",
              "    <tr>\n",
              "      <th>1</th>\n",
              "      <td>1</td>\n",
              "      <td>5.0</td>\n",
              "      <td>15.0</td>\n",
              "      <td>3.0</td>\n",
              "      <td>55.725980</td>\n",
              "      <td>37.671031</td>\n",
              "      <td>4650000</td>\n",
              "      <td>0</td>\n",
              "      <td>1</td>\n",
              "      <td>0</td>\n",
              "      <td>0</td>\n",
              "      <td>0</td>\n",
              "      <td>0</td>\n",
              "      <td>0</td>\n",
              "      <td></td>\n",
              "    </tr>\n",
              "    <tr>\n",
              "      <th>2</th>\n",
              "      <td>1</td>\n",
              "      <td>5.0</td>\n",
              "      <td>11.9</td>\n",
              "      <td>1.5</td>\n",
              "      <td>55.735976</td>\n",
              "      <td>37.657817</td>\n",
              "      <td>2990000</td>\n",
              "      <td>0</td>\n",
              "      <td>1</td>\n",
              "      <td>0</td>\n",
              "      <td>0</td>\n",
              "      <td>0</td>\n",
              "      <td>0</td>\n",
              "      <td>0</td>\n",
              "      <td></td>\n",
              "    </tr>\n",
              "    <tr>\n",
              "      <th>3</th>\n",
              "      <td>1</td>\n",
              "      <td>7.0</td>\n",
              "      <td>18.4</td>\n",
              "      <td>3.0</td>\n",
              "      <td>55.786698</td>\n",
              "      <td>37.595321</td>\n",
              "      <td>4390000</td>\n",
              "      <td>0</td>\n",
              "      <td>1</td>\n",
              "      <td>0</td>\n",
              "      <td>0</td>\n",
              "      <td>0</td>\n",
              "      <td>0</td>\n",
              "      <td>0</td>\n",
              "      <td></td>\n",
              "    </tr>\n",
              "    <tr>\n",
              "      <th>4</th>\n",
              "      <td>2</td>\n",
              "      <td>5.0</td>\n",
              "      <td>17.6</td>\n",
              "      <td>2.0</td>\n",
              "      <td>55.767894</td>\n",
              "      <td>37.665920</td>\n",
              "      <td>4890000</td>\n",
              "      <td>0</td>\n",
              "      <td>1</td>\n",
              "      <td>0</td>\n",
              "      <td>0</td>\n",
              "      <td>0</td>\n",
              "      <td>0</td>\n",
              "      <td>0</td>\n",
              "      <td></td>\n",
              "    </tr>\n",
              "  </tbody>\n",
              "</table>\n",
              "</div>\n",
              "      <button class=\"colab-df-convert\" onclick=\"convertToInteractive('df-d1206952-13e8-4cc4-af15-bc3bfe70159c')\"\n",
              "              title=\"Convert this dataframe to an interactive table.\"\n",
              "              style=\"display:none;\">\n",
              "        \n",
              "  <svg xmlns=\"http://www.w3.org/2000/svg\" height=\"24px\"viewBox=\"0 0 24 24\"\n",
              "       width=\"24px\">\n",
              "    <path d=\"M0 0h24v24H0V0z\" fill=\"none\"/>\n",
              "    <path d=\"M18.56 5.44l.94 2.06.94-2.06 2.06-.94-2.06-.94-.94-2.06-.94 2.06-2.06.94zm-11 1L8.5 8.5l.94-2.06 2.06-.94-2.06-.94L8.5 2.5l-.94 2.06-2.06.94zm10 10l.94 2.06.94-2.06 2.06-.94-2.06-.94-.94-2.06-.94 2.06-2.06.94z\"/><path d=\"M17.41 7.96l-1.37-1.37c-.4-.4-.92-.59-1.43-.59-.52 0-1.04.2-1.43.59L10.3 9.45l-7.72 7.72c-.78.78-.78 2.05 0 2.83L4 21.41c.39.39.9.59 1.41.59.51 0 1.02-.2 1.41-.59l7.78-7.78 2.81-2.81c.8-.78.8-2.07 0-2.86zM5.41 20L4 18.59l7.72-7.72 1.47 1.35L5.41 20z\"/>\n",
              "  </svg>\n",
              "      </button>\n",
              "      \n",
              "  <style>\n",
              "    .colab-df-container {\n",
              "      display:flex;\n",
              "      flex-wrap:wrap;\n",
              "      gap: 12px;\n",
              "    }\n",
              "\n",
              "    .colab-df-convert {\n",
              "      background-color: #E8F0FE;\n",
              "      border: none;\n",
              "      border-radius: 50%;\n",
              "      cursor: pointer;\n",
              "      display: none;\n",
              "      fill: #1967D2;\n",
              "      height: 32px;\n",
              "      padding: 0 0 0 0;\n",
              "      width: 32px;\n",
              "    }\n",
              "\n",
              "    .colab-df-convert:hover {\n",
              "      background-color: #E2EBFA;\n",
              "      box-shadow: 0px 1px 2px rgba(60, 64, 67, 0.3), 0px 1px 3px 1px rgba(60, 64, 67, 0.15);\n",
              "      fill: #174EA6;\n",
              "    }\n",
              "\n",
              "    [theme=dark] .colab-df-convert {\n",
              "      background-color: #3B4455;\n",
              "      fill: #D2E3FC;\n",
              "    }\n",
              "\n",
              "    [theme=dark] .colab-df-convert:hover {\n",
              "      background-color: #434B5C;\n",
              "      box-shadow: 0px 1px 3px 1px rgba(0, 0, 0, 0.15);\n",
              "      filter: drop-shadow(0px 1px 2px rgba(0, 0, 0, 0.3));\n",
              "      fill: #FFFFFF;\n",
              "    }\n",
              "  </style>\n",
              "\n",
              "      <script>\n",
              "        const buttonEl =\n",
              "          document.querySelector('#df-d1206952-13e8-4cc4-af15-bc3bfe70159c button.colab-df-convert');\n",
              "        buttonEl.style.display =\n",
              "          google.colab.kernel.accessAllowed ? 'block' : 'none';\n",
              "\n",
              "        async function convertToInteractive(key) {\n",
              "          const element = document.querySelector('#df-d1206952-13e8-4cc4-af15-bc3bfe70159c');\n",
              "          const dataTable =\n",
              "            await google.colab.kernel.invokeFunction('convertToInteractive',\n",
              "                                                     [key], {});\n",
              "          if (!dataTable) return;\n",
              "\n",
              "          const docLinkHtml = 'Like what you see? Visit the ' +\n",
              "            '<a target=\"_blank\" href=https://colab.research.google.com/notebooks/data_table.ipynb>data table notebook</a>'\n",
              "            + ' to learn more about interactive tables.';\n",
              "          element.innerHTML = '';\n",
              "          dataTable['output_type'] = 'display_data';\n",
              "          await google.colab.output.renderOutput(dataTable, element);\n",
              "          const docLink = document.createElement('div');\n",
              "          docLink.innerHTML = docLinkHtml;\n",
              "          element.appendChild(docLink);\n",
              "        }\n",
              "      </script>\n",
              "    </div>\n",
              "  </div>\n",
              "  "
            ]
          },
          "metadata": {},
          "execution_count": 26
        }
      ],
      "source": [
        "df1_ohe['location_address'] = \"\"\n",
        "df1_ohe.head()"
      ]
    },
    {
      "cell_type": "markdown",
      "id": "06792c05",
      "metadata": {
        "id": "06792c05"
      },
      "source": [
        "Since it is necessary for the further use to have the exact addresses of our real estate we have used the following function to get addresses from the coordinates:\n",
        "\n",
        "geocoder = Nominatim(user_agent = 'moscow_re_price_pred')\n",
        "\n",
        "def get_address_by_location(data, language='en'):\n",
        "    \"This function returns addresses as raw from a location\"\n",
        "    \n",
        "    for i in range(61001,63932):\n",
        "        try:\n",
        "            #building coordinates string to pass to reverse() function to fetch address\n",
        "            coordinates = f\"{df1_ohe['latitude'][i]}, {df1_ohe['longitude'][i]}\"\n",
        "    \n",
        "            #sleep for a second to respect Usage Policy\n",
        "            time.sleep(1)\n",
        "            data.loc[i,'location_address'] = geocoder.reverse(coordinates, language=language, timeout=4000).address\n",
        "        except:\n",
        "            # catches exceptions for the case where no value is returned\n",
        "            # appends null value to column\n",
        "            data.loc[i,'location_address'] = \"\"\n",
        "            \n",
        "    return data"
      ]
    },
    {
      "cell_type": "markdown",
      "id": "e656bf1d",
      "metadata": {
        "id": "e656bf1d"
      },
      "source": [
        "Translation wasn't performed correctly. Thus, it's necessery to make additional translation with help of the following function:\n",
        "\n",
        "t = Translator()\n",
        "\n",
        "for i in range(69301):\n",
        "    translation = t.translate(df1.location_address[i])\n",
        "    df1.location_address[i] = translation.text"
      ]
    },
    {
      "cell_type": "code",
      "execution_count": 27,
      "id": "f5931cb1",
      "metadata": {
        "id": "f5931cb1"
      },
      "outputs": [],
      "source": [
        "del df1_ohe"
      ]
    },
    {
      "cell_type": "code",
      "execution_count": 28,
      "id": "cceaecfb",
      "metadata": {
        "colab": {
          "base_uri": "https://localhost:8080/",
          "height": 542
        },
        "id": "cceaecfb",
        "outputId": "7a2b3143-e33b-47ab-a5f2-b144e44071ae"
      },
      "outputs": [
        {
          "output_type": "execute_result",
          "data": {
            "text/plain": [
              "   Unnamed: 0  Unnamed: 0.1  Unnamed: 0.1.1  Unnamed: 0.1.1.1  \\\n",
              "0           0             0               0                 0   \n",
              "1           1             1               1                 1   \n",
              "2           2             2               2                 2   \n",
              "3           3             3               3                 3   \n",
              "4           4             4               4                 4   \n",
              "\n",
              "   Unnamed: 0.1.1.1.1  Unnamed: 0.1.1.1.1.1  Unnamed: 0.1.1.1.1.1.1  \\\n",
              "0                   0                     0                       0   \n",
              "1                   1                     1                       1   \n",
              "2                   2                     2                       2   \n",
              "3                   3                     3                       3   \n",
              "4                   4                     4                       4   \n",
              "\n",
              "   Unnamed: 0.1.1.1.1.1.1.1  Unnamed: 0.1.1.1.1.1.1.1.1  \\\n",
              "0                         0                           0   \n",
              "1                         1                           1   \n",
              "2                         2                           2   \n",
              "3                         3                           3   \n",
              "4                         4                           4   \n",
              "\n",
              "   Unnamed: 0.1.1.1.1.1.1.1.1.1  ...  longitude      price  block  brick  \\\n",
              "0                             0  ...  37.628577  5600000.0    0.0    1.0   \n",
              "1                             1  ...  37.671031  4650000.0    0.0    1.0   \n",
              "2                             2  ...  37.657817  2990000.0    0.0    1.0   \n",
              "3                             3  ...  37.595321  4390000.0    0.0    1.0   \n",
              "4                             4  ...  37.665920  4890000.0    0.0    1.0   \n",
              "\n",
              "   monolith  monolith_brick  panel  stalin  wood  \\\n",
              "0       0.0             0.0    0.0     0.0   0.0   \n",
              "1       0.0             0.0    0.0     0.0   0.0   \n",
              "2       0.0             0.0    0.0     0.0   0.0   \n",
              "3       0.0             0.0    0.0     0.0   0.0   \n",
              "4       0.0             0.0    0.0     0.0   0.0   \n",
              "\n",
              "                                    location_address  \n",
              "0  31 к6, Bolshaya Serpukhovskaya Street, Zamoskv...  \n",
              "1  7/10, 1st Dubrovskaya street, Tagansky Distric...  \n",
              "2  24/6 building 2, Vorontsovskaya street, Tagans...  \n",
              "3  50/1 s1, Novoslobodskaya street, Tverskoy Dist...  \n",
              "4  25/1, Staraya Basmannaya Street, Basmanny Dist...  \n",
              "\n",
              "[5 rows x 25 columns]"
            ],
            "text/html": [
              "\n",
              "  <div id=\"df-af13974d-c68e-45f8-9d4e-a6e112cced52\">\n",
              "    <div class=\"colab-df-container\">\n",
              "      <div>\n",
              "<style scoped>\n",
              "    .dataframe tbody tr th:only-of-type {\n",
              "        vertical-align: middle;\n",
              "    }\n",
              "\n",
              "    .dataframe tbody tr th {\n",
              "        vertical-align: top;\n",
              "    }\n",
              "\n",
              "    .dataframe thead th {\n",
              "        text-align: right;\n",
              "    }\n",
              "</style>\n",
              "<table border=\"1\" class=\"dataframe\">\n",
              "  <thead>\n",
              "    <tr style=\"text-align: right;\">\n",
              "      <th></th>\n",
              "      <th>Unnamed: 0</th>\n",
              "      <th>Unnamed: 0.1</th>\n",
              "      <th>Unnamed: 0.1.1</th>\n",
              "      <th>Unnamed: 0.1.1.1</th>\n",
              "      <th>Unnamed: 0.1.1.1.1</th>\n",
              "      <th>Unnamed: 0.1.1.1.1.1</th>\n",
              "      <th>Unnamed: 0.1.1.1.1.1.1</th>\n",
              "      <th>Unnamed: 0.1.1.1.1.1.1.1</th>\n",
              "      <th>Unnamed: 0.1.1.1.1.1.1.1.1</th>\n",
              "      <th>Unnamed: 0.1.1.1.1.1.1.1.1.1</th>\n",
              "      <th>...</th>\n",
              "      <th>longitude</th>\n",
              "      <th>price</th>\n",
              "      <th>block</th>\n",
              "      <th>brick</th>\n",
              "      <th>monolith</th>\n",
              "      <th>monolith_brick</th>\n",
              "      <th>panel</th>\n",
              "      <th>stalin</th>\n",
              "      <th>wood</th>\n",
              "      <th>location_address</th>\n",
              "    </tr>\n",
              "  </thead>\n",
              "  <tbody>\n",
              "    <tr>\n",
              "      <th>0</th>\n",
              "      <td>0</td>\n",
              "      <td>0</td>\n",
              "      <td>0</td>\n",
              "      <td>0</td>\n",
              "      <td>0</td>\n",
              "      <td>0</td>\n",
              "      <td>0</td>\n",
              "      <td>0</td>\n",
              "      <td>0</td>\n",
              "      <td>0</td>\n",
              "      <td>...</td>\n",
              "      <td>37.628577</td>\n",
              "      <td>5600000.0</td>\n",
              "      <td>0.0</td>\n",
              "      <td>1.0</td>\n",
              "      <td>0.0</td>\n",
              "      <td>0.0</td>\n",
              "      <td>0.0</td>\n",
              "      <td>0.0</td>\n",
              "      <td>0.0</td>\n",
              "      <td>31 к6, Bolshaya Serpukhovskaya Street, Zamoskv...</td>\n",
              "    </tr>\n",
              "    <tr>\n",
              "      <th>1</th>\n",
              "      <td>1</td>\n",
              "      <td>1</td>\n",
              "      <td>1</td>\n",
              "      <td>1</td>\n",
              "      <td>1</td>\n",
              "      <td>1</td>\n",
              "      <td>1</td>\n",
              "      <td>1</td>\n",
              "      <td>1</td>\n",
              "      <td>1</td>\n",
              "      <td>...</td>\n",
              "      <td>37.671031</td>\n",
              "      <td>4650000.0</td>\n",
              "      <td>0.0</td>\n",
              "      <td>1.0</td>\n",
              "      <td>0.0</td>\n",
              "      <td>0.0</td>\n",
              "      <td>0.0</td>\n",
              "      <td>0.0</td>\n",
              "      <td>0.0</td>\n",
              "      <td>7/10, 1st Dubrovskaya street, Tagansky Distric...</td>\n",
              "    </tr>\n",
              "    <tr>\n",
              "      <th>2</th>\n",
              "      <td>2</td>\n",
              "      <td>2</td>\n",
              "      <td>2</td>\n",
              "      <td>2</td>\n",
              "      <td>2</td>\n",
              "      <td>2</td>\n",
              "      <td>2</td>\n",
              "      <td>2</td>\n",
              "      <td>2</td>\n",
              "      <td>2</td>\n",
              "      <td>...</td>\n",
              "      <td>37.657817</td>\n",
              "      <td>2990000.0</td>\n",
              "      <td>0.0</td>\n",
              "      <td>1.0</td>\n",
              "      <td>0.0</td>\n",
              "      <td>0.0</td>\n",
              "      <td>0.0</td>\n",
              "      <td>0.0</td>\n",
              "      <td>0.0</td>\n",
              "      <td>24/6 building 2, Vorontsovskaya street, Tagans...</td>\n",
              "    </tr>\n",
              "    <tr>\n",
              "      <th>3</th>\n",
              "      <td>3</td>\n",
              "      <td>3</td>\n",
              "      <td>3</td>\n",
              "      <td>3</td>\n",
              "      <td>3</td>\n",
              "      <td>3</td>\n",
              "      <td>3</td>\n",
              "      <td>3</td>\n",
              "      <td>3</td>\n",
              "      <td>3</td>\n",
              "      <td>...</td>\n",
              "      <td>37.595321</td>\n",
              "      <td>4390000.0</td>\n",
              "      <td>0.0</td>\n",
              "      <td>1.0</td>\n",
              "      <td>0.0</td>\n",
              "      <td>0.0</td>\n",
              "      <td>0.0</td>\n",
              "      <td>0.0</td>\n",
              "      <td>0.0</td>\n",
              "      <td>50/1 s1, Novoslobodskaya street, Tverskoy Dist...</td>\n",
              "    </tr>\n",
              "    <tr>\n",
              "      <th>4</th>\n",
              "      <td>4</td>\n",
              "      <td>4</td>\n",
              "      <td>4</td>\n",
              "      <td>4</td>\n",
              "      <td>4</td>\n",
              "      <td>4</td>\n",
              "      <td>4</td>\n",
              "      <td>4</td>\n",
              "      <td>4</td>\n",
              "      <td>4</td>\n",
              "      <td>...</td>\n",
              "      <td>37.665920</td>\n",
              "      <td>4890000.0</td>\n",
              "      <td>0.0</td>\n",
              "      <td>1.0</td>\n",
              "      <td>0.0</td>\n",
              "      <td>0.0</td>\n",
              "      <td>0.0</td>\n",
              "      <td>0.0</td>\n",
              "      <td>0.0</td>\n",
              "      <td>25/1, Staraya Basmannaya Street, Basmanny Dist...</td>\n",
              "    </tr>\n",
              "  </tbody>\n",
              "</table>\n",
              "<p>5 rows × 25 columns</p>\n",
              "</div>\n",
              "      <button class=\"colab-df-convert\" onclick=\"convertToInteractive('df-af13974d-c68e-45f8-9d4e-a6e112cced52')\"\n",
              "              title=\"Convert this dataframe to an interactive table.\"\n",
              "              style=\"display:none;\">\n",
              "        \n",
              "  <svg xmlns=\"http://www.w3.org/2000/svg\" height=\"24px\"viewBox=\"0 0 24 24\"\n",
              "       width=\"24px\">\n",
              "    <path d=\"M0 0h24v24H0V0z\" fill=\"none\"/>\n",
              "    <path d=\"M18.56 5.44l.94 2.06.94-2.06 2.06-.94-2.06-.94-.94-2.06-.94 2.06-2.06.94zm-11 1L8.5 8.5l.94-2.06 2.06-.94-2.06-.94L8.5 2.5l-.94 2.06-2.06.94zm10 10l.94 2.06.94-2.06 2.06-.94-2.06-.94-.94-2.06-.94 2.06-2.06.94z\"/><path d=\"M17.41 7.96l-1.37-1.37c-.4-.4-.92-.59-1.43-.59-.52 0-1.04.2-1.43.59L10.3 9.45l-7.72 7.72c-.78.78-.78 2.05 0 2.83L4 21.41c.39.39.9.59 1.41.59.51 0 1.02-.2 1.41-.59l7.78-7.78 2.81-2.81c.8-.78.8-2.07 0-2.86zM5.41 20L4 18.59l7.72-7.72 1.47 1.35L5.41 20z\"/>\n",
              "  </svg>\n",
              "      </button>\n",
              "      \n",
              "  <style>\n",
              "    .colab-df-container {\n",
              "      display:flex;\n",
              "      flex-wrap:wrap;\n",
              "      gap: 12px;\n",
              "    }\n",
              "\n",
              "    .colab-df-convert {\n",
              "      background-color: #E8F0FE;\n",
              "      border: none;\n",
              "      border-radius: 50%;\n",
              "      cursor: pointer;\n",
              "      display: none;\n",
              "      fill: #1967D2;\n",
              "      height: 32px;\n",
              "      padding: 0 0 0 0;\n",
              "      width: 32px;\n",
              "    }\n",
              "\n",
              "    .colab-df-convert:hover {\n",
              "      background-color: #E2EBFA;\n",
              "      box-shadow: 0px 1px 2px rgba(60, 64, 67, 0.3), 0px 1px 3px 1px rgba(60, 64, 67, 0.15);\n",
              "      fill: #174EA6;\n",
              "    }\n",
              "\n",
              "    [theme=dark] .colab-df-convert {\n",
              "      background-color: #3B4455;\n",
              "      fill: #D2E3FC;\n",
              "    }\n",
              "\n",
              "    [theme=dark] .colab-df-convert:hover {\n",
              "      background-color: #434B5C;\n",
              "      box-shadow: 0px 1px 3px 1px rgba(0, 0, 0, 0.15);\n",
              "      filter: drop-shadow(0px 1px 2px rgba(0, 0, 0, 0.3));\n",
              "      fill: #FFFFFF;\n",
              "    }\n",
              "  </style>\n",
              "\n",
              "      <script>\n",
              "        const buttonEl =\n",
              "          document.querySelector('#df-af13974d-c68e-45f8-9d4e-a6e112cced52 button.colab-df-convert');\n",
              "        buttonEl.style.display =\n",
              "          google.colab.kernel.accessAllowed ? 'block' : 'none';\n",
              "\n",
              "        async function convertToInteractive(key) {\n",
              "          const element = document.querySelector('#df-af13974d-c68e-45f8-9d4e-a6e112cced52');\n",
              "          const dataTable =\n",
              "            await google.colab.kernel.invokeFunction('convertToInteractive',\n",
              "                                                     [key], {});\n",
              "          if (!dataTable) return;\n",
              "\n",
              "          const docLinkHtml = 'Like what you see? Visit the ' +\n",
              "            '<a target=\"_blank\" href=https://colab.research.google.com/notebooks/data_table.ipynb>data table notebook</a>'\n",
              "            + ' to learn more about interactive tables.';\n",
              "          element.innerHTML = '';\n",
              "          dataTable['output_type'] = 'display_data';\n",
              "          await google.colab.output.renderOutput(dataTable, element);\n",
              "          const docLink = document.createElement('div');\n",
              "          docLink.innerHTML = docLinkHtml;\n",
              "          element.appendChild(docLink);\n",
              "        }\n",
              "      </script>\n",
              "    </div>\n",
              "  </div>\n",
              "  "
            ]
          },
          "metadata": {},
          "execution_count": 28
        }
      ],
      "source": [
        "df2 = pd.read_csv('df2_63901_eng.csv')\n",
        "\n",
        "df2.head()"
      ]
    },
    {
      "cell_type": "code",
      "execution_count": 29,
      "id": "099a7c08",
      "metadata": {
        "colab": {
          "base_uri": "https://localhost:8080/"
        },
        "id": "099a7c08",
        "outputId": "47934d02-5546-47f5-cf9d-7246c7b6acc9"
      },
      "outputs": [
        {
          "output_type": "execute_result",
          "data": {
            "text/plain": [
              "Index(['Unnamed: 0', 'Unnamed: 0.1', 'Unnamed: 0.1.1', 'Unnamed: 0.1.1.1',\n",
              "       'Unnamed: 0.1.1.1.1', 'Unnamed: 0.1.1.1.1.1', 'Unnamed: 0.1.1.1.1.1.1',\n",
              "       'Unnamed: 0.1.1.1.1.1.1.1', 'Unnamed: 0.1.1.1.1.1.1.1.1',\n",
              "       'Unnamed: 0.1.1.1.1.1.1.1.1.1', 'floor_number', 'floors_total',\n",
              "       'area_total', 'kitchen_area', 'latitude', 'longitude', 'price', 'block',\n",
              "       'brick', 'monolith', 'monolith_brick', 'panel', 'stalin', 'wood',\n",
              "       'location_address'],\n",
              "      dtype='object')"
            ]
          },
          "metadata": {},
          "execution_count": 29
        }
      ],
      "source": [
        "df2.columns"
      ]
    },
    {
      "cell_type": "code",
      "execution_count": 30,
      "id": "8542c7d5",
      "metadata": {
        "colab": {
          "base_uri": "https://localhost:8080/",
          "height": 496
        },
        "id": "8542c7d5",
        "outputId": "283d5c32-392a-49ef-96e6-c3912b0c4add"
      },
      "outputs": [
        {
          "output_type": "execute_result",
          "data": {
            "text/plain": [
              "   floor_number  floors_total  area_total  kitchen_area   latitude  longitude  \\\n",
              "0           1.0           5.0        18.0           3.0  55.723379  37.628577   \n",
              "1           1.0           5.0        15.0           3.0  55.725980  37.671031   \n",
              "2           1.0           5.0        11.9           1.5  55.735976  37.657817   \n",
              "3           1.0           7.0        18.4           3.0  55.786698  37.595321   \n",
              "4           2.0           5.0        17.6           2.0  55.767894  37.665920   \n",
              "\n",
              "       price  block  brick  monolith  monolith_brick  panel  stalin  wood  \\\n",
              "0  5600000.0    0.0    1.0       0.0             0.0    0.0     0.0   0.0   \n",
              "1  4650000.0    0.0    1.0       0.0             0.0    0.0     0.0   0.0   \n",
              "2  2990000.0    0.0    1.0       0.0             0.0    0.0     0.0   0.0   \n",
              "3  4390000.0    0.0    1.0       0.0             0.0    0.0     0.0   0.0   \n",
              "4  4890000.0    0.0    1.0       0.0             0.0    0.0     0.0   0.0   \n",
              "\n",
              "                                    location_address  \n",
              "0  31 к6, Bolshaya Serpukhovskaya Street, Zamoskv...  \n",
              "1  7/10, 1st Dubrovskaya street, Tagansky Distric...  \n",
              "2  24/6 building 2, Vorontsovskaya street, Tagans...  \n",
              "3  50/1 s1, Novoslobodskaya street, Tverskoy Dist...  \n",
              "4  25/1, Staraya Basmannaya Street, Basmanny Dist...  "
            ],
            "text/html": [
              "\n",
              "  <div id=\"df-d59ddaaf-b194-4fbf-adf1-69c06ae3f272\">\n",
              "    <div class=\"colab-df-container\">\n",
              "      <div>\n",
              "<style scoped>\n",
              "    .dataframe tbody tr th:only-of-type {\n",
              "        vertical-align: middle;\n",
              "    }\n",
              "\n",
              "    .dataframe tbody tr th {\n",
              "        vertical-align: top;\n",
              "    }\n",
              "\n",
              "    .dataframe thead th {\n",
              "        text-align: right;\n",
              "    }\n",
              "</style>\n",
              "<table border=\"1\" class=\"dataframe\">\n",
              "  <thead>\n",
              "    <tr style=\"text-align: right;\">\n",
              "      <th></th>\n",
              "      <th>floor_number</th>\n",
              "      <th>floors_total</th>\n",
              "      <th>area_total</th>\n",
              "      <th>kitchen_area</th>\n",
              "      <th>latitude</th>\n",
              "      <th>longitude</th>\n",
              "      <th>price</th>\n",
              "      <th>block</th>\n",
              "      <th>brick</th>\n",
              "      <th>monolith</th>\n",
              "      <th>monolith_brick</th>\n",
              "      <th>panel</th>\n",
              "      <th>stalin</th>\n",
              "      <th>wood</th>\n",
              "      <th>location_address</th>\n",
              "    </tr>\n",
              "  </thead>\n",
              "  <tbody>\n",
              "    <tr>\n",
              "      <th>0</th>\n",
              "      <td>1.0</td>\n",
              "      <td>5.0</td>\n",
              "      <td>18.0</td>\n",
              "      <td>3.0</td>\n",
              "      <td>55.723379</td>\n",
              "      <td>37.628577</td>\n",
              "      <td>5600000.0</td>\n",
              "      <td>0.0</td>\n",
              "      <td>1.0</td>\n",
              "      <td>0.0</td>\n",
              "      <td>0.0</td>\n",
              "      <td>0.0</td>\n",
              "      <td>0.0</td>\n",
              "      <td>0.0</td>\n",
              "      <td>31 к6, Bolshaya Serpukhovskaya Street, Zamoskv...</td>\n",
              "    </tr>\n",
              "    <tr>\n",
              "      <th>1</th>\n",
              "      <td>1.0</td>\n",
              "      <td>5.0</td>\n",
              "      <td>15.0</td>\n",
              "      <td>3.0</td>\n",
              "      <td>55.725980</td>\n",
              "      <td>37.671031</td>\n",
              "      <td>4650000.0</td>\n",
              "      <td>0.0</td>\n",
              "      <td>1.0</td>\n",
              "      <td>0.0</td>\n",
              "      <td>0.0</td>\n",
              "      <td>0.0</td>\n",
              "      <td>0.0</td>\n",
              "      <td>0.0</td>\n",
              "      <td>7/10, 1st Dubrovskaya street, Tagansky Distric...</td>\n",
              "    </tr>\n",
              "    <tr>\n",
              "      <th>2</th>\n",
              "      <td>1.0</td>\n",
              "      <td>5.0</td>\n",
              "      <td>11.9</td>\n",
              "      <td>1.5</td>\n",
              "      <td>55.735976</td>\n",
              "      <td>37.657817</td>\n",
              "      <td>2990000.0</td>\n",
              "      <td>0.0</td>\n",
              "      <td>1.0</td>\n",
              "      <td>0.0</td>\n",
              "      <td>0.0</td>\n",
              "      <td>0.0</td>\n",
              "      <td>0.0</td>\n",
              "      <td>0.0</td>\n",
              "      <td>24/6 building 2, Vorontsovskaya street, Tagans...</td>\n",
              "    </tr>\n",
              "    <tr>\n",
              "      <th>3</th>\n",
              "      <td>1.0</td>\n",
              "      <td>7.0</td>\n",
              "      <td>18.4</td>\n",
              "      <td>3.0</td>\n",
              "      <td>55.786698</td>\n",
              "      <td>37.595321</td>\n",
              "      <td>4390000.0</td>\n",
              "      <td>0.0</td>\n",
              "      <td>1.0</td>\n",
              "      <td>0.0</td>\n",
              "      <td>0.0</td>\n",
              "      <td>0.0</td>\n",
              "      <td>0.0</td>\n",
              "      <td>0.0</td>\n",
              "      <td>50/1 s1, Novoslobodskaya street, Tverskoy Dist...</td>\n",
              "    </tr>\n",
              "    <tr>\n",
              "      <th>4</th>\n",
              "      <td>2.0</td>\n",
              "      <td>5.0</td>\n",
              "      <td>17.6</td>\n",
              "      <td>2.0</td>\n",
              "      <td>55.767894</td>\n",
              "      <td>37.665920</td>\n",
              "      <td>4890000.0</td>\n",
              "      <td>0.0</td>\n",
              "      <td>1.0</td>\n",
              "      <td>0.0</td>\n",
              "      <td>0.0</td>\n",
              "      <td>0.0</td>\n",
              "      <td>0.0</td>\n",
              "      <td>0.0</td>\n",
              "      <td>25/1, Staraya Basmannaya Street, Basmanny Dist...</td>\n",
              "    </tr>\n",
              "  </tbody>\n",
              "</table>\n",
              "</div>\n",
              "      <button class=\"colab-df-convert\" onclick=\"convertToInteractive('df-d59ddaaf-b194-4fbf-adf1-69c06ae3f272')\"\n",
              "              title=\"Convert this dataframe to an interactive table.\"\n",
              "              style=\"display:none;\">\n",
              "        \n",
              "  <svg xmlns=\"http://www.w3.org/2000/svg\" height=\"24px\"viewBox=\"0 0 24 24\"\n",
              "       width=\"24px\">\n",
              "    <path d=\"M0 0h24v24H0V0z\" fill=\"none\"/>\n",
              "    <path d=\"M18.56 5.44l.94 2.06.94-2.06 2.06-.94-2.06-.94-.94-2.06-.94 2.06-2.06.94zm-11 1L8.5 8.5l.94-2.06 2.06-.94-2.06-.94L8.5 2.5l-.94 2.06-2.06.94zm10 10l.94 2.06.94-2.06 2.06-.94-2.06-.94-.94-2.06-.94 2.06-2.06.94z\"/><path d=\"M17.41 7.96l-1.37-1.37c-.4-.4-.92-.59-1.43-.59-.52 0-1.04.2-1.43.59L10.3 9.45l-7.72 7.72c-.78.78-.78 2.05 0 2.83L4 21.41c.39.39.9.59 1.41.59.51 0 1.02-.2 1.41-.59l7.78-7.78 2.81-2.81c.8-.78.8-2.07 0-2.86zM5.41 20L4 18.59l7.72-7.72 1.47 1.35L5.41 20z\"/>\n",
              "  </svg>\n",
              "      </button>\n",
              "      \n",
              "  <style>\n",
              "    .colab-df-container {\n",
              "      display:flex;\n",
              "      flex-wrap:wrap;\n",
              "      gap: 12px;\n",
              "    }\n",
              "\n",
              "    .colab-df-convert {\n",
              "      background-color: #E8F0FE;\n",
              "      border: none;\n",
              "      border-radius: 50%;\n",
              "      cursor: pointer;\n",
              "      display: none;\n",
              "      fill: #1967D2;\n",
              "      height: 32px;\n",
              "      padding: 0 0 0 0;\n",
              "      width: 32px;\n",
              "    }\n",
              "\n",
              "    .colab-df-convert:hover {\n",
              "      background-color: #E2EBFA;\n",
              "      box-shadow: 0px 1px 2px rgba(60, 64, 67, 0.3), 0px 1px 3px 1px rgba(60, 64, 67, 0.15);\n",
              "      fill: #174EA6;\n",
              "    }\n",
              "\n",
              "    [theme=dark] .colab-df-convert {\n",
              "      background-color: #3B4455;\n",
              "      fill: #D2E3FC;\n",
              "    }\n",
              "\n",
              "    [theme=dark] .colab-df-convert:hover {\n",
              "      background-color: #434B5C;\n",
              "      box-shadow: 0px 1px 3px 1px rgba(0, 0, 0, 0.15);\n",
              "      filter: drop-shadow(0px 1px 2px rgba(0, 0, 0, 0.3));\n",
              "      fill: #FFFFFF;\n",
              "    }\n",
              "  </style>\n",
              "\n",
              "      <script>\n",
              "        const buttonEl =\n",
              "          document.querySelector('#df-d59ddaaf-b194-4fbf-adf1-69c06ae3f272 button.colab-df-convert');\n",
              "        buttonEl.style.display =\n",
              "          google.colab.kernel.accessAllowed ? 'block' : 'none';\n",
              "\n",
              "        async function convertToInteractive(key) {\n",
              "          const element = document.querySelector('#df-d59ddaaf-b194-4fbf-adf1-69c06ae3f272');\n",
              "          const dataTable =\n",
              "            await google.colab.kernel.invokeFunction('convertToInteractive',\n",
              "                                                     [key], {});\n",
              "          if (!dataTable) return;\n",
              "\n",
              "          const docLinkHtml = 'Like what you see? Visit the ' +\n",
              "            '<a target=\"_blank\" href=https://colab.research.google.com/notebooks/data_table.ipynb>data table notebook</a>'\n",
              "            + ' to learn more about interactive tables.';\n",
              "          element.innerHTML = '';\n",
              "          dataTable['output_type'] = 'display_data';\n",
              "          await google.colab.output.renderOutput(dataTable, element);\n",
              "          const docLink = document.createElement('div');\n",
              "          docLink.innerHTML = docLinkHtml;\n",
              "          element.appendChild(docLink);\n",
              "        }\n",
              "      </script>\n",
              "    </div>\n",
              "  </div>\n",
              "  "
            ]
          },
          "metadata": {},
          "execution_count": 30
        }
      ],
      "source": [
        "df2 = df2.drop(['Unnamed: 0', 'Unnamed: 0.1', 'Unnamed: 0.1.1', 'Unnamed: 0.1.1.1', 'Unnamed: 0.1.1.1.1', 'Unnamed: 0.1.1.1.1.1', 'Unnamed: 0.1.1.1.1.1.1',\n",
        "       'Unnamed: 0.1.1.1.1.1.1.1', 'Unnamed: 0.1.1.1.1.1.1.1.1', 'Unnamed: 0.1.1.1.1.1.1.1.1.1'], axis=1)\n",
        "\n",
        "df2.head()"
      ]
    },
    {
      "cell_type": "code",
      "execution_count": 31,
      "id": "fcfb8635",
      "metadata": {
        "colab": {
          "base_uri": "https://localhost:8080/"
        },
        "id": "fcfb8635",
        "outputId": "313c8f9e-4692-488d-81df-f4c5ace5c915"
      },
      "outputs": [
        {
          "output_type": "stream",
          "name": "stdout",
          "text": [
            "<class 'pandas.core.frame.DataFrame'>\n",
            "RangeIndex: 63903 entries, 0 to 63902\n",
            "Data columns (total 15 columns):\n",
            " #   Column            Non-Null Count  Dtype  \n",
            "---  ------            --------------  -----  \n",
            " 0   floor_number      63903 non-null  float64\n",
            " 1   floors_total      63903 non-null  float64\n",
            " 2   area_total        63903 non-null  float64\n",
            " 3   kitchen_area      63903 non-null  float64\n",
            " 4   latitude          63903 non-null  float64\n",
            " 5   longitude         63903 non-null  float64\n",
            " 6   price             63903 non-null  float64\n",
            " 7   block             63903 non-null  float64\n",
            " 8   brick             63903 non-null  float64\n",
            " 9   monolith          63903 non-null  float64\n",
            " 10  monolith_brick    63903 non-null  float64\n",
            " 11  panel             63903 non-null  float64\n",
            " 12  stalin            63903 non-null  float64\n",
            " 13  wood              63903 non-null  float64\n",
            " 14  location_address  63903 non-null  object \n",
            "dtypes: float64(14), object(1)\n",
            "memory usage: 7.3+ MB\n"
          ]
        }
      ],
      "source": [
        "df2.info()"
      ]
    },
    {
      "cell_type": "code",
      "execution_count": 32,
      "id": "b7a06217",
      "metadata": {
        "id": "b7a06217"
      },
      "outputs": [],
      "source": [
        "df2 = df2.loc[df2['floor_number'].isna() != True]"
      ]
    },
    {
      "cell_type": "code",
      "execution_count": 33,
      "id": "0a62e112",
      "metadata": {
        "colab": {
          "base_uri": "https://localhost:8080/",
          "height": 496
        },
        "id": "0a62e112",
        "outputId": "f9319174-b0af-49e8-cba6-626cbc4f65be"
      },
      "outputs": [
        {
          "output_type": "execute_result",
          "data": {
            "text/plain": [
              "       floor_number  floors_total  area_total  kitchen_area   latitude  \\\n",
              "63898           2.0           4.0       112.0          12.9  55.520161   \n",
              "63899          14.0          17.0       100.0          14.0  55.485698   \n",
              "63900           3.0          17.0       103.0          11.0  55.491942   \n",
              "63901           2.0           3.0       110.0          19.0  55.536976   \n",
              "63902           2.0           3.0       110.0          22.0  55.536848   \n",
              "\n",
              "       longitude       price  block  brick  monolith  monolith_brick  panel  \\\n",
              "63898  37.212217   8100000.0    0.0    0.0       0.0             1.0    0.0   \n",
              "63899  37.308202  10700000.0    0.0    0.0       1.0             0.0    0.0   \n",
              "63900  37.299524  12300000.0    0.0    0.0       0.0             0.0    1.0   \n",
              "63901  37.153619  10800000.0    0.0    0.0       1.0             0.0    0.0   \n",
              "63902  37.154688  10900000.0    0.0    0.0       1.0             0.0    0.0   \n",
              "\n",
              "       stalin  wood                                   location_address  \n",
              "63898     0.0   0.0  13 k2, 46Н-06106, Popovka, Pervomayskoye settl...  \n",
              "63899     0.0   0.0  Titanic, 4, Academic Square, Microdistrict B, ...  \n",
              "63900     0.0   0.0  9, Nagornaya Street, Factory Village, Troitsk,...  \n",
              "63901     0.0   0.0  24, Центральная улица, Pervomayskoye, поселени...  \n",
              "63902     0.0   0.0  26, Центральная улица, Pervomayskoye, поселени...  "
            ],
            "text/html": [
              "\n",
              "  <div id=\"df-3d151224-70fc-4196-904b-efe5b763ff33\">\n",
              "    <div class=\"colab-df-container\">\n",
              "      <div>\n",
              "<style scoped>\n",
              "    .dataframe tbody tr th:only-of-type {\n",
              "        vertical-align: middle;\n",
              "    }\n",
              "\n",
              "    .dataframe tbody tr th {\n",
              "        vertical-align: top;\n",
              "    }\n",
              "\n",
              "    .dataframe thead th {\n",
              "        text-align: right;\n",
              "    }\n",
              "</style>\n",
              "<table border=\"1\" class=\"dataframe\">\n",
              "  <thead>\n",
              "    <tr style=\"text-align: right;\">\n",
              "      <th></th>\n",
              "      <th>floor_number</th>\n",
              "      <th>floors_total</th>\n",
              "      <th>area_total</th>\n",
              "      <th>kitchen_area</th>\n",
              "      <th>latitude</th>\n",
              "      <th>longitude</th>\n",
              "      <th>price</th>\n",
              "      <th>block</th>\n",
              "      <th>brick</th>\n",
              "      <th>monolith</th>\n",
              "      <th>monolith_brick</th>\n",
              "      <th>panel</th>\n",
              "      <th>stalin</th>\n",
              "      <th>wood</th>\n",
              "      <th>location_address</th>\n",
              "    </tr>\n",
              "  </thead>\n",
              "  <tbody>\n",
              "    <tr>\n",
              "      <th>63898</th>\n",
              "      <td>2.0</td>\n",
              "      <td>4.0</td>\n",
              "      <td>112.0</td>\n",
              "      <td>12.9</td>\n",
              "      <td>55.520161</td>\n",
              "      <td>37.212217</td>\n",
              "      <td>8100000.0</td>\n",
              "      <td>0.0</td>\n",
              "      <td>0.0</td>\n",
              "      <td>0.0</td>\n",
              "      <td>1.0</td>\n",
              "      <td>0.0</td>\n",
              "      <td>0.0</td>\n",
              "      <td>0.0</td>\n",
              "      <td>13 k2, 46Н-06106, Popovka, Pervomayskoye settl...</td>\n",
              "    </tr>\n",
              "    <tr>\n",
              "      <th>63899</th>\n",
              "      <td>14.0</td>\n",
              "      <td>17.0</td>\n",
              "      <td>100.0</td>\n",
              "      <td>14.0</td>\n",
              "      <td>55.485698</td>\n",
              "      <td>37.308202</td>\n",
              "      <td>10700000.0</td>\n",
              "      <td>0.0</td>\n",
              "      <td>0.0</td>\n",
              "      <td>1.0</td>\n",
              "      <td>0.0</td>\n",
              "      <td>0.0</td>\n",
              "      <td>0.0</td>\n",
              "      <td>0.0</td>\n",
              "      <td>Titanic, 4, Academic Square, Microdistrict B, ...</td>\n",
              "    </tr>\n",
              "    <tr>\n",
              "      <th>63900</th>\n",
              "      <td>3.0</td>\n",
              "      <td>17.0</td>\n",
              "      <td>103.0</td>\n",
              "      <td>11.0</td>\n",
              "      <td>55.491942</td>\n",
              "      <td>37.299524</td>\n",
              "      <td>12300000.0</td>\n",
              "      <td>0.0</td>\n",
              "      <td>0.0</td>\n",
              "      <td>0.0</td>\n",
              "      <td>0.0</td>\n",
              "      <td>1.0</td>\n",
              "      <td>0.0</td>\n",
              "      <td>0.0</td>\n",
              "      <td>9, Nagornaya Street, Factory Village, Troitsk,...</td>\n",
              "    </tr>\n",
              "    <tr>\n",
              "      <th>63901</th>\n",
              "      <td>2.0</td>\n",
              "      <td>3.0</td>\n",
              "      <td>110.0</td>\n",
              "      <td>19.0</td>\n",
              "      <td>55.536976</td>\n",
              "      <td>37.153619</td>\n",
              "      <td>10800000.0</td>\n",
              "      <td>0.0</td>\n",
              "      <td>0.0</td>\n",
              "      <td>1.0</td>\n",
              "      <td>0.0</td>\n",
              "      <td>0.0</td>\n",
              "      <td>0.0</td>\n",
              "      <td>0.0</td>\n",
              "      <td>24, Центральная улица, Pervomayskoye, поселени...</td>\n",
              "    </tr>\n",
              "    <tr>\n",
              "      <th>63902</th>\n",
              "      <td>2.0</td>\n",
              "      <td>3.0</td>\n",
              "      <td>110.0</td>\n",
              "      <td>22.0</td>\n",
              "      <td>55.536848</td>\n",
              "      <td>37.154688</td>\n",
              "      <td>10900000.0</td>\n",
              "      <td>0.0</td>\n",
              "      <td>0.0</td>\n",
              "      <td>1.0</td>\n",
              "      <td>0.0</td>\n",
              "      <td>0.0</td>\n",
              "      <td>0.0</td>\n",
              "      <td>0.0</td>\n",
              "      <td>26, Центральная улица, Pervomayskoye, поселени...</td>\n",
              "    </tr>\n",
              "  </tbody>\n",
              "</table>\n",
              "</div>\n",
              "      <button class=\"colab-df-convert\" onclick=\"convertToInteractive('df-3d151224-70fc-4196-904b-efe5b763ff33')\"\n",
              "              title=\"Convert this dataframe to an interactive table.\"\n",
              "              style=\"display:none;\">\n",
              "        \n",
              "  <svg xmlns=\"http://www.w3.org/2000/svg\" height=\"24px\"viewBox=\"0 0 24 24\"\n",
              "       width=\"24px\">\n",
              "    <path d=\"M0 0h24v24H0V0z\" fill=\"none\"/>\n",
              "    <path d=\"M18.56 5.44l.94 2.06.94-2.06 2.06-.94-2.06-.94-.94-2.06-.94 2.06-2.06.94zm-11 1L8.5 8.5l.94-2.06 2.06-.94-2.06-.94L8.5 2.5l-.94 2.06-2.06.94zm10 10l.94 2.06.94-2.06 2.06-.94-2.06-.94-.94-2.06-.94 2.06-2.06.94z\"/><path d=\"M17.41 7.96l-1.37-1.37c-.4-.4-.92-.59-1.43-.59-.52 0-1.04.2-1.43.59L10.3 9.45l-7.72 7.72c-.78.78-.78 2.05 0 2.83L4 21.41c.39.39.9.59 1.41.59.51 0 1.02-.2 1.41-.59l7.78-7.78 2.81-2.81c.8-.78.8-2.07 0-2.86zM5.41 20L4 18.59l7.72-7.72 1.47 1.35L5.41 20z\"/>\n",
              "  </svg>\n",
              "      </button>\n",
              "      \n",
              "  <style>\n",
              "    .colab-df-container {\n",
              "      display:flex;\n",
              "      flex-wrap:wrap;\n",
              "      gap: 12px;\n",
              "    }\n",
              "\n",
              "    .colab-df-convert {\n",
              "      background-color: #E8F0FE;\n",
              "      border: none;\n",
              "      border-radius: 50%;\n",
              "      cursor: pointer;\n",
              "      display: none;\n",
              "      fill: #1967D2;\n",
              "      height: 32px;\n",
              "      padding: 0 0 0 0;\n",
              "      width: 32px;\n",
              "    }\n",
              "\n",
              "    .colab-df-convert:hover {\n",
              "      background-color: #E2EBFA;\n",
              "      box-shadow: 0px 1px 2px rgba(60, 64, 67, 0.3), 0px 1px 3px 1px rgba(60, 64, 67, 0.15);\n",
              "      fill: #174EA6;\n",
              "    }\n",
              "\n",
              "    [theme=dark] .colab-df-convert {\n",
              "      background-color: #3B4455;\n",
              "      fill: #D2E3FC;\n",
              "    }\n",
              "\n",
              "    [theme=dark] .colab-df-convert:hover {\n",
              "      background-color: #434B5C;\n",
              "      box-shadow: 0px 1px 3px 1px rgba(0, 0, 0, 0.15);\n",
              "      filter: drop-shadow(0px 1px 2px rgba(0, 0, 0, 0.3));\n",
              "      fill: #FFFFFF;\n",
              "    }\n",
              "  </style>\n",
              "\n",
              "      <script>\n",
              "        const buttonEl =\n",
              "          document.querySelector('#df-3d151224-70fc-4196-904b-efe5b763ff33 button.colab-df-convert');\n",
              "        buttonEl.style.display =\n",
              "          google.colab.kernel.accessAllowed ? 'block' : 'none';\n",
              "\n",
              "        async function convertToInteractive(key) {\n",
              "          const element = document.querySelector('#df-3d151224-70fc-4196-904b-efe5b763ff33');\n",
              "          const dataTable =\n",
              "            await google.colab.kernel.invokeFunction('convertToInteractive',\n",
              "                                                     [key], {});\n",
              "          if (!dataTable) return;\n",
              "\n",
              "          const docLinkHtml = 'Like what you see? Visit the ' +\n",
              "            '<a target=\"_blank\" href=https://colab.research.google.com/notebooks/data_table.ipynb>data table notebook</a>'\n",
              "            + ' to learn more about interactive tables.';\n",
              "          element.innerHTML = '';\n",
              "          dataTable['output_type'] = 'display_data';\n",
              "          await google.colab.output.renderOutput(dataTable, element);\n",
              "          const docLink = document.createElement('div');\n",
              "          docLink.innerHTML = docLinkHtml;\n",
              "          element.appendChild(docLink);\n",
              "        }\n",
              "      </script>\n",
              "    </div>\n",
              "  </div>\n",
              "  "
            ]
          },
          "metadata": {},
          "execution_count": 33
        }
      ],
      "source": [
        "df2.tail()"
      ]
    },
    {
      "cell_type": "code",
      "execution_count": 34,
      "id": "457d378e",
      "metadata": {
        "id": "457d378e"
      },
      "outputs": [],
      "source": [
        "df2 = df2.loc[df2['location_address'].isna() != True]"
      ]
    },
    {
      "cell_type": "code",
      "execution_count": 35,
      "id": "1077c0de",
      "metadata": {
        "colab": {
          "base_uri": "https://localhost:8080/"
        },
        "id": "1077c0de",
        "outputId": "f02ead68-8b93-48dc-b82b-be5f51fa6a40"
      },
      "outputs": [
        {
          "output_type": "stream",
          "name": "stdout",
          "text": [
            "<class 'pandas.core.frame.DataFrame'>\n",
            "Int64Index: 63903 entries, 0 to 63902\n",
            "Data columns (total 15 columns):\n",
            " #   Column            Non-Null Count  Dtype  \n",
            "---  ------            --------------  -----  \n",
            " 0   floor_number      63903 non-null  float64\n",
            " 1   floors_total      63903 non-null  float64\n",
            " 2   area_total        63903 non-null  float64\n",
            " 3   kitchen_area      63903 non-null  float64\n",
            " 4   latitude          63903 non-null  float64\n",
            " 5   longitude         63903 non-null  float64\n",
            " 6   price             63903 non-null  float64\n",
            " 7   block             63903 non-null  float64\n",
            " 8   brick             63903 non-null  float64\n",
            " 9   monolith          63903 non-null  float64\n",
            " 10  monolith_brick    63903 non-null  float64\n",
            " 11  panel             63903 non-null  float64\n",
            " 12  stalin            63903 non-null  float64\n",
            " 13  wood              63903 non-null  float64\n",
            " 14  location_address  63903 non-null  object \n",
            "dtypes: float64(14), object(1)\n",
            "memory usage: 7.8+ MB\n"
          ]
        }
      ],
      "source": [
        "df2.info()"
      ]
    },
    {
      "cell_type": "code",
      "execution_count": 36,
      "id": "4efed867",
      "metadata": {
        "colab": {
          "base_uri": "https://localhost:8080/",
          "height": 496
        },
        "id": "4efed867",
        "outputId": "5d368e13-56fc-43c7-8f47-6f0f78fec515"
      },
      "outputs": [
        {
          "output_type": "execute_result",
          "data": {
            "text/plain": [
              "       floor_number  floors_total  area_total  kitchen_area   latitude  \\\n",
              "63898           2.0           4.0       112.0          12.9  55.520161   \n",
              "63899          14.0          17.0       100.0          14.0  55.485698   \n",
              "63900           3.0          17.0       103.0          11.0  55.491942   \n",
              "63901           2.0           3.0       110.0          19.0  55.536976   \n",
              "63902           2.0           3.0       110.0          22.0  55.536848   \n",
              "\n",
              "       longitude       price  block  brick  monolith  monolith_brick  panel  \\\n",
              "63898  37.212217   8100000.0    0.0    0.0       0.0             1.0    0.0   \n",
              "63899  37.308202  10700000.0    0.0    0.0       1.0             0.0    0.0   \n",
              "63900  37.299524  12300000.0    0.0    0.0       0.0             0.0    1.0   \n",
              "63901  37.153619  10800000.0    0.0    0.0       1.0             0.0    0.0   \n",
              "63902  37.154688  10900000.0    0.0    0.0       1.0             0.0    0.0   \n",
              "\n",
              "       stalin  wood                                   location_address  \n",
              "63898     0.0   0.0  13 k2, 46Н-06106, Popovka, Pervomayskoye settl...  \n",
              "63899     0.0   0.0  Titanic, 4, Academic Square, Microdistrict B, ...  \n",
              "63900     0.0   0.0  9, Nagornaya Street, Factory Village, Troitsk,...  \n",
              "63901     0.0   0.0  24, Центральная улица, Pervomayskoye, поселени...  \n",
              "63902     0.0   0.0  26, Центральная улица, Pervomayskoye, поселени...  "
            ],
            "text/html": [
              "\n",
              "  <div id=\"df-219d8223-7570-443f-b7bb-5be4ad640017\">\n",
              "    <div class=\"colab-df-container\">\n",
              "      <div>\n",
              "<style scoped>\n",
              "    .dataframe tbody tr th:only-of-type {\n",
              "        vertical-align: middle;\n",
              "    }\n",
              "\n",
              "    .dataframe tbody tr th {\n",
              "        vertical-align: top;\n",
              "    }\n",
              "\n",
              "    .dataframe thead th {\n",
              "        text-align: right;\n",
              "    }\n",
              "</style>\n",
              "<table border=\"1\" class=\"dataframe\">\n",
              "  <thead>\n",
              "    <tr style=\"text-align: right;\">\n",
              "      <th></th>\n",
              "      <th>floor_number</th>\n",
              "      <th>floors_total</th>\n",
              "      <th>area_total</th>\n",
              "      <th>kitchen_area</th>\n",
              "      <th>latitude</th>\n",
              "      <th>longitude</th>\n",
              "      <th>price</th>\n",
              "      <th>block</th>\n",
              "      <th>brick</th>\n",
              "      <th>monolith</th>\n",
              "      <th>monolith_brick</th>\n",
              "      <th>panel</th>\n",
              "      <th>stalin</th>\n",
              "      <th>wood</th>\n",
              "      <th>location_address</th>\n",
              "    </tr>\n",
              "  </thead>\n",
              "  <tbody>\n",
              "    <tr>\n",
              "      <th>63898</th>\n",
              "      <td>2.0</td>\n",
              "      <td>4.0</td>\n",
              "      <td>112.0</td>\n",
              "      <td>12.9</td>\n",
              "      <td>55.520161</td>\n",
              "      <td>37.212217</td>\n",
              "      <td>8100000.0</td>\n",
              "      <td>0.0</td>\n",
              "      <td>0.0</td>\n",
              "      <td>0.0</td>\n",
              "      <td>1.0</td>\n",
              "      <td>0.0</td>\n",
              "      <td>0.0</td>\n",
              "      <td>0.0</td>\n",
              "      <td>13 k2, 46Н-06106, Popovka, Pervomayskoye settl...</td>\n",
              "    </tr>\n",
              "    <tr>\n",
              "      <th>63899</th>\n",
              "      <td>14.0</td>\n",
              "      <td>17.0</td>\n",
              "      <td>100.0</td>\n",
              "      <td>14.0</td>\n",
              "      <td>55.485698</td>\n",
              "      <td>37.308202</td>\n",
              "      <td>10700000.0</td>\n",
              "      <td>0.0</td>\n",
              "      <td>0.0</td>\n",
              "      <td>1.0</td>\n",
              "      <td>0.0</td>\n",
              "      <td>0.0</td>\n",
              "      <td>0.0</td>\n",
              "      <td>0.0</td>\n",
              "      <td>Titanic, 4, Academic Square, Microdistrict B, ...</td>\n",
              "    </tr>\n",
              "    <tr>\n",
              "      <th>63900</th>\n",
              "      <td>3.0</td>\n",
              "      <td>17.0</td>\n",
              "      <td>103.0</td>\n",
              "      <td>11.0</td>\n",
              "      <td>55.491942</td>\n",
              "      <td>37.299524</td>\n",
              "      <td>12300000.0</td>\n",
              "      <td>0.0</td>\n",
              "      <td>0.0</td>\n",
              "      <td>0.0</td>\n",
              "      <td>0.0</td>\n",
              "      <td>1.0</td>\n",
              "      <td>0.0</td>\n",
              "      <td>0.0</td>\n",
              "      <td>9, Nagornaya Street, Factory Village, Troitsk,...</td>\n",
              "    </tr>\n",
              "    <tr>\n",
              "      <th>63901</th>\n",
              "      <td>2.0</td>\n",
              "      <td>3.0</td>\n",
              "      <td>110.0</td>\n",
              "      <td>19.0</td>\n",
              "      <td>55.536976</td>\n",
              "      <td>37.153619</td>\n",
              "      <td>10800000.0</td>\n",
              "      <td>0.0</td>\n",
              "      <td>0.0</td>\n",
              "      <td>1.0</td>\n",
              "      <td>0.0</td>\n",
              "      <td>0.0</td>\n",
              "      <td>0.0</td>\n",
              "      <td>0.0</td>\n",
              "      <td>24, Центральная улица, Pervomayskoye, поселени...</td>\n",
              "    </tr>\n",
              "    <tr>\n",
              "      <th>63902</th>\n",
              "      <td>2.0</td>\n",
              "      <td>3.0</td>\n",
              "      <td>110.0</td>\n",
              "      <td>22.0</td>\n",
              "      <td>55.536848</td>\n",
              "      <td>37.154688</td>\n",
              "      <td>10900000.0</td>\n",
              "      <td>0.0</td>\n",
              "      <td>0.0</td>\n",
              "      <td>1.0</td>\n",
              "      <td>0.0</td>\n",
              "      <td>0.0</td>\n",
              "      <td>0.0</td>\n",
              "      <td>0.0</td>\n",
              "      <td>26, Центральная улица, Pervomayskoye, поселени...</td>\n",
              "    </tr>\n",
              "  </tbody>\n",
              "</table>\n",
              "</div>\n",
              "      <button class=\"colab-df-convert\" onclick=\"convertToInteractive('df-219d8223-7570-443f-b7bb-5be4ad640017')\"\n",
              "              title=\"Convert this dataframe to an interactive table.\"\n",
              "              style=\"display:none;\">\n",
              "        \n",
              "  <svg xmlns=\"http://www.w3.org/2000/svg\" height=\"24px\"viewBox=\"0 0 24 24\"\n",
              "       width=\"24px\">\n",
              "    <path d=\"M0 0h24v24H0V0z\" fill=\"none\"/>\n",
              "    <path d=\"M18.56 5.44l.94 2.06.94-2.06 2.06-.94-2.06-.94-.94-2.06-.94 2.06-2.06.94zm-11 1L8.5 8.5l.94-2.06 2.06-.94-2.06-.94L8.5 2.5l-.94 2.06-2.06.94zm10 10l.94 2.06.94-2.06 2.06-.94-2.06-.94-.94-2.06-.94 2.06-2.06.94z\"/><path d=\"M17.41 7.96l-1.37-1.37c-.4-.4-.92-.59-1.43-.59-.52 0-1.04.2-1.43.59L10.3 9.45l-7.72 7.72c-.78.78-.78 2.05 0 2.83L4 21.41c.39.39.9.59 1.41.59.51 0 1.02-.2 1.41-.59l7.78-7.78 2.81-2.81c.8-.78.8-2.07 0-2.86zM5.41 20L4 18.59l7.72-7.72 1.47 1.35L5.41 20z\"/>\n",
              "  </svg>\n",
              "      </button>\n",
              "      \n",
              "  <style>\n",
              "    .colab-df-container {\n",
              "      display:flex;\n",
              "      flex-wrap:wrap;\n",
              "      gap: 12px;\n",
              "    }\n",
              "\n",
              "    .colab-df-convert {\n",
              "      background-color: #E8F0FE;\n",
              "      border: none;\n",
              "      border-radius: 50%;\n",
              "      cursor: pointer;\n",
              "      display: none;\n",
              "      fill: #1967D2;\n",
              "      height: 32px;\n",
              "      padding: 0 0 0 0;\n",
              "      width: 32px;\n",
              "    }\n",
              "\n",
              "    .colab-df-convert:hover {\n",
              "      background-color: #E2EBFA;\n",
              "      box-shadow: 0px 1px 2px rgba(60, 64, 67, 0.3), 0px 1px 3px 1px rgba(60, 64, 67, 0.15);\n",
              "      fill: #174EA6;\n",
              "    }\n",
              "\n",
              "    [theme=dark] .colab-df-convert {\n",
              "      background-color: #3B4455;\n",
              "      fill: #D2E3FC;\n",
              "    }\n",
              "\n",
              "    [theme=dark] .colab-df-convert:hover {\n",
              "      background-color: #434B5C;\n",
              "      box-shadow: 0px 1px 3px 1px rgba(0, 0, 0, 0.15);\n",
              "      filter: drop-shadow(0px 1px 2px rgba(0, 0, 0, 0.3));\n",
              "      fill: #FFFFFF;\n",
              "    }\n",
              "  </style>\n",
              "\n",
              "      <script>\n",
              "        const buttonEl =\n",
              "          document.querySelector('#df-219d8223-7570-443f-b7bb-5be4ad640017 button.colab-df-convert');\n",
              "        buttonEl.style.display =\n",
              "          google.colab.kernel.accessAllowed ? 'block' : 'none';\n",
              "\n",
              "        async function convertToInteractive(key) {\n",
              "          const element = document.querySelector('#df-219d8223-7570-443f-b7bb-5be4ad640017');\n",
              "          const dataTable =\n",
              "            await google.colab.kernel.invokeFunction('convertToInteractive',\n",
              "                                                     [key], {});\n",
              "          if (!dataTable) return;\n",
              "\n",
              "          const docLinkHtml = 'Like what you see? Visit the ' +\n",
              "            '<a target=\"_blank\" href=https://colab.research.google.com/notebooks/data_table.ipynb>data table notebook</a>'\n",
              "            + ' to learn more about interactive tables.';\n",
              "          element.innerHTML = '';\n",
              "          dataTable['output_type'] = 'display_data';\n",
              "          await google.colab.output.renderOutput(dataTable, element);\n",
              "          const docLink = document.createElement('div');\n",
              "          docLink.innerHTML = docLinkHtml;\n",
              "          element.appendChild(docLink);\n",
              "        }\n",
              "      </script>\n",
              "    </div>\n",
              "  </div>\n",
              "  "
            ]
          },
          "metadata": {},
          "execution_count": 36
        }
      ],
      "source": [
        "df2.tail()"
      ]
    },
    {
      "cell_type": "code",
      "execution_count": 37,
      "id": "e006087f",
      "metadata": {
        "colab": {
          "base_uri": "https://localhost:8080/"
        },
        "id": "e006087f",
        "outputId": "c6ec34c6-af1a-400f-d397-ee92927bf34d"
      },
      "outputs": [
        {
          "output_type": "stream",
          "name": "stdout",
          "text": [
            "<class 'pandas.core.frame.DataFrame'>\n",
            "Int64Index: 63903 entries, 0 to 63902\n",
            "Data columns (total 15 columns):\n",
            " #   Column            Non-Null Count  Dtype  \n",
            "---  ------            --------------  -----  \n",
            " 0   floor_number      63903 non-null  float64\n",
            " 1   floors_total      63903 non-null  float64\n",
            " 2   area_total        63903 non-null  float64\n",
            " 3   kitchen_area      63903 non-null  float64\n",
            " 4   latitude          63903 non-null  float64\n",
            " 5   longitude         63903 non-null  float64\n",
            " 6   price             63903 non-null  float64\n",
            " 7   block             63903 non-null  float64\n",
            " 8   brick             63903 non-null  float64\n",
            " 9   monolith          63903 non-null  float64\n",
            " 10  monolith_brick    63903 non-null  float64\n",
            " 11  panel             63903 non-null  float64\n",
            " 12  stalin            63903 non-null  float64\n",
            " 13  wood              63903 non-null  float64\n",
            " 14  location_address  63903 non-null  object \n",
            "dtypes: float64(14), object(1)\n",
            "memory usage: 7.8+ MB\n"
          ]
        }
      ],
      "source": [
        "df2.info()"
      ]
    },
    {
      "cell_type": "code",
      "execution_count": 38,
      "id": "5ab2aa30",
      "metadata": {
        "colab": {
          "base_uri": "https://localhost:8080/",
          "height": 496
        },
        "id": "5ab2aa30",
        "outputId": "24958e8d-1c0f-4c69-8368-0ef0f01a53b6"
      },
      "outputs": [
        {
          "output_type": "execute_result",
          "data": {
            "text/plain": [
              "   floor_number  floors_total  area_total  kitchen_area   latitude  longitude  \\\n",
              "0           1.0           5.0        18.0           3.0  55.723379  37.628577   \n",
              "1           1.0           5.0        15.0           3.0  55.725980  37.671031   \n",
              "2           1.0           5.0        11.9           1.5  55.735976  37.657817   \n",
              "3           1.0           7.0        18.4           3.0  55.786698  37.595321   \n",
              "4           2.0           5.0        17.6           2.0  55.767894  37.665920   \n",
              "\n",
              "       price  block  brick  monolith  monolith_brick  panel  stalin  wood  \\\n",
              "0  5600000.0    0.0    1.0       0.0             0.0    0.0     0.0   0.0   \n",
              "1  4650000.0    0.0    1.0       0.0             0.0    0.0     0.0   0.0   \n",
              "2  2990000.0    0.0    1.0       0.0             0.0    0.0     0.0   0.0   \n",
              "3  4390000.0    0.0    1.0       0.0             0.0    0.0     0.0   0.0   \n",
              "4  4890000.0    0.0    1.0       0.0             0.0    0.0     0.0   0.0   \n",
              "\n",
              "                                    location_address  \n",
              "0  31 к6, Bolshaya Serpukhovskaya Street, Zamoskv...  \n",
              "1  7/10, 1st Dubrovskaya street, Tagansky Distric...  \n",
              "2  24/6 building 2, Vorontsovskaya street, Tagans...  \n",
              "3  50/1 s1, Novoslobodskaya street, Tverskoy Dist...  \n",
              "4  25/1, Staraya Basmannaya Street, Basmanny Dist...  "
            ],
            "text/html": [
              "\n",
              "  <div id=\"df-c79ff950-14b7-4c43-a31e-58b55ad4c876\">\n",
              "    <div class=\"colab-df-container\">\n",
              "      <div>\n",
              "<style scoped>\n",
              "    .dataframe tbody tr th:only-of-type {\n",
              "        vertical-align: middle;\n",
              "    }\n",
              "\n",
              "    .dataframe tbody tr th {\n",
              "        vertical-align: top;\n",
              "    }\n",
              "\n",
              "    .dataframe thead th {\n",
              "        text-align: right;\n",
              "    }\n",
              "</style>\n",
              "<table border=\"1\" class=\"dataframe\">\n",
              "  <thead>\n",
              "    <tr style=\"text-align: right;\">\n",
              "      <th></th>\n",
              "      <th>floor_number</th>\n",
              "      <th>floors_total</th>\n",
              "      <th>area_total</th>\n",
              "      <th>kitchen_area</th>\n",
              "      <th>latitude</th>\n",
              "      <th>longitude</th>\n",
              "      <th>price</th>\n",
              "      <th>block</th>\n",
              "      <th>brick</th>\n",
              "      <th>monolith</th>\n",
              "      <th>monolith_brick</th>\n",
              "      <th>panel</th>\n",
              "      <th>stalin</th>\n",
              "      <th>wood</th>\n",
              "      <th>location_address</th>\n",
              "    </tr>\n",
              "  </thead>\n",
              "  <tbody>\n",
              "    <tr>\n",
              "      <th>0</th>\n",
              "      <td>1.0</td>\n",
              "      <td>5.0</td>\n",
              "      <td>18.0</td>\n",
              "      <td>3.0</td>\n",
              "      <td>55.723379</td>\n",
              "      <td>37.628577</td>\n",
              "      <td>5600000.0</td>\n",
              "      <td>0.0</td>\n",
              "      <td>1.0</td>\n",
              "      <td>0.0</td>\n",
              "      <td>0.0</td>\n",
              "      <td>0.0</td>\n",
              "      <td>0.0</td>\n",
              "      <td>0.0</td>\n",
              "      <td>31 к6, Bolshaya Serpukhovskaya Street, Zamoskv...</td>\n",
              "    </tr>\n",
              "    <tr>\n",
              "      <th>1</th>\n",
              "      <td>1.0</td>\n",
              "      <td>5.0</td>\n",
              "      <td>15.0</td>\n",
              "      <td>3.0</td>\n",
              "      <td>55.725980</td>\n",
              "      <td>37.671031</td>\n",
              "      <td>4650000.0</td>\n",
              "      <td>0.0</td>\n",
              "      <td>1.0</td>\n",
              "      <td>0.0</td>\n",
              "      <td>0.0</td>\n",
              "      <td>0.0</td>\n",
              "      <td>0.0</td>\n",
              "      <td>0.0</td>\n",
              "      <td>7/10, 1st Dubrovskaya street, Tagansky Distric...</td>\n",
              "    </tr>\n",
              "    <tr>\n",
              "      <th>2</th>\n",
              "      <td>1.0</td>\n",
              "      <td>5.0</td>\n",
              "      <td>11.9</td>\n",
              "      <td>1.5</td>\n",
              "      <td>55.735976</td>\n",
              "      <td>37.657817</td>\n",
              "      <td>2990000.0</td>\n",
              "      <td>0.0</td>\n",
              "      <td>1.0</td>\n",
              "      <td>0.0</td>\n",
              "      <td>0.0</td>\n",
              "      <td>0.0</td>\n",
              "      <td>0.0</td>\n",
              "      <td>0.0</td>\n",
              "      <td>24/6 building 2, Vorontsovskaya street, Tagans...</td>\n",
              "    </tr>\n",
              "    <tr>\n",
              "      <th>3</th>\n",
              "      <td>1.0</td>\n",
              "      <td>7.0</td>\n",
              "      <td>18.4</td>\n",
              "      <td>3.0</td>\n",
              "      <td>55.786698</td>\n",
              "      <td>37.595321</td>\n",
              "      <td>4390000.0</td>\n",
              "      <td>0.0</td>\n",
              "      <td>1.0</td>\n",
              "      <td>0.0</td>\n",
              "      <td>0.0</td>\n",
              "      <td>0.0</td>\n",
              "      <td>0.0</td>\n",
              "      <td>0.0</td>\n",
              "      <td>50/1 s1, Novoslobodskaya street, Tverskoy Dist...</td>\n",
              "    </tr>\n",
              "    <tr>\n",
              "      <th>4</th>\n",
              "      <td>2.0</td>\n",
              "      <td>5.0</td>\n",
              "      <td>17.6</td>\n",
              "      <td>2.0</td>\n",
              "      <td>55.767894</td>\n",
              "      <td>37.665920</td>\n",
              "      <td>4890000.0</td>\n",
              "      <td>0.0</td>\n",
              "      <td>1.0</td>\n",
              "      <td>0.0</td>\n",
              "      <td>0.0</td>\n",
              "      <td>0.0</td>\n",
              "      <td>0.0</td>\n",
              "      <td>0.0</td>\n",
              "      <td>25/1, Staraya Basmannaya Street, Basmanny Dist...</td>\n",
              "    </tr>\n",
              "  </tbody>\n",
              "</table>\n",
              "</div>\n",
              "      <button class=\"colab-df-convert\" onclick=\"convertToInteractive('df-c79ff950-14b7-4c43-a31e-58b55ad4c876')\"\n",
              "              title=\"Convert this dataframe to an interactive table.\"\n",
              "              style=\"display:none;\">\n",
              "        \n",
              "  <svg xmlns=\"http://www.w3.org/2000/svg\" height=\"24px\"viewBox=\"0 0 24 24\"\n",
              "       width=\"24px\">\n",
              "    <path d=\"M0 0h24v24H0V0z\" fill=\"none\"/>\n",
              "    <path d=\"M18.56 5.44l.94 2.06.94-2.06 2.06-.94-2.06-.94-.94-2.06-.94 2.06-2.06.94zm-11 1L8.5 8.5l.94-2.06 2.06-.94-2.06-.94L8.5 2.5l-.94 2.06-2.06.94zm10 10l.94 2.06.94-2.06 2.06-.94-2.06-.94-.94-2.06-.94 2.06-2.06.94z\"/><path d=\"M17.41 7.96l-1.37-1.37c-.4-.4-.92-.59-1.43-.59-.52 0-1.04.2-1.43.59L10.3 9.45l-7.72 7.72c-.78.78-.78 2.05 0 2.83L4 21.41c.39.39.9.59 1.41.59.51 0 1.02-.2 1.41-.59l7.78-7.78 2.81-2.81c.8-.78.8-2.07 0-2.86zM5.41 20L4 18.59l7.72-7.72 1.47 1.35L5.41 20z\"/>\n",
              "  </svg>\n",
              "      </button>\n",
              "      \n",
              "  <style>\n",
              "    .colab-df-container {\n",
              "      display:flex;\n",
              "      flex-wrap:wrap;\n",
              "      gap: 12px;\n",
              "    }\n",
              "\n",
              "    .colab-df-convert {\n",
              "      background-color: #E8F0FE;\n",
              "      border: none;\n",
              "      border-radius: 50%;\n",
              "      cursor: pointer;\n",
              "      display: none;\n",
              "      fill: #1967D2;\n",
              "      height: 32px;\n",
              "      padding: 0 0 0 0;\n",
              "      width: 32px;\n",
              "    }\n",
              "\n",
              "    .colab-df-convert:hover {\n",
              "      background-color: #E2EBFA;\n",
              "      box-shadow: 0px 1px 2px rgba(60, 64, 67, 0.3), 0px 1px 3px 1px rgba(60, 64, 67, 0.15);\n",
              "      fill: #174EA6;\n",
              "    }\n",
              "\n",
              "    [theme=dark] .colab-df-convert {\n",
              "      background-color: #3B4455;\n",
              "      fill: #D2E3FC;\n",
              "    }\n",
              "\n",
              "    [theme=dark] .colab-df-convert:hover {\n",
              "      background-color: #434B5C;\n",
              "      box-shadow: 0px 1px 3px 1px rgba(0, 0, 0, 0.15);\n",
              "      filter: drop-shadow(0px 1px 2px rgba(0, 0, 0, 0.3));\n",
              "      fill: #FFFFFF;\n",
              "    }\n",
              "  </style>\n",
              "\n",
              "      <script>\n",
              "        const buttonEl =\n",
              "          document.querySelector('#df-c79ff950-14b7-4c43-a31e-58b55ad4c876 button.colab-df-convert');\n",
              "        buttonEl.style.display =\n",
              "          google.colab.kernel.accessAllowed ? 'block' : 'none';\n",
              "\n",
              "        async function convertToInteractive(key) {\n",
              "          const element = document.querySelector('#df-c79ff950-14b7-4c43-a31e-58b55ad4c876');\n",
              "          const dataTable =\n",
              "            await google.colab.kernel.invokeFunction('convertToInteractive',\n",
              "                                                     [key], {});\n",
              "          if (!dataTable) return;\n",
              "\n",
              "          const docLinkHtml = 'Like what you see? Visit the ' +\n",
              "            '<a target=\"_blank\" href=https://colab.research.google.com/notebooks/data_table.ipynb>data table notebook</a>'\n",
              "            + ' to learn more about interactive tables.';\n",
              "          element.innerHTML = '';\n",
              "          dataTable['output_type'] = 'display_data';\n",
              "          await google.colab.output.renderOutput(dataTable, element);\n",
              "          const docLink = document.createElement('div');\n",
              "          docLink.innerHTML = docLinkHtml;\n",
              "          element.appendChild(docLink);\n",
              "        }\n",
              "      </script>\n",
              "    </div>\n",
              "  </div>\n",
              "  "
            ]
          },
          "metadata": {},
          "execution_count": 38
        }
      ],
      "source": [
        "df2.head()"
      ]
    },
    {
      "cell_type": "code",
      "execution_count": 39,
      "id": "63b86aaa",
      "metadata": {
        "id": "63b86aaa"
      },
      "outputs": [],
      "source": [
        "df2[['floor_number', 'floors_total', 'block', 'brick', 'monolith', 'monolith_brick', 'panel', 'stalin', 'wood']] = df2[['floor_number', 'floors_total', 'block', 'brick', 'monolith', 'monolith_brick', 'panel', 'stalin', 'wood']].astype('int8')\n",
        "\n",
        "df2[['kitchen_area', 'area_total']] = df2[['kitchen_area', 'area_total']].astype('float32')"
      ]
    },
    {
      "cell_type": "code",
      "execution_count": 40,
      "id": "ca61f156",
      "metadata": {
        "colab": {
          "base_uri": "https://localhost:8080/"
        },
        "id": "ca61f156",
        "outputId": "8c6c104a-0eb9-49bf-e3fc-d18f8469a1a9"
      },
      "outputs": [
        {
          "output_type": "stream",
          "name": "stdout",
          "text": [
            "<class 'pandas.core.frame.DataFrame'>\n",
            "Int64Index: 63903 entries, 0 to 63902\n",
            "Data columns (total 15 columns):\n",
            " #   Column            Non-Null Count  Dtype  \n",
            "---  ------            --------------  -----  \n",
            " 0   floor_number      63903 non-null  int8   \n",
            " 1   floors_total      63903 non-null  int8   \n",
            " 2   area_total        63903 non-null  float32\n",
            " 3   kitchen_area      63903 non-null  float32\n",
            " 4   latitude          63903 non-null  float64\n",
            " 5   longitude         63903 non-null  float64\n",
            " 6   price             63903 non-null  float64\n",
            " 7   block             63903 non-null  int8   \n",
            " 8   brick             63903 non-null  int8   \n",
            " 9   monolith          63903 non-null  int8   \n",
            " 10  monolith_brick    63903 non-null  int8   \n",
            " 11  panel             63903 non-null  int8   \n",
            " 12  stalin            63903 non-null  int8   \n",
            " 13  wood              63903 non-null  int8   \n",
            " 14  location_address  63903 non-null  object \n",
            "dtypes: float32(2), float64(3), int8(9), object(1)\n",
            "memory usage: 3.5+ MB\n"
          ]
        }
      ],
      "source": [
        "df2.info()"
      ]
    },
    {
      "cell_type": "code",
      "execution_count": 41,
      "id": "eed06a77",
      "metadata": {
        "colab": {
          "base_uri": "https://localhost:8080/",
          "height": 496
        },
        "id": "eed06a77",
        "outputId": "e8422089-59b6-43b2-9455-eb3b294c4dab"
      },
      "outputs": [
        {
          "output_type": "execute_result",
          "data": {
            "text/plain": [
              "   floor_number  floors_total  area_total  kitchen_area   latitude  longitude  \\\n",
              "0             1             5        18.0           3.0  55.723379  37.628577   \n",
              "1             1             5        15.0           3.0  55.725980  37.671031   \n",
              "2             1             5        11.9           1.5  55.735976  37.657817   \n",
              "3             1             7        18.4           3.0  55.786698  37.595321   \n",
              "4             2             5        17.6           2.0  55.767894  37.665920   \n",
              "\n",
              "       price  block  brick  monolith  monolith_brick  panel  stalin  wood  \\\n",
              "0  5600000.0      0      1         0               0      0       0     0   \n",
              "1  4650000.0      0      1         0               0      0       0     0   \n",
              "2  2990000.0      0      1         0               0      0       0     0   \n",
              "3  4390000.0      0      1         0               0      0       0     0   \n",
              "4  4890000.0      0      1         0               0      0       0     0   \n",
              "\n",
              "                                    location_address  \n",
              "0  31 к6, Bolshaya Serpukhovskaya Street, Zamoskv...  \n",
              "1  7/10, 1st Dubrovskaya street, Tagansky Distric...  \n",
              "2  24/6 building 2, Vorontsovskaya street, Tagans...  \n",
              "3  50/1 s1, Novoslobodskaya street, Tverskoy Dist...  \n",
              "4  25/1, Staraya Basmannaya Street, Basmanny Dist...  "
            ],
            "text/html": [
              "\n",
              "  <div id=\"df-be1f7480-824b-4515-bc02-4089e7f35787\">\n",
              "    <div class=\"colab-df-container\">\n",
              "      <div>\n",
              "<style scoped>\n",
              "    .dataframe tbody tr th:only-of-type {\n",
              "        vertical-align: middle;\n",
              "    }\n",
              "\n",
              "    .dataframe tbody tr th {\n",
              "        vertical-align: top;\n",
              "    }\n",
              "\n",
              "    .dataframe thead th {\n",
              "        text-align: right;\n",
              "    }\n",
              "</style>\n",
              "<table border=\"1\" class=\"dataframe\">\n",
              "  <thead>\n",
              "    <tr style=\"text-align: right;\">\n",
              "      <th></th>\n",
              "      <th>floor_number</th>\n",
              "      <th>floors_total</th>\n",
              "      <th>area_total</th>\n",
              "      <th>kitchen_area</th>\n",
              "      <th>latitude</th>\n",
              "      <th>longitude</th>\n",
              "      <th>price</th>\n",
              "      <th>block</th>\n",
              "      <th>brick</th>\n",
              "      <th>monolith</th>\n",
              "      <th>monolith_brick</th>\n",
              "      <th>panel</th>\n",
              "      <th>stalin</th>\n",
              "      <th>wood</th>\n",
              "      <th>location_address</th>\n",
              "    </tr>\n",
              "  </thead>\n",
              "  <tbody>\n",
              "    <tr>\n",
              "      <th>0</th>\n",
              "      <td>1</td>\n",
              "      <td>5</td>\n",
              "      <td>18.0</td>\n",
              "      <td>3.0</td>\n",
              "      <td>55.723379</td>\n",
              "      <td>37.628577</td>\n",
              "      <td>5600000.0</td>\n",
              "      <td>0</td>\n",
              "      <td>1</td>\n",
              "      <td>0</td>\n",
              "      <td>0</td>\n",
              "      <td>0</td>\n",
              "      <td>0</td>\n",
              "      <td>0</td>\n",
              "      <td>31 к6, Bolshaya Serpukhovskaya Street, Zamoskv...</td>\n",
              "    </tr>\n",
              "    <tr>\n",
              "      <th>1</th>\n",
              "      <td>1</td>\n",
              "      <td>5</td>\n",
              "      <td>15.0</td>\n",
              "      <td>3.0</td>\n",
              "      <td>55.725980</td>\n",
              "      <td>37.671031</td>\n",
              "      <td>4650000.0</td>\n",
              "      <td>0</td>\n",
              "      <td>1</td>\n",
              "      <td>0</td>\n",
              "      <td>0</td>\n",
              "      <td>0</td>\n",
              "      <td>0</td>\n",
              "      <td>0</td>\n",
              "      <td>7/10, 1st Dubrovskaya street, Tagansky Distric...</td>\n",
              "    </tr>\n",
              "    <tr>\n",
              "      <th>2</th>\n",
              "      <td>1</td>\n",
              "      <td>5</td>\n",
              "      <td>11.9</td>\n",
              "      <td>1.5</td>\n",
              "      <td>55.735976</td>\n",
              "      <td>37.657817</td>\n",
              "      <td>2990000.0</td>\n",
              "      <td>0</td>\n",
              "      <td>1</td>\n",
              "      <td>0</td>\n",
              "      <td>0</td>\n",
              "      <td>0</td>\n",
              "      <td>0</td>\n",
              "      <td>0</td>\n",
              "      <td>24/6 building 2, Vorontsovskaya street, Tagans...</td>\n",
              "    </tr>\n",
              "    <tr>\n",
              "      <th>3</th>\n",
              "      <td>1</td>\n",
              "      <td>7</td>\n",
              "      <td>18.4</td>\n",
              "      <td>3.0</td>\n",
              "      <td>55.786698</td>\n",
              "      <td>37.595321</td>\n",
              "      <td>4390000.0</td>\n",
              "      <td>0</td>\n",
              "      <td>1</td>\n",
              "      <td>0</td>\n",
              "      <td>0</td>\n",
              "      <td>0</td>\n",
              "      <td>0</td>\n",
              "      <td>0</td>\n",
              "      <td>50/1 s1, Novoslobodskaya street, Tverskoy Dist...</td>\n",
              "    </tr>\n",
              "    <tr>\n",
              "      <th>4</th>\n",
              "      <td>2</td>\n",
              "      <td>5</td>\n",
              "      <td>17.6</td>\n",
              "      <td>2.0</td>\n",
              "      <td>55.767894</td>\n",
              "      <td>37.665920</td>\n",
              "      <td>4890000.0</td>\n",
              "      <td>0</td>\n",
              "      <td>1</td>\n",
              "      <td>0</td>\n",
              "      <td>0</td>\n",
              "      <td>0</td>\n",
              "      <td>0</td>\n",
              "      <td>0</td>\n",
              "      <td>25/1, Staraya Basmannaya Street, Basmanny Dist...</td>\n",
              "    </tr>\n",
              "  </tbody>\n",
              "</table>\n",
              "</div>\n",
              "      <button class=\"colab-df-convert\" onclick=\"convertToInteractive('df-be1f7480-824b-4515-bc02-4089e7f35787')\"\n",
              "              title=\"Convert this dataframe to an interactive table.\"\n",
              "              style=\"display:none;\">\n",
              "        \n",
              "  <svg xmlns=\"http://www.w3.org/2000/svg\" height=\"24px\"viewBox=\"0 0 24 24\"\n",
              "       width=\"24px\">\n",
              "    <path d=\"M0 0h24v24H0V0z\" fill=\"none\"/>\n",
              "    <path d=\"M18.56 5.44l.94 2.06.94-2.06 2.06-.94-2.06-.94-.94-2.06-.94 2.06-2.06.94zm-11 1L8.5 8.5l.94-2.06 2.06-.94-2.06-.94L8.5 2.5l-.94 2.06-2.06.94zm10 10l.94 2.06.94-2.06 2.06-.94-2.06-.94-.94-2.06-.94 2.06-2.06.94z\"/><path d=\"M17.41 7.96l-1.37-1.37c-.4-.4-.92-.59-1.43-.59-.52 0-1.04.2-1.43.59L10.3 9.45l-7.72 7.72c-.78.78-.78 2.05 0 2.83L4 21.41c.39.39.9.59 1.41.59.51 0 1.02-.2 1.41-.59l7.78-7.78 2.81-2.81c.8-.78.8-2.07 0-2.86zM5.41 20L4 18.59l7.72-7.72 1.47 1.35L5.41 20z\"/>\n",
              "  </svg>\n",
              "      </button>\n",
              "      \n",
              "  <style>\n",
              "    .colab-df-container {\n",
              "      display:flex;\n",
              "      flex-wrap:wrap;\n",
              "      gap: 12px;\n",
              "    }\n",
              "\n",
              "    .colab-df-convert {\n",
              "      background-color: #E8F0FE;\n",
              "      border: none;\n",
              "      border-radius: 50%;\n",
              "      cursor: pointer;\n",
              "      display: none;\n",
              "      fill: #1967D2;\n",
              "      height: 32px;\n",
              "      padding: 0 0 0 0;\n",
              "      width: 32px;\n",
              "    }\n",
              "\n",
              "    .colab-df-convert:hover {\n",
              "      background-color: #E2EBFA;\n",
              "      box-shadow: 0px 1px 2px rgba(60, 64, 67, 0.3), 0px 1px 3px 1px rgba(60, 64, 67, 0.15);\n",
              "      fill: #174EA6;\n",
              "    }\n",
              "\n",
              "    [theme=dark] .colab-df-convert {\n",
              "      background-color: #3B4455;\n",
              "      fill: #D2E3FC;\n",
              "    }\n",
              "\n",
              "    [theme=dark] .colab-df-convert:hover {\n",
              "      background-color: #434B5C;\n",
              "      box-shadow: 0px 1px 3px 1px rgba(0, 0, 0, 0.15);\n",
              "      filter: drop-shadow(0px 1px 2px rgba(0, 0, 0, 0.3));\n",
              "      fill: #FFFFFF;\n",
              "    }\n",
              "  </style>\n",
              "\n",
              "      <script>\n",
              "        const buttonEl =\n",
              "          document.querySelector('#df-be1f7480-824b-4515-bc02-4089e7f35787 button.colab-df-convert');\n",
              "        buttonEl.style.display =\n",
              "          google.colab.kernel.accessAllowed ? 'block' : 'none';\n",
              "\n",
              "        async function convertToInteractive(key) {\n",
              "          const element = document.querySelector('#df-be1f7480-824b-4515-bc02-4089e7f35787');\n",
              "          const dataTable =\n",
              "            await google.colab.kernel.invokeFunction('convertToInteractive',\n",
              "                                                     [key], {});\n",
              "          if (!dataTable) return;\n",
              "\n",
              "          const docLinkHtml = 'Like what you see? Visit the ' +\n",
              "            '<a target=\"_blank\" href=https://colab.research.google.com/notebooks/data_table.ipynb>data table notebook</a>'\n",
              "            + ' to learn more about interactive tables.';\n",
              "          element.innerHTML = '';\n",
              "          dataTable['output_type'] = 'display_data';\n",
              "          await google.colab.output.renderOutput(dataTable, element);\n",
              "          const docLink = document.createElement('div');\n",
              "          docLink.innerHTML = docLinkHtml;\n",
              "          element.appendChild(docLink);\n",
              "        }\n",
              "      </script>\n",
              "    </div>\n",
              "  </div>\n",
              "  "
            ]
          },
          "metadata": {},
          "execution_count": 41
        }
      ],
      "source": [
        "df2.head()"
      ]
    },
    {
      "cell_type": "code",
      "execution_count": 42,
      "id": "6ede376f",
      "metadata": {
        "colab": {
          "base_uri": "https://localhost:8080/"
        },
        "id": "6ede376f",
        "outputId": "ebde73ab-af61-4169-fabc-59549734de58"
      },
      "outputs": [
        {
          "output_type": "execute_result",
          "data": {
            "text/plain": [
              "38.0    1301\n",
              "45.0    1274\n",
              "60.0    1255\n",
              "54.0    1094\n",
              "40.0    1092\n",
              "39.0    1006\n",
              "52.0    1003\n",
              "75.0     906\n",
              "35.0     901\n",
              "80.0     899\n",
              "Name: area_total, dtype: int64"
            ]
          },
          "metadata": {},
          "execution_count": 42
        }
      ],
      "source": [
        "df2['area_total'].value_counts().head(10)"
      ]
    },
    {
      "cell_type": "markdown",
      "id": "ed03f4cc",
      "metadata": {
        "id": "ed03f4cc"
      },
      "source": [
        "Let's explore floor_number, floors_total, area_total, kitchen_area, price columns of our data."
      ]
    },
    {
      "cell_type": "code",
      "execution_count": 43,
      "id": "6ec24951",
      "metadata": {
        "id": "6ec24951"
      },
      "outputs": [],
      "source": [
        "def explore_columns(columns, data):\n",
        "    for column in columns:\n",
        "        # None values\n",
        "        print(f'Column {column} contains {data[column].isna().sum()} blank spaces')\n",
        "        print()\n",
        "        # Frequency of the data\n",
        "        print(f'These are the 10 most frequent values of {column} column')\n",
        "        print()\n",
        "        display(data[column].value_counts().head(10))\n",
        "        print()\n",
        "        # mean and standard deviacion of our data\n",
        "        display(data[column].describe())\n",
        "        print()\n",
        "        data[column].hist(bins=50, figsize=(14,12), alpha=0.8)\n",
        "        plt.title(column)\n",
        "        plt.show()\n",
        "        print('--------------------------------------------')\n",
        "        print()\n",
        "    print(f'The number of the full duplicates is {data.duplicated().sum()}')\n",
        "    \n",
        "    "
      ]
    },
    {
      "cell_type": "code",
      "execution_count": 44,
      "id": "186fc4ee",
      "metadata": {
        "colab": {
          "base_uri": "https://localhost:8080/",
          "height": 1000
        },
        "id": "186fc4ee",
        "outputId": "61a430c3-f6ed-4d18-9bd6-32c0596e4ad1"
      },
      "outputs": [
        {
          "output_type": "stream",
          "name": "stdout",
          "text": [
            "Column floor_number contains 0 blank spaces\n",
            "\n",
            "These are the 10 most frequent values of floor_number column\n",
            "\n"
          ]
        },
        {
          "output_type": "display_data",
          "data": {
            "text/plain": [
              "2     7057\n",
              "3     6082\n",
              "4     5666\n",
              "5     5587\n",
              "1     4784\n",
              "6     4262\n",
              "7     4050\n",
              "8     3840\n",
              "9     3559\n",
              "12    2508\n",
              "Name: floor_number, dtype: int64"
            ]
          },
          "metadata": {}
        },
        {
          "output_type": "stream",
          "name": "stdout",
          "text": [
            "\n"
          ]
        },
        {
          "output_type": "display_data",
          "data": {
            "text/plain": [
              "count    63903.000000\n",
              "mean         7.780495\n",
              "std          6.360290\n",
              "min          1.000000\n",
              "25%          3.000000\n",
              "50%          6.000000\n",
              "75%         11.000000\n",
              "max         81.000000\n",
              "Name: floor_number, dtype: float64"
            ]
          },
          "metadata": {}
        },
        {
          "output_type": "stream",
          "name": "stdout",
          "text": [
            "\n"
          ]
        },
        {
          "output_type": "display_data",
          "data": {
            "text/plain": [
              "<Figure size 1008x864 with 1 Axes>"
            ],
            "image/png": "[encoded data removed]"
          },
          "metadata": {
            "needs_background": "light"
          }
        },
        {
          "output_type": "stream",
          "name": "stdout",
          "text": [
            "--------------------------------------------\n",
            "\n",
            "Column floors_total contains 0 blank spaces\n",
            "\n",
            "These are the 10 most frequent values of floors_total column\n",
            "\n"
          ]
        },
        {
          "output_type": "display_data",
          "data": {
            "text/plain": [
              "9     9211\n",
              "17    8711\n",
              "12    6485\n",
              "5     5669\n",
              "14    4726\n",
              "16    4303\n",
              "22    2655\n",
              "8     2455\n",
              "25    2073\n",
              "24    1355\n",
              "Name: floors_total, dtype: int64"
            ]
          },
          "metadata": {}
        },
        {
          "output_type": "stream",
          "name": "stdout",
          "text": [
            "\n"
          ]
        },
        {
          "output_type": "display_data",
          "data": {
            "text/plain": [
              "count    63903.000000\n",
              "mean        14.761279\n",
              "std          8.399980\n",
              "min          1.000000\n",
              "25%          9.000000\n",
              "50%         14.000000\n",
              "75%         17.000000\n",
              "max         99.000000\n",
              "Name: floors_total, dtype: float64"
            ]
          },
          "metadata": {}
        },
        {
          "output_type": "stream",
          "name": "stdout",
          "text": [
            "\n"
          ]
        },
        {
          "output_type": "display_data",
          "data": {
            "text/plain": [
              "<Figure size 1008x864 with 1 Axes>"
            ],
            "image/png": "[encoded data removed]"
          },
          "metadata": {
            "needs_background": "light"
          }
        },
        {
          "output_type": "stream",
          "name": "stdout",
          "text": [
            "--------------------------------------------\n",
            "\n",
            "Column area_total contains 0 blank spaces\n",
            "\n",
            "These are the 10 most frequent values of area_total column\n",
            "\n"
          ]
        },
        {
          "output_type": "display_data",
          "data": {
            "text/plain": [
              "38.0    1301\n",
              "45.0    1274\n",
              "60.0    1255\n",
              "54.0    1094\n",
              "40.0    1092\n",
              "39.0    1006\n",
              "52.0    1003\n",
              "75.0     906\n",
              "35.0     901\n",
              "80.0     899\n",
              "Name: area_total, dtype: int64"
            ]
          },
          "metadata": {}
        },
        {
          "output_type": "stream",
          "name": "stdout",
          "text": [
            "\n"
          ]
        },
        {
          "output_type": "display_data",
          "data": {
            "text/plain": [
              "count    63903.000000\n",
              "mean        69.057182\n",
              "std         43.723465\n",
              "min         10.600000\n",
              "25%         44.000000\n",
              "50%         59.000000\n",
              "75%         78.000000\n",
              "max        500.000000\n",
              "Name: area_total, dtype: float64"
            ]
          },
          "metadata": {}
        },
        {
          "output_type": "stream",
          "name": "stdout",
          "text": [
            "\n"
          ]
        },
        {
          "output_type": "display_data",
          "data": {
            "text/plain": [
              "<Figure size 1008x864 with 1 Axes>"
            ],
            "image/png": "[encoded data removed]"
          },
          "metadata": {
            "needs_background": "light"
          }
        },
        {
          "output_type": "stream",
          "name": "stdout",
          "text": [
            "--------------------------------------------\n",
            "\n",
            "Column kitchen_area contains 0 blank spaces\n",
            "\n",
            "These are the 10 most frequent values of kitchen_area column\n",
            "\n"
          ]
        },
        {
          "output_type": "display_data",
          "data": {
            "text/plain": [
              "10.0    7476\n",
              "6.0     6158\n",
              "9.0     5105\n",
              "8.0     3828\n",
              "12.0    3120\n",
              "7.0     2829\n",
              "11.0    2208\n",
              "15.0    2109\n",
              "13.0    1598\n",
              "20.0    1519\n",
              "Name: kitchen_area, dtype: int64"
            ]
          },
          "metadata": {}
        },
        {
          "output_type": "stream",
          "name": "stdout",
          "text": [
            "\n"
          ]
        },
        {
          "output_type": "display_data",
          "data": {
            "text/plain": [
              "count    63903.000000\n",
              "mean        11.023238\n",
              "std          5.827153\n",
              "min          1.000000\n",
              "25%          8.000000\n",
              "50%         10.000000\n",
              "75%         12.000000\n",
              "max        115.000000\n",
              "Name: kitchen_area, dtype: float64"
            ]
          },
          "metadata": {}
        },
        {
          "output_type": "stream",
          "name": "stdout",
          "text": [
            "\n"
          ]
        },
        {
          "output_type": "display_data",
          "data": {
            "text/plain": [
              "<Figure size 1008x864 with 1 Axes>"
            ],
            "image/png": "[encoded data removed]"
          },
          "metadata": {
            "needs_background": "light"
          }
        },
        {
          "output_type": "stream",
          "name": "stdout",
          "text": [
            "--------------------------------------------\n",
            "\n",
            "Column price contains 0 blank spaces\n",
            "\n",
            "These are the 10 most frequent values of price column\n",
            "\n"
          ]
        },
        {
          "output_type": "display_data",
          "data": {
            "text/plain": [
              "9500000.0     813\n",
              "8500000.0     797\n",
              "10500000.0    789\n",
              "7500000.0     787\n",
              "11500000.0    687\n",
              "12500000.0    653\n",
              "6500000.0     634\n",
              "11000000.0    630\n",
              "9000000.0     585\n",
              "8000000.0     574\n",
              "Name: price, dtype: int64"
            ]
          },
          "metadata": {}
        },
        {
          "output_type": "stream",
          "name": "stdout",
          "text": [
            "\n"
          ]
        },
        {
          "output_type": "display_data",
          "data": {
            "text/plain": [
              "count    6.390300e+04\n",
              "mean     1.814617e+07\n",
              "std      3.047208e+07\n",
              "min      7.500000e+05\n",
              "25%      8.150000e+06\n",
              "50%      1.129000e+07\n",
              "75%      1.760000e+07\n",
              "max      1.290089e+09\n",
              "Name: price, dtype: float64"
            ]
          },
          "metadata": {}
        },
        {
          "output_type": "stream",
          "name": "stdout",
          "text": [
            "\n"
          ]
        },
        {
          "output_type": "display_data",
          "data": {
            "text/plain": [
              "<Figure size 1008x864 with 1 Axes>"
            ],
            "image/png": "[encoded data removed]"
          },
          "metadata": {
            "needs_background": "light"
          }
        },
        {
          "output_type": "stream",
          "name": "stdout",
          "text": [
            "--------------------------------------------\n",
            "\n",
            "The number of the full duplicates is 2322\n"
          ]
        }
      ],
      "source": [
        "columns = ['floor_number', 'floors_total', 'area_total', 'kitchen_area', 'price']\n",
        "\n",
        "explore_columns(columns, df2)"
      ]
    },
    {
      "cell_type": "markdown",
      "id": "dcf36996",
      "metadata": {
        "id": "dcf36996"
      },
      "source": [
        "Let's drop full duplicates."
      ]
    },
    {
      "cell_type": "code",
      "execution_count": 45,
      "id": "29a9a49f",
      "metadata": {
        "id": "29a9a49f"
      },
      "outputs": [],
      "source": [
        "df2 = df2.drop_duplicates(inplace=False)"
      ]
    },
    {
      "cell_type": "code",
      "execution_count": 46,
      "id": "f40e10aa",
      "metadata": {
        "colab": {
          "base_uri": "https://localhost:8080/"
        },
        "id": "f40e10aa",
        "outputId": "bcc63599-1413-48f8-854c-d9f982da566e"
      },
      "outputs": [
        {
          "output_type": "stream",
          "name": "stdout",
          "text": [
            "<class 'pandas.core.frame.DataFrame'>\n",
            "Int64Index: 61581 entries, 0 to 63902\n",
            "Data columns (total 15 columns):\n",
            " #   Column            Non-Null Count  Dtype  \n",
            "---  ------            --------------  -----  \n",
            " 0   floor_number      61581 non-null  int8   \n",
            " 1   floors_total      61581 non-null  int8   \n",
            " 2   area_total        61581 non-null  float32\n",
            " 3   kitchen_area      61581 non-null  float32\n",
            " 4   latitude          61581 non-null  float64\n",
            " 5   longitude         61581 non-null  float64\n",
            " 6   price             61581 non-null  float64\n",
            " 7   block             61581 non-null  int8   \n",
            " 8   brick             61581 non-null  int8   \n",
            " 9   monolith          61581 non-null  int8   \n",
            " 10  monolith_brick    61581 non-null  int8   \n",
            " 11  panel             61581 non-null  int8   \n",
            " 12  stalin            61581 non-null  int8   \n",
            " 13  wood              61581 non-null  int8   \n",
            " 14  location_address  61581 non-null  object \n",
            "dtypes: float32(2), float64(3), int8(9), object(1)\n",
            "memory usage: 3.3+ MB\n"
          ]
        }
      ],
      "source": [
        "df2.info()"
      ]
    },
    {
      "cell_type": "code",
      "execution_count": 47,
      "id": "02bfb1af",
      "metadata": {
        "colab": {
          "base_uri": "https://localhost:8080/",
          "height": 496
        },
        "id": "02bfb1af",
        "outputId": "3b027632-cf3e-49f7-903a-7681d2ef8915"
      },
      "outputs": [
        {
          "output_type": "execute_result",
          "data": {
            "text/plain": [
              "   floor_number  floors_total  area_total  kitchen_area   latitude  longitude  \\\n",
              "0             1             5        18.0           3.0  55.723379  37.628577   \n",
              "1             1             5        15.0           3.0  55.725980  37.671031   \n",
              "2             1             5        11.9           1.5  55.735976  37.657817   \n",
              "3             1             7        18.4           3.0  55.786698  37.595321   \n",
              "4             2             5        17.6           2.0  55.767894  37.665920   \n",
              "\n",
              "       price  block  brick  monolith  monolith_brick  panel  stalin  wood  \\\n",
              "0  5600000.0      0      1         0               0      0       0     0   \n",
              "1  4650000.0      0      1         0               0      0       0     0   \n",
              "2  2990000.0      0      1         0               0      0       0     0   \n",
              "3  4390000.0      0      1         0               0      0       0     0   \n",
              "4  4890000.0      0      1         0               0      0       0     0   \n",
              "\n",
              "                                    location_address  \n",
              "0  31 к6, Bolshaya Serpukhovskaya Street, Zamoskv...  \n",
              "1  7/10, 1st Dubrovskaya street, Tagansky Distric...  \n",
              "2  24/6 building 2, Vorontsovskaya street, Tagans...  \n",
              "3  50/1 s1, Novoslobodskaya street, Tverskoy Dist...  \n",
              "4  25/1, Staraya Basmannaya Street, Basmanny Dist...  "
            ],
            "text/html": [
              "\n",
              "  <div id=\"df-67cd9f29-5bdb-4631-bd09-6264dfa74f36\">\n",
              "    <div class=\"colab-df-container\">\n",
              "      <div>\n",
              "<style scoped>\n",
              "    .dataframe tbody tr th:only-of-type {\n",
              "        vertical-align: middle;\n",
              "    }\n",
              "\n",
              "    .dataframe tbody tr th {\n",
              "        vertical-align: top;\n",
              "    }\n",
              "\n",
              "    .dataframe thead th {\n",
              "        text-align: right;\n",
              "    }\n",
              "</style>\n",
              "<table border=\"1\" class=\"dataframe\">\n",
              "  <thead>\n",
              "    <tr style=\"text-align: right;\">\n",
              "      <th></th>\n",
              "      <th>floor_number</th>\n",
              "      <th>floors_total</th>\n",
              "      <th>area_total</th>\n",
              "      <th>kitchen_area</th>\n",
              "      <th>latitude</th>\n",
              "      <th>longitude</th>\n",
              "      <th>price</th>\n",
              "      <th>block</th>\n",
              "      <th>brick</th>\n",
              "      <th>monolith</th>\n",
              "      <th>monolith_brick</th>\n",
              "      <th>panel</th>\n",
              "      <th>stalin</th>\n",
              "      <th>wood</th>\n",
              "      <th>location_address</th>\n",
              "    </tr>\n",
              "  </thead>\n",
              "  <tbody>\n",
              "    <tr>\n",
              "      <th>0</th>\n",
              "      <td>1</td>\n",
              "      <td>5</td>\n",
              "      <td>18.0</td>\n",
              "      <td>3.0</td>\n",
              "      <td>55.723379</td>\n",
              "      <td>37.628577</td>\n",
              "      <td>5600000.0</td>\n",
              "      <td>0</td>\n",
              "      <td>1</td>\n",
              "      <td>0</td>\n",
              "      <td>0</td>\n",
              "      <td>0</td>\n",
              "      <td>0</td>\n",
              "      <td>0</td>\n",
              "      <td>31 к6, Bolshaya Serpukhovskaya Street, Zamoskv...</td>\n",
              "    </tr>\n",
              "    <tr>\n",
              "      <th>1</th>\n",
              "      <td>1</td>\n",
              "      <td>5</td>\n",
              "      <td>15.0</td>\n",
              "      <td>3.0</td>\n",
              "      <td>55.725980</td>\n",
              "      <td>37.671031</td>\n",
              "      <td>4650000.0</td>\n",
              "      <td>0</td>\n",
              "      <td>1</td>\n",
              "      <td>0</td>\n",
              "      <td>0</td>\n",
              "      <td>0</td>\n",
              "      <td>0</td>\n",
              "      <td>0</td>\n",
              "      <td>7/10, 1st Dubrovskaya street, Tagansky Distric...</td>\n",
              "    </tr>\n",
              "    <tr>\n",
              "      <th>2</th>\n",
              "      <td>1</td>\n",
              "      <td>5</td>\n",
              "      <td>11.9</td>\n",
              "      <td>1.5</td>\n",
              "      <td>55.735976</td>\n",
              "      <td>37.657817</td>\n",
              "      <td>2990000.0</td>\n",
              "      <td>0</td>\n",
              "      <td>1</td>\n",
              "      <td>0</td>\n",
              "      <td>0</td>\n",
              "      <td>0</td>\n",
              "      <td>0</td>\n",
              "      <td>0</td>\n",
              "      <td>24/6 building 2, Vorontsovskaya street, Tagans...</td>\n",
              "    </tr>\n",
              "    <tr>\n",
              "      <th>3</th>\n",
              "      <td>1</td>\n",
              "      <td>7</td>\n",
              "      <td>18.4</td>\n",
              "      <td>3.0</td>\n",
              "      <td>55.786698</td>\n",
              "      <td>37.595321</td>\n",
              "      <td>4390000.0</td>\n",
              "      <td>0</td>\n",
              "      <td>1</td>\n",
              "      <td>0</td>\n",
              "      <td>0</td>\n",
              "      <td>0</td>\n",
              "      <td>0</td>\n",
              "      <td>0</td>\n",
              "      <td>50/1 s1, Novoslobodskaya street, Tverskoy Dist...</td>\n",
              "    </tr>\n",
              "    <tr>\n",
              "      <th>4</th>\n",
              "      <td>2</td>\n",
              "      <td>5</td>\n",
              "      <td>17.6</td>\n",
              "      <td>2.0</td>\n",
              "      <td>55.767894</td>\n",
              "      <td>37.665920</td>\n",
              "      <td>4890000.0</td>\n",
              "      <td>0</td>\n",
              "      <td>1</td>\n",
              "      <td>0</td>\n",
              "      <td>0</td>\n",
              "      <td>0</td>\n",
              "      <td>0</td>\n",
              "      <td>0</td>\n",
              "      <td>25/1, Staraya Basmannaya Street, Basmanny Dist...</td>\n",
              "    </tr>\n",
              "  </tbody>\n",
              "</table>\n",
              "</div>\n",
              "      <button class=\"colab-df-convert\" onclick=\"convertToInteractive('df-67cd9f29-5bdb-4631-bd09-6264dfa74f36')\"\n",
              "              title=\"Convert this dataframe to an interactive table.\"\n",
              "              style=\"display:none;\">\n",
              "        \n",
              "  <svg xmlns=\"http://www.w3.org/2000/svg\" height=\"24px\"viewBox=\"0 0 24 24\"\n",
              "       width=\"24px\">\n",
              "    <path d=\"M0 0h24v24H0V0z\" fill=\"none\"/>\n",
              "    <path d=\"M18.56 5.44l.94 2.06.94-2.06 2.06-.94-2.06-.94-.94-2.06-.94 2.06-2.06.94zm-11 1L8.5 8.5l.94-2.06 2.06-.94-2.06-.94L8.5 2.5l-.94 2.06-2.06.94zm10 10l.94 2.06.94-2.06 2.06-.94-2.06-.94-.94-2.06-.94 2.06-2.06.94z\"/><path d=\"M17.41 7.96l-1.37-1.37c-.4-.4-.92-.59-1.43-.59-.52 0-1.04.2-1.43.59L10.3 9.45l-7.72 7.72c-.78.78-.78 2.05 0 2.83L4 21.41c.39.39.9.59 1.41.59.51 0 1.02-.2 1.41-.59l7.78-7.78 2.81-2.81c.8-.78.8-2.07 0-2.86zM5.41 20L4 18.59l7.72-7.72 1.47 1.35L5.41 20z\"/>\n",
              "  </svg>\n",
              "      </button>\n",
              "      \n",
              "  <style>\n",
              "    .colab-df-container {\n",
              "      display:flex;\n",
              "      flex-wrap:wrap;\n",
              "      gap: 12px;\n",
              "    }\n",
              "\n",
              "    .colab-df-convert {\n",
              "      background-color: #E8F0FE;\n",
              "      border: none;\n",
              "      border-radius: 50%;\n",
              "      cursor: pointer;\n",
              "      display: none;\n",
              "      fill: #1967D2;\n",
              "      height: 32px;\n",
              "      padding: 0 0 0 0;\n",
              "      width: 32px;\n",
              "    }\n",
              "\n",
              "    .colab-df-convert:hover {\n",
              "      background-color: #E2EBFA;\n",
              "      box-shadow: 0px 1px 2px rgba(60, 64, 67, 0.3), 0px 1px 3px 1px rgba(60, 64, 67, 0.15);\n",
              "      fill: #174EA6;\n",
              "    }\n",
              "\n",
              "    [theme=dark] .colab-df-convert {\n",
              "      background-color: #3B4455;\n",
              "      fill: #D2E3FC;\n",
              "    }\n",
              "\n",
              "    [theme=dark] .colab-df-convert:hover {\n",
              "      background-color: #434B5C;\n",
              "      box-shadow: 0px 1px 3px 1px rgba(0, 0, 0, 0.15);\n",
              "      filter: drop-shadow(0px 1px 2px rgba(0, 0, 0, 0.3));\n",
              "      fill: #FFFFFF;\n",
              "    }\n",
              "  </style>\n",
              "\n",
              "      <script>\n",
              "        const buttonEl =\n",
              "          document.querySelector('#df-67cd9f29-5bdb-4631-bd09-6264dfa74f36 button.colab-df-convert');\n",
              "        buttonEl.style.display =\n",
              "          google.colab.kernel.accessAllowed ? 'block' : 'none';\n",
              "\n",
              "        async function convertToInteractive(key) {\n",
              "          const element = document.querySelector('#df-67cd9f29-5bdb-4631-bd09-6264dfa74f36');\n",
              "          const dataTable =\n",
              "            await google.colab.kernel.invokeFunction('convertToInteractive',\n",
              "                                                     [key], {});\n",
              "          if (!dataTable) return;\n",
              "\n",
              "          const docLinkHtml = 'Like what you see? Visit the ' +\n",
              "            '<a target=\"_blank\" href=https://colab.research.google.com/notebooks/data_table.ipynb>data table notebook</a>'\n",
              "            + ' to learn more about interactive tables.';\n",
              "          element.innerHTML = '';\n",
              "          dataTable['output_type'] = 'display_data';\n",
              "          await google.colab.output.renderOutput(dataTable, element);\n",
              "          const docLink = document.createElement('div');\n",
              "          docLink.innerHTML = docLinkHtml;\n",
              "          element.appendChild(docLink);\n",
              "        }\n",
              "      </script>\n",
              "    </div>\n",
              "  </div>\n",
              "  "
            ]
          },
          "metadata": {},
          "execution_count": 47
        }
      ],
      "source": [
        "df2.head()"
      ]
    },
    {
      "cell_type": "markdown",
      "id": "d5ecffef",
      "metadata": {
        "id": "d5ecffef"
      },
      "source": [
        "Let's check whether our coordinates are within possible values."
      ]
    },
    {
      "cell_type": "code",
      "execution_count": 48,
      "id": "ab78cce5",
      "metadata": {
        "colab": {
          "base_uri": "https://localhost:8080/",
          "height": 113
        },
        "id": "ab78cce5",
        "outputId": "0989acb4-17e1-495f-d9c6-5976a1251685"
      },
      "outputs": [
        {
          "output_type": "execute_result",
          "data": {
            "text/plain": [
              "Empty DataFrame\n",
              "Columns: [floor_number, floors_total, area_total, kitchen_area, latitude, longitude, price, block, brick, monolith, monolith_brick, panel, stalin, wood, location_address]\n",
              "Index: []"
            ],
            "text/html": [
              "\n",
              "  <div id=\"df-869e3a76-6ce0-4d8d-bfcf-f359ba4a806a\">\n",
              "    <div class=\"colab-df-container\">\n",
              "      <div>\n",
              "<style scoped>\n",
              "    .dataframe tbody tr th:only-of-type {\n",
              "        vertical-align: middle;\n",
              "    }\n",
              "\n",
              "    .dataframe tbody tr th {\n",
              "        vertical-align: top;\n",
              "    }\n",
              "\n",
              "    .dataframe thead th {\n",
              "        text-align: right;\n",
              "    }\n",
              "</style>\n",
              "<table border=\"1\" class=\"dataframe\">\n",
              "  <thead>\n",
              "    <tr style=\"text-align: right;\">\n",
              "      <th></th>\n",
              "      <th>floor_number</th>\n",
              "      <th>floors_total</th>\n",
              "      <th>area_total</th>\n",
              "      <th>kitchen_area</th>\n",
              "      <th>latitude</th>\n",
              "      <th>longitude</th>\n",
              "      <th>price</th>\n",
              "      <th>block</th>\n",
              "      <th>brick</th>\n",
              "      <th>monolith</th>\n",
              "      <th>monolith_brick</th>\n",
              "      <th>panel</th>\n",
              "      <th>stalin</th>\n",
              "      <th>wood</th>\n",
              "      <th>location_address</th>\n",
              "    </tr>\n",
              "  </thead>\n",
              "  <tbody>\n",
              "  </tbody>\n",
              "</table>\n",
              "</div>\n",
              "      <button class=\"colab-df-convert\" onclick=\"convertToInteractive('df-869e3a76-6ce0-4d8d-bfcf-f359ba4a806a')\"\n",
              "              title=\"Convert this dataframe to an interactive table.\"\n",
              "              style=\"display:none;\">\n",
              "        \n",
              "  <svg xmlns=\"http://www.w3.org/2000/svg\" height=\"24px\"viewBox=\"0 0 24 24\"\n",
              "       width=\"24px\">\n",
              "    <path d=\"M0 0h24v24H0V0z\" fill=\"none\"/>\n",
              "    <path d=\"M18.56 5.44l.94 2.06.94-2.06 2.06-.94-2.06-.94-.94-2.06-.94 2.06-2.06.94zm-11 1L8.5 8.5l.94-2.06 2.06-.94-2.06-.94L8.5 2.5l-.94 2.06-2.06.94zm10 10l.94 2.06.94-2.06 2.06-.94-2.06-.94-.94-2.06-.94 2.06-2.06.94z\"/><path d=\"M17.41 7.96l-1.37-1.37c-.4-.4-.92-.59-1.43-.59-.52 0-1.04.2-1.43.59L10.3 9.45l-7.72 7.72c-.78.78-.78 2.05 0 2.83L4 21.41c.39.39.9.59 1.41.59.51 0 1.02-.2 1.41-.59l7.78-7.78 2.81-2.81c.8-.78.8-2.07 0-2.86zM5.41 20L4 18.59l7.72-7.72 1.47 1.35L5.41 20z\"/>\n",
              "  </svg>\n",
              "      </button>\n",
              "      \n",
              "  <style>\n",
              "    .colab-df-container {\n",
              "      display:flex;\n",
              "      flex-wrap:wrap;\n",
              "      gap: 12px;\n",
              "    }\n",
              "\n",
              "    .colab-df-convert {\n",
              "      background-color: #E8F0FE;\n",
              "      border: none;\n",
              "      border-radius: 50%;\n",
              "      cursor: pointer;\n",
              "      display: none;\n",
              "      fill: #1967D2;\n",
              "      height: 32px;\n",
              "      padding: 0 0 0 0;\n",
              "      width: 32px;\n",
              "    }\n",
              "\n",
              "    .colab-df-convert:hover {\n",
              "      background-color: #E2EBFA;\n",
              "      box-shadow: 0px 1px 2px rgba(60, 64, 67, 0.3), 0px 1px 3px 1px rgba(60, 64, 67, 0.15);\n",
              "      fill: #174EA6;\n",
              "    }\n",
              "\n",
              "    [theme=dark] .colab-df-convert {\n",
              "      background-color: #3B4455;\n",
              "      fill: #D2E3FC;\n",
              "    }\n",
              "\n",
              "    [theme=dark] .colab-df-convert:hover {\n",
              "      background-color: #434B5C;\n",
              "      box-shadow: 0px 1px 3px 1px rgba(0, 0, 0, 0.15);\n",
              "      filter: drop-shadow(0px 1px 2px rgba(0, 0, 0, 0.3));\n",
              "      fill: #FFFFFF;\n",
              "    }\n",
              "  </style>\n",
              "\n",
              "      <script>\n",
              "        const buttonEl =\n",
              "          document.querySelector('#df-869e3a76-6ce0-4d8d-bfcf-f359ba4a806a button.colab-df-convert');\n",
              "        buttonEl.style.display =\n",
              "          google.colab.kernel.accessAllowed ? 'block' : 'none';\n",
              "\n",
              "        async function convertToInteractive(key) {\n",
              "          const element = document.querySelector('#df-869e3a76-6ce0-4d8d-bfcf-f359ba4a806a');\n",
              "          const dataTable =\n",
              "            await google.colab.kernel.invokeFunction('convertToInteractive',\n",
              "                                                     [key], {});\n",
              "          if (!dataTable) return;\n",
              "\n",
              "          const docLinkHtml = 'Like what you see? Visit the ' +\n",
              "            '<a target=\"_blank\" href=https://colab.research.google.com/notebooks/data_table.ipynb>data table notebook</a>'\n",
              "            + ' to learn more about interactive tables.';\n",
              "          element.innerHTML = '';\n",
              "          dataTable['output_type'] = 'display_data';\n",
              "          await google.colab.output.renderOutput(dataTable, element);\n",
              "          const docLink = document.createElement('div');\n",
              "          docLink.innerHTML = docLinkHtml;\n",
              "          element.appendChild(docLink);\n",
              "        }\n",
              "      </script>\n",
              "    </div>\n",
              "  </div>\n",
              "  "
            ]
          },
          "metadata": {},
          "execution_count": 48
        }
      ],
      "source": [
        "df2.loc[((df2['latitude'] > 90) | (df2['latitude'] < -90)) | ((df2['longitude'] > 180) | (df2['longitude'] < -180))]"
      ]
    },
    {
      "cell_type": "code",
      "execution_count": 49,
      "id": "6773c5fb",
      "metadata": {
        "colab": {
          "base_uri": "https://localhost:8080/",
          "height": 552
        },
        "id": "6773c5fb",
        "outputId": "6773a5c9-88e6-4247-e695-b0bce2c6cea3"
      },
      "outputs": [
        {
          "output_type": "execute_result",
          "data": {
            "text/plain": [
              "                floor_number  floors_total  area_total  kitchen_area  \\\n",
              "floor_number        1.000000      0.656145    0.178157      0.252757   \n",
              "floors_total        0.656145      1.000000    0.195770      0.342216   \n",
              "area_total          0.178157      0.195770    1.000000      0.640442   \n",
              "kitchen_area        0.252757      0.342216    0.640442      1.000000   \n",
              "latitude           -0.010711      0.002863    0.026533     -0.016469   \n",
              "longitude          -0.066263     -0.099668   -0.069249     -0.114021   \n",
              "price               0.097079      0.087334    0.756503      0.463023   \n",
              "block              -0.067056     -0.087493   -0.119974     -0.111116   \n",
              "brick              -0.251747     -0.386189   -0.024443     -0.134990   \n",
              "monolith            0.273523      0.403613    0.199723      0.341102   \n",
              "monolith_brick      0.107071      0.156795    0.235922      0.270427   \n",
              "panel              -0.036144     -0.043747   -0.231637     -0.273381   \n",
              "stalin             -0.071107     -0.113726    0.020166     -0.026534   \n",
              "wood               -0.005140     -0.009826   -0.001863     -0.000123   \n",
              "\n",
              "                latitude  longitude     price     block     brick  monolith  \\\n",
              "floor_number   -0.010711  -0.066263  0.097079 -0.067056 -0.251747  0.273523   \n",
              "floors_total    0.002863  -0.099668  0.087334 -0.087493 -0.386189  0.403613   \n",
              "area_total      0.026533  -0.069249  0.756503 -0.119974 -0.024443  0.199723   \n",
              "kitchen_area   -0.016469  -0.114021  0.463023 -0.111116 -0.134990  0.341102   \n",
              "latitude        1.000000   0.032390  0.052794  0.028475  0.110368 -0.026847   \n",
              "longitude       0.032390   1.000000 -0.033463  0.062780  0.059664 -0.164756   \n",
              "price           0.052794  -0.033463  1.000000 -0.071754  0.009360  0.137300   \n",
              "block           0.028475   0.062780 -0.071754  1.000000 -0.129995 -0.141044   \n",
              "brick           0.110368   0.059664  0.009360 -0.129995  1.000000 -0.273119   \n",
              "monolith       -0.026847  -0.164756  0.137300 -0.141044 -0.273119  1.000000   \n",
              "monolith_brick -0.039117  -0.093780  0.212041 -0.079148 -0.153263 -0.166290   \n",
              "panel          -0.070411   0.108276 -0.213642 -0.212633 -0.411743 -0.446740   \n",
              "stalin          0.040629   0.021705  0.011356 -0.036277 -0.070247 -0.076218   \n",
              "wood            0.000053   0.007899 -0.001154 -0.005008 -0.009698 -0.010522   \n",
              "\n",
              "                monolith_brick     panel    stalin      wood  \n",
              "floor_number          0.107071 -0.036144 -0.071107 -0.005140  \n",
              "floors_total          0.156795 -0.043747 -0.113726 -0.009826  \n",
              "area_total            0.235922 -0.231637  0.020166 -0.001863  \n",
              "kitchen_area          0.270427 -0.273381 -0.026534 -0.000123  \n",
              "latitude             -0.039117 -0.070411  0.040629  0.000053  \n",
              "longitude            -0.093780  0.108276  0.021705  0.007899  \n",
              "price                 0.212041 -0.213642  0.011356 -0.001154  \n",
              "block                -0.079148 -0.212633 -0.036277 -0.005008  \n",
              "brick                -0.153263 -0.411743 -0.070247 -0.009698  \n",
              "monolith             -0.166290 -0.446740 -0.076218 -0.010522  \n",
              "monolith_brick        1.000000 -0.250693 -0.042771 -0.005905  \n",
              "panel                -0.250693  1.000000 -0.114903 -0.015863  \n",
              "stalin               -0.042771 -0.114903  1.000000 -0.002706  \n",
              "wood                 -0.005905 -0.015863 -0.002706  1.000000  "
            ],
            "text/html": [
              "\n",
              "  <div id=\"df-997ee717-07f8-4c12-a564-2d7f183ae8d3\">\n",
              "    <div class=\"colab-df-container\">\n",
              "      <div>\n",
              "<style scoped>\n",
              "    .dataframe tbody tr th:only-of-type {\n",
              "        vertical-align: middle;\n",
              "    }\n",
              "\n",
              "    .dataframe tbody tr th {\n",
              "        vertical-align: top;\n",
              "    }\n",
              "\n",
              "    .dataframe thead th {\n",
              "        text-align: right;\n",
              "    }\n",
              "</style>\n",
              "<table border=\"1\" class=\"dataframe\">\n",
              "  <thead>\n",
              "    <tr style=\"text-align: right;\">\n",
              "      <th></th>\n",
              "      <th>floor_number</th>\n",
              "      <th>floors_total</th>\n",
              "      <th>area_total</th>\n",
              "      <th>kitchen_area</th>\n",
              "      <th>latitude</th>\n",
              "      <th>longitude</th>\n",
              "      <th>price</th>\n",
              "      <th>block</th>\n",
              "      <th>brick</th>\n",
              "      <th>monolith</th>\n",
              "      <th>monolith_brick</th>\n",
              "      <th>panel</th>\n",
              "      <th>stalin</th>\n",
              "      <th>wood</th>\n",
              "    </tr>\n",
              "  </thead>\n",
              "  <tbody>\n",
              "    <tr>\n",
              "      <th>floor_number</th>\n",
              "      <td>1.000000</td>\n",
              "      <td>0.656145</td>\n",
              "      <td>0.178157</td>\n",
              "      <td>0.252757</td>\n",
              "      <td>-0.010711</td>\n",
              "      <td>-0.066263</td>\n",
              "      <td>0.097079</td>\n",
              "      <td>-0.067056</td>\n",
              "      <td>-0.251747</td>\n",
              "      <td>0.273523</td>\n",
              "      <td>0.107071</td>\n",
              "      <td>-0.036144</td>\n",
              "      <td>-0.071107</td>\n",
              "      <td>-0.005140</td>\n",
              "    </tr>\n",
              "    <tr>\n",
              "      <th>floors_total</th>\n",
              "      <td>0.656145</td>\n",
              "      <td>1.000000</td>\n",
              "      <td>0.195770</td>\n",
              "      <td>0.342216</td>\n",
              "      <td>0.002863</td>\n",
              "      <td>-0.099668</td>\n",
              "      <td>0.087334</td>\n",
              "      <td>-0.087493</td>\n",
              "      <td>-0.386189</td>\n",
              "      <td>0.403613</td>\n",
              "      <td>0.156795</td>\n",
              "      <td>-0.043747</td>\n",
              "      <td>-0.113726</td>\n",
              "      <td>-0.009826</td>\n",
              "    </tr>\n",
              "    <tr>\n",
              "      <th>area_total</th>\n",
              "      <td>0.178157</td>\n",
              "      <td>0.195770</td>\n",
              "      <td>1.000000</td>\n",
              "      <td>0.640442</td>\n",
              "      <td>0.026533</td>\n",
              "      <td>-0.069249</td>\n",
              "      <td>0.756503</td>\n",
              "      <td>-0.119974</td>\n",
              "      <td>-0.024443</td>\n",
              "      <td>0.199723</td>\n",
              "      <td>0.235922</td>\n",
              "      <td>-0.231637</td>\n",
              "      <td>0.020166</td>\n",
              "      <td>-0.001863</td>\n",
              "    </tr>\n",
              "    <tr>\n",
              "      <th>kitchen_area</th>\n",
              "      <td>0.252757</td>\n",
              "      <td>0.342216</td>\n",
              "      <td>0.640442</td>\n",
              "      <td>1.000000</td>\n",
              "      <td>-0.016469</td>\n",
              "      <td>-0.114021</td>\n",
              "      <td>0.463023</td>\n",
              "      <td>-0.111116</td>\n",
              "      <td>-0.134990</td>\n",
              "      <td>0.341102</td>\n",
              "      <td>0.270427</td>\n",
              "      <td>-0.273381</td>\n",
              "      <td>-0.026534</td>\n",
              "      <td>-0.000123</td>\n",
              "    </tr>\n",
              "    <tr>\n",
              "      <th>latitude</th>\n",
              "      <td>-0.010711</td>\n",
              "      <td>0.002863</td>\n",
              "      <td>0.026533</td>\n",
              "      <td>-0.016469</td>\n",
              "      <td>1.000000</td>\n",
              "      <td>0.032390</td>\n",
              "      <td>0.052794</td>\n",
              "      <td>0.028475</td>\n",
              "      <td>0.110368</td>\n",
              "      <td>-0.026847</td>\n",
              "      <td>-0.039117</td>\n",
              "      <td>-0.070411</td>\n",
              "      <td>0.040629</td>\n",
              "      <td>0.000053</td>\n",
              "    </tr>\n",
              "    <tr>\n",
              "      <th>longitude</th>\n",
              "      <td>-0.066263</td>\n",
              "      <td>-0.099668</td>\n",
              "      <td>-0.069249</td>\n",
              "      <td>-0.114021</td>\n",
              "      <td>0.032390</td>\n",
              "      <td>1.000000</td>\n",
              "      <td>-0.033463</td>\n",
              "      <td>0.062780</td>\n",
              "      <td>0.059664</td>\n",
              "      <td>-0.164756</td>\n",
              "      <td>-0.093780</td>\n",
              "      <td>0.108276</td>\n",
              "      <td>0.021705</td>\n",
              "      <td>0.007899</td>\n",
              "    </tr>\n",
              "    <tr>\n",
              "      <th>price</th>\n",
              "      <td>0.097079</td>\n",
              "      <td>0.087334</td>\n",
              "      <td>0.756503</td>\n",
              "      <td>0.463023</td>\n",
              "      <td>0.052794</td>\n",
              "      <td>-0.033463</td>\n",
              "      <td>1.000000</td>\n",
              "      <td>-0.071754</td>\n",
              "      <td>0.009360</td>\n",
              "      <td>0.137300</td>\n",
              "      <td>0.212041</td>\n",
              "      <td>-0.213642</td>\n",
              "      <td>0.011356</td>\n",
              "      <td>-0.001154</td>\n",
              "    </tr>\n",
              "    <tr>\n",
              "      <th>block</th>\n",
              "      <td>-0.067056</td>\n",
              "      <td>-0.087493</td>\n",
              "      <td>-0.119974</td>\n",
              "      <td>-0.111116</td>\n",
              "      <td>0.028475</td>\n",
              "      <td>0.062780</td>\n",
              "      <td>-0.071754</td>\n",
              "      <td>1.000000</td>\n",
              "      <td>-0.129995</td>\n",
              "      <td>-0.141044</td>\n",
              "      <td>-0.079148</td>\n",
              "      <td>-0.212633</td>\n",
              "      <td>-0.036277</td>\n",
              "      <td>-0.005008</td>\n",
              "    </tr>\n",
              "    <tr>\n",
              "      <th>brick</th>\n",
              "      <td>-0.251747</td>\n",
              "      <td>-0.386189</td>\n",
              "      <td>-0.024443</td>\n",
              "      <td>-0.134990</td>\n",
              "      <td>0.110368</td>\n",
              "      <td>0.059664</td>\n",
              "      <td>0.009360</td>\n",
              "      <td>-0.129995</td>\n",
              "      <td>1.000000</td>\n",
              "      <td>-0.273119</td>\n",
              "      <td>-0.153263</td>\n",
              "      <td>-0.411743</td>\n",
              "      <td>-0.070247</td>\n",
              "      <td>-0.009698</td>\n",
              "    </tr>\n",
              "    <tr>\n",
              "      <th>monolith</th>\n",
              "      <td>0.273523</td>\n",
              "      <td>0.403613</td>\n",
              "      <td>0.199723</td>\n",
              "      <td>0.341102</td>\n",
              "      <td>-0.026847</td>\n",
              "      <td>-0.164756</td>\n",
              "      <td>0.137300</td>\n",
              "      <td>-0.141044</td>\n",
              "      <td>-0.273119</td>\n",
              "      <td>1.000000</td>\n",
              "      <td>-0.166290</td>\n",
              "      <td>-0.446740</td>\n",
              "      <td>-0.076218</td>\n",
              "      <td>-0.010522</td>\n",
              "    </tr>\n",
              "    <tr>\n",
              "      <th>monolith_brick</th>\n",
              "      <td>0.107071</td>\n",
              "      <td>0.156795</td>\n",
              "      <td>0.235922</td>\n",
              "      <td>0.270427</td>\n",
              "      <td>-0.039117</td>\n",
              "      <td>-0.093780</td>\n",
              "      <td>0.212041</td>\n",
              "      <td>-0.079148</td>\n",
              "      <td>-0.153263</td>\n",
              "      <td>-0.166290</td>\n",
              "      <td>1.000000</td>\n",
              "      <td>-0.250693</td>\n",
              "      <td>-0.042771</td>\n",
              "      <td>-0.005905</td>\n",
              "    </tr>\n",
              "    <tr>\n",
              "      <th>panel</th>\n",
              "      <td>-0.036144</td>\n",
              "      <td>-0.043747</td>\n",
              "      <td>-0.231637</td>\n",
              "      <td>-0.273381</td>\n",
              "      <td>-0.070411</td>\n",
              "      <td>0.108276</td>\n",
              "      <td>-0.213642</td>\n",
              "      <td>-0.212633</td>\n",
              "      <td>-0.411743</td>\n",
              "      <td>-0.446740</td>\n",
              "      <td>-0.250693</td>\n",
              "      <td>1.000000</td>\n",
              "      <td>-0.114903</td>\n",
              "      <td>-0.015863</td>\n",
              "    </tr>\n",
              "    <tr>\n",
              "      <th>stalin</th>\n",
              "      <td>-0.071107</td>\n",
              "      <td>-0.113726</td>\n",
              "      <td>0.020166</td>\n",
              "      <td>-0.026534</td>\n",
              "      <td>0.040629</td>\n",
              "      <td>0.021705</td>\n",
              "      <td>0.011356</td>\n",
              "      <td>-0.036277</td>\n",
              "      <td>-0.070247</td>\n",
              "      <td>-0.076218</td>\n",
              "      <td>-0.042771</td>\n",
              "      <td>-0.114903</td>\n",
              "      <td>1.000000</td>\n",
              "      <td>-0.002706</td>\n",
              "    </tr>\n",
              "    <tr>\n",
              "      <th>wood</th>\n",
              "      <td>-0.005140</td>\n",
              "      <td>-0.009826</td>\n",
              "      <td>-0.001863</td>\n",
              "      <td>-0.000123</td>\n",
              "      <td>0.000053</td>\n",
              "      <td>0.007899</td>\n",
              "      <td>-0.001154</td>\n",
              "      <td>-0.005008</td>\n",
              "      <td>-0.009698</td>\n",
              "      <td>-0.010522</td>\n",
              "      <td>-0.005905</td>\n",
              "      <td>-0.015863</td>\n",
              "      <td>-0.002706</td>\n",
              "      <td>1.000000</td>\n",
              "    </tr>\n",
              "  </tbody>\n",
              "</table>\n",
              "</div>\n",
              "      <button class=\"colab-df-convert\" onclick=\"convertToInteractive('df-997ee717-07f8-4c12-a564-2d7f183ae8d3')\"\n",
              "              title=\"Convert this dataframe to an interactive table.\"\n",
              "              style=\"display:none;\">\n",
              "        \n",
              "  <svg xmlns=\"http://www.w3.org/2000/svg\" height=\"24px\"viewBox=\"0 0 24 24\"\n",
              "       width=\"24px\">\n",
              "    <path d=\"M0 0h24v24H0V0z\" fill=\"none\"/>\n",
              "    <path d=\"M18.56 5.44l.94 2.06.94-2.06 2.06-.94-2.06-.94-.94-2.06-.94 2.06-2.06.94zm-11 1L8.5 8.5l.94-2.06 2.06-.94-2.06-.94L8.5 2.5l-.94 2.06-2.06.94zm10 10l.94 2.06.94-2.06 2.06-.94-2.06-.94-.94-2.06-.94 2.06-2.06.94z\"/><path d=\"M17.41 7.96l-1.37-1.37c-.4-.4-.92-.59-1.43-.59-.52 0-1.04.2-1.43.59L10.3 9.45l-7.72 7.72c-.78.78-.78 2.05 0 2.83L4 21.41c.39.39.9.59 1.41.59.51 0 1.02-.2 1.41-.59l7.78-7.78 2.81-2.81c.8-.78.8-2.07 0-2.86zM5.41 20L4 18.59l7.72-7.72 1.47 1.35L5.41 20z\"/>\n",
              "  </svg>\n",
              "      </button>\n",
              "      \n",
              "  <style>\n",
              "    .colab-df-container {\n",
              "      display:flex;\n",
              "      flex-wrap:wrap;\n",
              "      gap: 12px;\n",
              "    }\n",
              "\n",
              "    .colab-df-convert {\n",
              "      background-color: #E8F0FE;\n",
              "      border: none;\n",
              "      border-radius: 50%;\n",
              "      cursor: pointer;\n",
              "      display: none;\n",
              "      fill: #1967D2;\n",
              "      height: 32px;\n",
              "      padding: 0 0 0 0;\n",
              "      width: 32px;\n",
              "    }\n",
              "\n",
              "    .colab-df-convert:hover {\n",
              "      background-color: #E2EBFA;\n",
              "      box-shadow: 0px 1px 2px rgba(60, 64, 67, 0.3), 0px 1px 3px 1px rgba(60, 64, 67, 0.15);\n",
              "      fill: #174EA6;\n",
              "    }\n",
              "\n",
              "    [theme=dark] .colab-df-convert {\n",
              "      background-color: #3B4455;\n",
              "      fill: #D2E3FC;\n",
              "    }\n",
              "\n",
              "    [theme=dark] .colab-df-convert:hover {\n",
              "      background-color: #434B5C;\n",
              "      box-shadow: 0px 1px 3px 1px rgba(0, 0, 0, 0.15);\n",
              "      filter: drop-shadow(0px 1px 2px rgba(0, 0, 0, 0.3));\n",
              "      fill: #FFFFFF;\n",
              "    }\n",
              "  </style>\n",
              "\n",
              "      <script>\n",
              "        const buttonEl =\n",
              "          document.querySelector('#df-997ee717-07f8-4c12-a564-2d7f183ae8d3 button.colab-df-convert');\n",
              "        buttonEl.style.display =\n",
              "          google.colab.kernel.accessAllowed ? 'block' : 'none';\n",
              "\n",
              "        async function convertToInteractive(key) {\n",
              "          const element = document.querySelector('#df-997ee717-07f8-4c12-a564-2d7f183ae8d3');\n",
              "          const dataTable =\n",
              "            await google.colab.kernel.invokeFunction('convertToInteractive',\n",
              "                                                     [key], {});\n",
              "          if (!dataTable) return;\n",
              "\n",
              "          const docLinkHtml = 'Like what you see? Visit the ' +\n",
              "            '<a target=\"_blank\" href=https://colab.research.google.com/notebooks/data_table.ipynb>data table notebook</a>'\n",
              "            + ' to learn more about interactive tables.';\n",
              "          element.innerHTML = '';\n",
              "          dataTable['output_type'] = 'display_data';\n",
              "          await google.colab.output.renderOutput(dataTable, element);\n",
              "          const docLink = document.createElement('div');\n",
              "          docLink.innerHTML = docLinkHtml;\n",
              "          element.appendChild(docLink);\n",
              "        }\n",
              "      </script>\n",
              "    </div>\n",
              "  </div>\n",
              "  "
            ]
          },
          "metadata": {},
          "execution_count": 49
        }
      ],
      "source": [
        "df2.corr()"
      ]
    },
    {
      "cell_type": "code",
      "execution_count": 50,
      "id": "fc70b271",
      "metadata": {
        "colab": {
          "base_uri": "https://localhost:8080/",
          "height": 496
        },
        "id": "fc70b271",
        "outputId": "9b69a9d2-4b73-490f-9243-4007db39cdeb"
      },
      "outputs": [
        {
          "output_type": "execute_result",
          "data": {
            "text/plain": [
              "       floor_number  floors_total  area_total  kitchen_area   latitude  \\\n",
              "63898             2             4       112.0          12.9  55.520161   \n",
              "63899            14            17       100.0          14.0  55.485698   \n",
              "63900             3            17       103.0          11.0  55.491942   \n",
              "63901             2             3       110.0          19.0  55.536976   \n",
              "63902             2             3       110.0          22.0  55.536848   \n",
              "\n",
              "       longitude       price  block  brick  monolith  monolith_brick  panel  \\\n",
              "63898  37.212217   8100000.0      0      0         0               1      0   \n",
              "63899  37.308202  10700000.0      0      0         1               0      0   \n",
              "63900  37.299524  12300000.0      0      0         0               0      1   \n",
              "63901  37.153619  10800000.0      0      0         1               0      0   \n",
              "63902  37.154688  10900000.0      0      0         1               0      0   \n",
              "\n",
              "       stalin  wood                                   location_address  \n",
              "63898       0     0  13 k2, 46Н-06106, Popovka, Pervomayskoye settl...  \n",
              "63899       0     0  Titanic, 4, Academic Square, Microdistrict B, ...  \n",
              "63900       0     0  9, Nagornaya Street, Factory Village, Troitsk,...  \n",
              "63901       0     0  24, Центральная улица, Pervomayskoye, поселени...  \n",
              "63902       0     0  26, Центральная улица, Pervomayskoye, поселени...  "
            ],
            "text/html": [
              "\n",
              "  <div id=\"df-7b9a5545-281a-4afc-b711-9b03adf653b8\">\n",
              "    <div class=\"colab-df-container\">\n",
              "      <div>\n",
              "<style scoped>\n",
              "    .dataframe tbody tr th:only-of-type {\n",
              "        vertical-align: middle;\n",
              "    }\n",
              "\n",
              "    .dataframe tbody tr th {\n",
              "        vertical-align: top;\n",
              "    }\n",
              "\n",
              "    .dataframe thead th {\n",
              "        text-align: right;\n",
              "    }\n",
              "</style>\n",
              "<table border=\"1\" class=\"dataframe\">\n",
              "  <thead>\n",
              "    <tr style=\"text-align: right;\">\n",
              "      <th></th>\n",
              "      <th>floor_number</th>\n",
              "      <th>floors_total</th>\n",
              "      <th>area_total</th>\n",
              "      <th>kitchen_area</th>\n",
              "      <th>latitude</th>\n",
              "      <th>longitude</th>\n",
              "      <th>price</th>\n",
              "      <th>block</th>\n",
              "      <th>brick</th>\n",
              "      <th>monolith</th>\n",
              "      <th>monolith_brick</th>\n",
              "      <th>panel</th>\n",
              "      <th>stalin</th>\n",
              "      <th>wood</th>\n",
              "      <th>location_address</th>\n",
              "    </tr>\n",
              "  </thead>\n",
              "  <tbody>\n",
              "    <tr>\n",
              "      <th>63898</th>\n",
              "      <td>2</td>\n",
              "      <td>4</td>\n",
              "      <td>112.0</td>\n",
              "      <td>12.9</td>\n",
              "      <td>55.520161</td>\n",
              "      <td>37.212217</td>\n",
              "      <td>8100000.0</td>\n",
              "      <td>0</td>\n",
              "      <td>0</td>\n",
              "      <td>0</td>\n",
              "      <td>1</td>\n",
              "      <td>0</td>\n",
              "      <td>0</td>\n",
              "      <td>0</td>\n",
              "      <td>13 k2, 46Н-06106, Popovka, Pervomayskoye settl...</td>\n",
              "    </tr>\n",
              "    <tr>\n",
              "      <th>63899</th>\n",
              "      <td>14</td>\n",
              "      <td>17</td>\n",
              "      <td>100.0</td>\n",
              "      <td>14.0</td>\n",
              "      <td>55.485698</td>\n",
              "      <td>37.308202</td>\n",
              "      <td>10700000.0</td>\n",
              "      <td>0</td>\n",
              "      <td>0</td>\n",
              "      <td>1</td>\n",
              "      <td>0</td>\n",
              "      <td>0</td>\n",
              "      <td>0</td>\n",
              "      <td>0</td>\n",
              "      <td>Titanic, 4, Academic Square, Microdistrict B, ...</td>\n",
              "    </tr>\n",
              "    <tr>\n",
              "      <th>63900</th>\n",
              "      <td>3</td>\n",
              "      <td>17</td>\n",
              "      <td>103.0</td>\n",
              "      <td>11.0</td>\n",
              "      <td>55.491942</td>\n",
              "      <td>37.299524</td>\n",
              "      <td>12300000.0</td>\n",
              "      <td>0</td>\n",
              "      <td>0</td>\n",
              "      <td>0</td>\n",
              "      <td>0</td>\n",
              "      <td>1</td>\n",
              "      <td>0</td>\n",
              "      <td>0</td>\n",
              "      <td>9, Nagornaya Street, Factory Village, Troitsk,...</td>\n",
              "    </tr>\n",
              "    <tr>\n",
              "      <th>63901</th>\n",
              "      <td>2</td>\n",
              "      <td>3</td>\n",
              "      <td>110.0</td>\n",
              "      <td>19.0</td>\n",
              "      <td>55.536976</td>\n",
              "      <td>37.153619</td>\n",
              "      <td>10800000.0</td>\n",
              "      <td>0</td>\n",
              "      <td>0</td>\n",
              "      <td>1</td>\n",
              "      <td>0</td>\n",
              "      <td>0</td>\n",
              "      <td>0</td>\n",
              "      <td>0</td>\n",
              "      <td>24, Центральная улица, Pervomayskoye, поселени...</td>\n",
              "    </tr>\n",
              "    <tr>\n",
              "      <th>63902</th>\n",
              "      <td>2</td>\n",
              "      <td>3</td>\n",
              "      <td>110.0</td>\n",
              "      <td>22.0</td>\n",
              "      <td>55.536848</td>\n",
              "      <td>37.154688</td>\n",
              "      <td>10900000.0</td>\n",
              "      <td>0</td>\n",
              "      <td>0</td>\n",
              "      <td>1</td>\n",
              "      <td>0</td>\n",
              "      <td>0</td>\n",
              "      <td>0</td>\n",
              "      <td>0</td>\n",
              "      <td>26, Центральная улица, Pervomayskoye, поселени...</td>\n",
              "    </tr>\n",
              "  </tbody>\n",
              "</table>\n",
              "</div>\n",
              "      <button class=\"colab-df-convert\" onclick=\"convertToInteractive('df-7b9a5545-281a-4afc-b711-9b03adf653b8')\"\n",
              "              title=\"Convert this dataframe to an interactive table.\"\n",
              "              style=\"display:none;\">\n",
              "        \n",
              "  <svg xmlns=\"http://www.w3.org/2000/svg\" height=\"24px\"viewBox=\"0 0 24 24\"\n",
              "       width=\"24px\">\n",
              "    <path d=\"M0 0h24v24H0V0z\" fill=\"none\"/>\n",
              "    <path d=\"M18.56 5.44l.94 2.06.94-2.06 2.06-.94-2.06-.94-.94-2.06-.94 2.06-2.06.94zm-11 1L8.5 8.5l.94-2.06 2.06-.94-2.06-.94L8.5 2.5l-.94 2.06-2.06.94zm10 10l.94 2.06.94-2.06 2.06-.94-2.06-.94-.94-2.06-.94 2.06-2.06.94z\"/><path d=\"M17.41 7.96l-1.37-1.37c-.4-.4-.92-.59-1.43-.59-.52 0-1.04.2-1.43.59L10.3 9.45l-7.72 7.72c-.78.78-.78 2.05 0 2.83L4 21.41c.39.39.9.59 1.41.59.51 0 1.02-.2 1.41-.59l7.78-7.78 2.81-2.81c.8-.78.8-2.07 0-2.86zM5.41 20L4 18.59l7.72-7.72 1.47 1.35L5.41 20z\"/>\n",
              "  </svg>\n",
              "      </button>\n",
              "      \n",
              "  <style>\n",
              "    .colab-df-container {\n",
              "      display:flex;\n",
              "      flex-wrap:wrap;\n",
              "      gap: 12px;\n",
              "    }\n",
              "\n",
              "    .colab-df-convert {\n",
              "      background-color: #E8F0FE;\n",
              "      border: none;\n",
              "      border-radius: 50%;\n",
              "      cursor: pointer;\n",
              "      display: none;\n",
              "      fill: #1967D2;\n",
              "      height: 32px;\n",
              "      padding: 0 0 0 0;\n",
              "      width: 32px;\n",
              "    }\n",
              "\n",
              "    .colab-df-convert:hover {\n",
              "      background-color: #E2EBFA;\n",
              "      box-shadow: 0px 1px 2px rgba(60, 64, 67, 0.3), 0px 1px 3px 1px rgba(60, 64, 67, 0.15);\n",
              "      fill: #174EA6;\n",
              "    }\n",
              "\n",
              "    [theme=dark] .colab-df-convert {\n",
              "      background-color: #3B4455;\n",
              "      fill: #D2E3FC;\n",
              "    }\n",
              "\n",
              "    [theme=dark] .colab-df-convert:hover {\n",
              "      background-color: #434B5C;\n",
              "      box-shadow: 0px 1px 3px 1px rgba(0, 0, 0, 0.15);\n",
              "      filter: drop-shadow(0px 1px 2px rgba(0, 0, 0, 0.3));\n",
              "      fill: #FFFFFF;\n",
              "    }\n",
              "  </style>\n",
              "\n",
              "      <script>\n",
              "        const buttonEl =\n",
              "          document.querySelector('#df-7b9a5545-281a-4afc-b711-9b03adf653b8 button.colab-df-convert');\n",
              "        buttonEl.style.display =\n",
              "          google.colab.kernel.accessAllowed ? 'block' : 'none';\n",
              "\n",
              "        async function convertToInteractive(key) {\n",
              "          const element = document.querySelector('#df-7b9a5545-281a-4afc-b711-9b03adf653b8');\n",
              "          const dataTable =\n",
              "            await google.colab.kernel.invokeFunction('convertToInteractive',\n",
              "                                                     [key], {});\n",
              "          if (!dataTable) return;\n",
              "\n",
              "          const docLinkHtml = 'Like what you see? Visit the ' +\n",
              "            '<a target=\"_blank\" href=https://colab.research.google.com/notebooks/data_table.ipynb>data table notebook</a>'\n",
              "            + ' to learn more about interactive tables.';\n",
              "          element.innerHTML = '';\n",
              "          dataTable['output_type'] = 'display_data';\n",
              "          await google.colab.output.renderOutput(dataTable, element);\n",
              "          const docLink = document.createElement('div');\n",
              "          docLink.innerHTML = docLinkHtml;\n",
              "          element.appendChild(docLink);\n",
              "        }\n",
              "      </script>\n",
              "    </div>\n",
              "  </div>\n",
              "  "
            ]
          },
          "metadata": {},
          "execution_count": 50
        }
      ],
      "source": [
        "df2.tail()"
      ]
    },
    {
      "cell_type": "code",
      "execution_count": 51,
      "id": "692888d0",
      "metadata": {
        "id": "692888d0"
      },
      "outputs": [],
      "source": [
        "df2['location_address_bool'] = ''"
      ]
    },
    {
      "cell_type": "markdown",
      "id": "510801c7",
      "metadata": {
        "id": "510801c7"
      },
      "source": [
        "Since some data of the location_address column wasn't translated properly we shall estimateit and (if necessary) drop it."
      ]
    },
    {
      "cell_type": "code",
      "execution_count": 52,
      "id": "86c4e64d",
      "metadata": {
        "id": "86c4e64d"
      },
      "outputs": [],
      "source": [
        "import re \n",
        "\n",
        "def has_cyrillic(text):\n",
        "    return bool(re.search('[а-яА-Я]', text))"
      ]
    },
    {
      "cell_type": "code",
      "execution_count": 53,
      "id": "a40661d0",
      "metadata": {
        "id": "a40661d0"
      },
      "outputs": [],
      "source": [
        "for i in df2.index:\n",
        "    df2['location_address_bool'][i] = has_cyrillic(df2['location_address'][i])"
      ]
    },
    {
      "cell_type": "code",
      "execution_count": 54,
      "id": "4c3b8ce8",
      "metadata": {
        "colab": {
          "base_uri": "https://localhost:8080/"
        },
        "id": "4c3b8ce8",
        "outputId": "b9c0aeab-f86c-4ed0-e882-e9535f2147a6"
      },
      "outputs": [
        {
          "output_type": "execute_result",
          "data": {
            "text/plain": [
              "floor_number             14014\n",
              "floors_total             14014\n",
              "area_total               14014\n",
              "kitchen_area             14014\n",
              "latitude                 14014\n",
              "longitude                14014\n",
              "price                    14014\n",
              "block                    14014\n",
              "brick                    14014\n",
              "monolith                 14014\n",
              "monolith_brick           14014\n",
              "panel                    14014\n",
              "stalin                   14014\n",
              "wood                     14014\n",
              "location_address         14014\n",
              "location_address_bool    14014\n",
              "dtype: int64"
            ]
          },
          "metadata": {},
          "execution_count": 54
        }
      ],
      "source": [
        "df2.loc[df2['location_address_bool'] == True].count()"
      ]
    },
    {
      "cell_type": "code",
      "execution_count": 55,
      "id": "bd525199",
      "metadata": {
        "colab": {
          "base_uri": "https://localhost:8080/"
        },
        "id": "bd525199",
        "outputId": "b2d9652e-6e78-4e77-ad55-0cecf332a47f"
      },
      "outputs": [
        {
          "output_type": "stream",
          "name": "stdout",
          "text": [
            "<class 'pandas.core.frame.DataFrame'>\n",
            "Int64Index: 61581 entries, 0 to 63902\n",
            "Data columns (total 16 columns):\n",
            " #   Column                 Non-Null Count  Dtype  \n",
            "---  ------                 --------------  -----  \n",
            " 0   floor_number           61581 non-null  int8   \n",
            " 1   floors_total           61581 non-null  int8   \n",
            " 2   area_total             61581 non-null  float32\n",
            " 3   kitchen_area           61581 non-null  float32\n",
            " 4   latitude               61581 non-null  float64\n",
            " 5   longitude              61581 non-null  float64\n",
            " 6   price                  61581 non-null  float64\n",
            " 7   block                  61581 non-null  int8   \n",
            " 8   brick                  61581 non-null  int8   \n",
            " 9   monolith               61581 non-null  int8   \n",
            " 10  monolith_brick         61581 non-null  int8   \n",
            " 11  panel                  61581 non-null  int8   \n",
            " 12  stalin                 61581 non-null  int8   \n",
            " 13  wood                   61581 non-null  int8   \n",
            " 14  location_address       61581 non-null  object \n",
            " 15  location_address_bool  61581 non-null  object \n",
            "dtypes: float32(2), float64(3), int8(9), object(2)\n",
            "memory usage: 5.8+ MB\n"
          ]
        }
      ],
      "source": [
        "df2.info()"
      ]
    },
    {
      "cell_type": "code",
      "execution_count": 56,
      "id": "623c4a51",
      "metadata": {
        "id": "623c4a51"
      },
      "outputs": [],
      "source": [
        "df2 = df2.loc[df2['location_address_bool'] == False]"
      ]
    },
    {
      "cell_type": "code",
      "execution_count": 57,
      "id": "2bd71cbf",
      "metadata": {
        "colab": {
          "base_uri": "https://localhost:8080/"
        },
        "id": "2bd71cbf",
        "outputId": "9347dd61-79cd-437c-aa12-ed9aae176c6d"
      },
      "outputs": [
        {
          "output_type": "stream",
          "name": "stdout",
          "text": [
            "<class 'pandas.core.frame.DataFrame'>\n",
            "Int64Index: 47567 entries, 1 to 63900\n",
            "Data columns (total 16 columns):\n",
            " #   Column                 Non-Null Count  Dtype  \n",
            "---  ------                 --------------  -----  \n",
            " 0   floor_number           47567 non-null  int8   \n",
            " 1   floors_total           47567 non-null  int8   \n",
            " 2   area_total             47567 non-null  float32\n",
            " 3   kitchen_area           47567 non-null  float32\n",
            " 4   latitude               47567 non-null  float64\n",
            " 5   longitude              47567 non-null  float64\n",
            " 6   price                  47567 non-null  float64\n",
            " 7   block                  47567 non-null  int8   \n",
            " 8   brick                  47567 non-null  int8   \n",
            " 9   monolith               47567 non-null  int8   \n",
            " 10  monolith_brick         47567 non-null  int8   \n",
            " 11  panel                  47567 non-null  int8   \n",
            " 12  stalin                 47567 non-null  int8   \n",
            " 13  wood                   47567 non-null  int8   \n",
            " 14  location_address       47567 non-null  object \n",
            " 15  location_address_bool  47567 non-null  object \n",
            "dtypes: float32(2), float64(3), int8(9), object(2)\n",
            "memory usage: 2.9+ MB\n"
          ]
        }
      ],
      "source": [
        "df2.info()"
      ]
    },
    {
      "cell_type": "code",
      "execution_count": 58,
      "id": "X7N76h_eZtSx",
      "metadata": {
        "colab": {
          "base_uri": "https://localhost:8080/"
        },
        "id": "X7N76h_eZtSx",
        "outputId": "8dfbaa24-15ad-44f7-fee1-fa14b6cf2f98"
      },
      "outputs": [
        {
          "output_type": "execute_result",
          "data": {
            "text/plain": [
              "16344"
            ]
          },
          "metadata": {},
          "execution_count": 58
        }
      ],
      "source": [
        "len(df2['location_address'].value_counts())"
      ]
    },
    {
      "cell_type": "markdown",
      "id": "XwguFvr7bIUp",
      "metadata": {
        "id": "XwguFvr7bIUp"
      },
      "source": [
        "Since fitting of all rows of our data shall take more than 10 hours. For the purpose of our project let's reduce the number of unique addresses by 10000."
      ]
    },
    {
      "cell_type": "code",
      "execution_count": 59,
      "id": "6CNr_QJEaN0n",
      "metadata": {
        "id": "6CNr_QJEaN0n"
      },
      "outputs": [],
      "source": [
        "new_columns = df2['location_address'].unique()"
      ]
    },
    {
      "cell_type": "code",
      "execution_count": 60,
      "id": "F3zIaVgJaN9h",
      "metadata": {
        "colab": {
          "base_uri": "https://localhost:8080/"
        },
        "id": "F3zIaVgJaN9h",
        "outputId": "08f81887-f4a1-4bf8-a3e7-52a7ecebbd0d"
      },
      "outputs": [
        {
          "output_type": "execute_result",
          "data": {
            "text/plain": [
              "array(['20 Oct 1, 1999, Maryino District, Moscow, Central Federal District, 109651, Russia',\n",
              "       '47 k3, 15th Parkovaya street, Severnoye Izmaylovo District, Moscow, Central Federal District, 105203, Russia',\n",
              "       '6, Yugorskiy proezd, Yaroslavsky District, Moscow, Central Federal District, 129347, Russia',\n",
              "       ...,\n",
              "       '25/2, Veshnyakovskaya street, Veshnyaki District, Moscow, Central Federal District, 111538, Russia',\n",
              "       '23, Bolshoy Predtechenskiy Street, Presnensky District, Moscow, Central Federal District, 123100, Russia',\n",
              "       '17, Graivoronovskaya street, Tekstilshchiki District, Moscow, Central Federal District, 109518, Russia'],\n",
              "      dtype=object)"
            ]
          },
          "metadata": {},
          "execution_count": 60
        }
      ],
      "source": [
        "n = 10000\n",
        "index = np.random.choice(new_columns, n, replace=False)\n",
        "index"
      ]
    },
    {
      "cell_type": "code",
      "execution_count": 61,
      "id": "OzXqhiayaON6",
      "metadata": {
        "id": "OzXqhiayaON6"
      },
      "outputs": [],
      "source": [
        "df2 = df2.query('location_address in @index')"
      ]
    },
    {
      "cell_type": "code",
      "execution_count": 62,
      "id": "6AE2V-SAeu7z",
      "metadata": {
        "colab": {
          "base_uri": "https://localhost:8080/"
        },
        "id": "6AE2V-SAeu7z",
        "outputId": "6ad61f65-202a-4633-f4ad-ee88d5952ad6"
      },
      "outputs": [
        {
          "output_type": "stream",
          "name": "stdout",
          "text": [
            "<class 'pandas.core.frame.DataFrame'>\n",
            "Int64Index: 29005 entries, 1 to 63899\n",
            "Data columns (total 16 columns):\n",
            " #   Column                 Non-Null Count  Dtype  \n",
            "---  ------                 --------------  -----  \n",
            " 0   floor_number           29005 non-null  int8   \n",
            " 1   floors_total           29005 non-null  int8   \n",
            " 2   area_total             29005 non-null  float32\n",
            " 3   kitchen_area           29005 non-null  float32\n",
            " 4   latitude               29005 non-null  float64\n",
            " 5   longitude              29005 non-null  float64\n",
            " 6   price                  29005 non-null  float64\n",
            " 7   block                  29005 non-null  int8   \n",
            " 8   brick                  29005 non-null  int8   \n",
            " 9   monolith               29005 non-null  int8   \n",
            " 10  monolith_brick         29005 non-null  int8   \n",
            " 11  panel                  29005 non-null  int8   \n",
            " 12  stalin                 29005 non-null  int8   \n",
            " 13  wood                   29005 non-null  int8   \n",
            " 14  location_address       29005 non-null  object \n",
            " 15  location_address_bool  29005 non-null  object \n",
            "dtypes: float32(2), float64(3), int8(9), object(2)\n",
            "memory usage: 1.8+ MB\n"
          ]
        }
      ],
      "source": [
        "df2.info()"
      ]
    },
    {
      "cell_type": "code",
      "execution_count": 63,
      "id": "rYN31ODke5gP",
      "metadata": {
        "colab": {
          "base_uri": "https://localhost:8080/",
          "height": 1000
        },
        "id": "rYN31ODke5gP",
        "outputId": "345ce3ca-4d43-41b7-d1c4-a0e6e4df6ccf"
      },
      "outputs": [
        {
          "output_type": "stream",
          "name": "stdout",
          "text": [
            "Column floor_number contains 0 blank spaces\n",
            "\n",
            "These are the 10 most frequent values of floor_number column\n",
            "\n"
          ]
        },
        {
          "output_type": "display_data",
          "data": {
            "text/plain": [
              "2     3208\n",
              "3     2806\n",
              "4     2627\n",
              "5     2539\n",
              "1     2138\n",
              "6     1890\n",
              "7     1823\n",
              "8     1808\n",
              "9     1608\n",
              "11    1157\n",
              "Name: floor_number, dtype: int64"
            ]
          },
          "metadata": {}
        },
        {
          "output_type": "stream",
          "name": "stdout",
          "text": [
            "\n"
          ]
        },
        {
          "output_type": "display_data",
          "data": {
            "text/plain": [
              "count    29005.000000\n",
              "mean         7.747078\n",
              "std          6.417406\n",
              "min          1.000000\n",
              "25%          3.000000\n",
              "50%          6.000000\n",
              "75%         11.000000\n",
              "max         81.000000\n",
              "Name: floor_number, dtype: float64"
            ]
          },
          "metadata": {}
        },
        {
          "output_type": "stream",
          "name": "stdout",
          "text": [
            "\n"
          ]
        },
        {
          "output_type": "display_data",
          "data": {
            "text/plain": [
              "<Figure size 1008x864 with 1 Axes>"
            ],
            "image/png": "[encoded data removed]"
          },
          "metadata": {
            "needs_background": "light"
          }
        },
        {
          "output_type": "stream",
          "name": "stdout",
          "text": [
            "--------------------------------------------\n",
            "\n",
            "Column floors_total contains 0 blank spaces\n",
            "\n",
            "These are the 10 most frequent values of floors_total column\n",
            "\n"
          ]
        },
        {
          "output_type": "display_data",
          "data": {
            "text/plain": [
              "9     4083\n",
              "17    4061\n",
              "12    2943\n",
              "5     2526\n",
              "14    2117\n",
              "16    2050\n",
              "8     1166\n",
              "22    1074\n",
              "25     936\n",
              "15     709\n",
              "Name: floors_total, dtype: int64"
            ]
          },
          "metadata": {}
        },
        {
          "output_type": "stream",
          "name": "stdout",
          "text": [
            "\n"
          ]
        },
        {
          "output_type": "display_data",
          "data": {
            "text/plain": [
              "count    29005.000000\n",
              "mean        14.693742\n",
              "std          8.287834\n",
              "min          1.000000\n",
              "25%          9.000000\n",
              "50%         14.000000\n",
              "75%         17.000000\n",
              "max         99.000000\n",
              "Name: floors_total, dtype: float64"
            ]
          },
          "metadata": {}
        },
        {
          "output_type": "stream",
          "name": "stdout",
          "text": [
            "\n"
          ]
        },
        {
          "output_type": "display_data",
          "data": {
            "text/plain": [
              "<Figure size 1008x864 with 1 Axes>"
            ],
            "image/png": "[encoded data removed]"
          },
          "metadata": {
            "needs_background": "light"
          }
        },
        {
          "output_type": "stream",
          "name": "stdout",
          "text": [
            "--------------------------------------------\n",
            "\n",
            "Column area_total contains 0 blank spaces\n",
            "\n",
            "These are the 10 most frequent values of area_total column\n",
            "\n"
          ]
        },
        {
          "output_type": "display_data",
          "data": {
            "text/plain": [
              "60.0    570\n",
              "38.0    566\n",
              "54.0    512\n",
              "45.0    482\n",
              "40.0    476\n",
              "52.0    470\n",
              "39.0    450\n",
              "35.0    414\n",
              "75.0    394\n",
              "64.0    389\n",
              "Name: area_total, dtype: int64"
            ]
          },
          "metadata": {}
        },
        {
          "output_type": "stream",
          "name": "stdout",
          "text": [
            "\n"
          ]
        },
        {
          "output_type": "display_data",
          "data": {
            "text/plain": [
              "count    29005.000000\n",
              "mean        69.109901\n",
              "std         43.139839\n",
              "min         10.600000\n",
              "25%         44.000000\n",
              "50%         60.000000\n",
              "75%         78.000000\n",
              "max        500.000000\n",
              "Name: area_total, dtype: float64"
            ]
          },
          "metadata": {}
        },
        {
          "output_type": "stream",
          "name": "stdout",
          "text": [
            "\n"
          ]
        },
        {
          "output_type": "display_data",
          "data": {
            "text/plain": [
              "<Figure size 1008x864 with 1 Axes>"
            ],
            "image/png": "[encoded data removed]"
          },
          "metadata": {
            "needs_background": "light"
          }
        },
        {
          "output_type": "stream",
          "name": "stdout",
          "text": [
            "--------------------------------------------\n",
            "\n",
            "Column kitchen_area contains 0 blank spaces\n",
            "\n",
            "These are the 10 most frequent values of kitchen_area column\n",
            "\n"
          ]
        },
        {
          "output_type": "display_data",
          "data": {
            "text/plain": [
              "10.0    3338\n",
              "6.0     2642\n",
              "9.0     2372\n",
              "8.0     1799\n",
              "12.0    1499\n",
              "7.0     1226\n",
              "11.0    1045\n",
              "15.0    1023\n",
              "13.0     769\n",
              "20.0     686\n",
              "Name: kitchen_area, dtype: int64"
            ]
          },
          "metadata": {}
        },
        {
          "output_type": "stream",
          "name": "stdout",
          "text": [
            "\n"
          ]
        },
        {
          "output_type": "display_data",
          "data": {
            "text/plain": [
              "count    29005.000000\n",
              "mean        11.034508\n",
              "std          5.762321\n",
              "min          1.000000\n",
              "25%          8.000000\n",
              "50%         10.000000\n",
              "75%         12.200000\n",
              "max        104.000000\n",
              "Name: kitchen_area, dtype: float64"
            ]
          },
          "metadata": {}
        },
        {
          "output_type": "stream",
          "name": "stdout",
          "text": [
            "\n"
          ]
        },
        {
          "output_type": "display_data",
          "data": {
            "text/plain": [
              "<Figure size 1008x864 with 1 Axes>"
            ],
            "image/png": "[encoded data removed]"
          },
          "metadata": {
            "needs_background": "light"
          }
        },
        {
          "output_type": "stream",
          "name": "stdout",
          "text": [
            "--------------------------------------------\n",
            "\n",
            "Column price contains 0 blank spaces\n",
            "\n",
            "These are the 10 most frequent values of price column\n",
            "\n"
          ]
        },
        {
          "output_type": "display_data",
          "data": {
            "text/plain": [
              "9500000.0     394\n",
              "8500000.0     359\n",
              "7500000.0     357\n",
              "10500000.0    319\n",
              "11500000.0    311\n",
              "6500000.0     296\n",
              "12500000.0    292\n",
              "11000000.0    286\n",
              "9000000.0     255\n",
              "8000000.0     255\n",
              "Name: price, dtype: int64"
            ]
          },
          "metadata": {}
        },
        {
          "output_type": "stream",
          "name": "stdout",
          "text": [
            "\n"
          ]
        },
        {
          "output_type": "display_data",
          "data": {
            "text/plain": [
              "count    2.900500e+04\n",
              "mean     1.827441e+07\n",
              "std      3.161905e+07\n",
              "min      1.000000e+06\n",
              "25%      8.100000e+06\n",
              "50%      1.130000e+07\n",
              "75%      1.750000e+07\n",
              "max      1.290089e+09\n",
              "Name: price, dtype: float64"
            ]
          },
          "metadata": {}
        },
        {
          "output_type": "stream",
          "name": "stdout",
          "text": [
            "\n"
          ]
        },
        {
          "output_type": "display_data",
          "data": {
            "text/plain": [
              "<Figure size 1008x864 with 1 Axes>"
            ],
            "image/png": "[encoded data removed]"
          },
          "metadata": {
            "needs_background": "light"
          }
        },
        {
          "output_type": "stream",
          "name": "stdout",
          "text": [
            "--------------------------------------------\n",
            "\n",
            "The number of the full duplicates is 0\n"
          ]
        }
      ],
      "source": [
        "columns = ['floor_number', 'floors_total', 'area_total', 'kitchen_area', 'price']\n",
        "\n",
        "explore_columns(columns, df2)"
      ]
    },
    {
      "cell_type": "code",
      "execution_count": 64,
      "id": "mF2jGtYBflny",
      "metadata": {
        "colab": {
          "base_uri": "https://localhost:8080/"
        },
        "id": "mF2jGtYBflny",
        "outputId": "67621872-640a-4e95-a186-2955f3c840a0"
      },
      "outputs": [
        {
          "output_type": "stream",
          "name": "stdout",
          "text": [
            "The number of values of the column floor_number beyond 2 standard deviations is:1162 positions or 4.0 % от всех значений данной колонки\n",
            "\n",
            "The number of values of the column floors_total beyond 2 standard deviations is:1143 positions or 4.0 % от всех значений данной колонки\n",
            "\n",
            "The number of values of the column area_total beyond 2 standard deviations is:1100 positions or 4.0 % от всех значений данной колонки\n",
            "\n",
            "The number of values of the column kitchen_area beyond 2 standard deviations is:1126 positions or 4.0 % от всех значений данной колонки\n",
            "\n",
            "The number of values of the column price beyond 2 standard deviations is:604 positions or 2.0 % от всех значений данной колонки\n",
            "\n"
          ]
        }
      ],
      "source": [
        "for column in columns:\n",
        "    a = df2.loc[(df2[column] > df2[column].mean() + 2 * np.std(df2[column])) | (df2[column] < df2[column].mean() - 2 * np.std(df2[column]))][column].count()\n",
        "    print(f'The number of values of the column {column} beyond 2 standard deviations is:{a} positions or {round(a/len(df2[column]),2) * 100} % от всех значений данной колонки\\n')\n"
      ]
    },
    {
      "cell_type": "code",
      "execution_count": 65,
      "id": "2-qmPd_zitSe",
      "metadata": {
        "colab": {
          "base_uri": "https://localhost:8080/"
        },
        "id": "2-qmPd_zitSe",
        "outputId": "2df14147-1cae-4424-f7c9-8417e6c33120"
      },
      "outputs": [
        {
          "output_type": "stream",
          "name": "stdout",
          "text": [
            "<class 'pandas.core.frame.DataFrame'>\n",
            "Int64Index: 29005 entries, 1 to 63899\n",
            "Data columns (total 16 columns):\n",
            " #   Column                 Non-Null Count  Dtype  \n",
            "---  ------                 --------------  -----  \n",
            " 0   floor_number           29005 non-null  int8   \n",
            " 1   floors_total           29005 non-null  int8   \n",
            " 2   area_total             29005 non-null  float32\n",
            " 3   kitchen_area           29005 non-null  float32\n",
            " 4   latitude               29005 non-null  float64\n",
            " 5   longitude              29005 non-null  float64\n",
            " 6   price                  29005 non-null  float64\n",
            " 7   block                  29005 non-null  int8   \n",
            " 8   brick                  29005 non-null  int8   \n",
            " 9   monolith               29005 non-null  int8   \n",
            " 10  monolith_brick         29005 non-null  int8   \n",
            " 11  panel                  29005 non-null  int8   \n",
            " 12  stalin                 29005 non-null  int8   \n",
            " 13  wood                   29005 non-null  int8   \n",
            " 14  location_address       29005 non-null  object \n",
            " 15  location_address_bool  29005 non-null  object \n",
            "dtypes: float32(2), float64(3), int8(9), object(2)\n",
            "memory usage: 1.8+ MB\n"
          ]
        }
      ],
      "source": [
        "df2.info()"
      ]
    },
    {
      "cell_type": "code",
      "execution_count": 66,
      "id": "-B1unzbdfl0j",
      "metadata": {
        "colab": {
          "base_uri": "https://localhost:8080/"
        },
        "id": "-B1unzbdfl0j",
        "outputId": "f6e9e3b4-56c4-4d69-d3d3-489c778eb90b"
      },
      "outputs": [
        {
          "output_type": "stream",
          "name": "stdout",
          "text": [
            "<class 'pandas.core.frame.DataFrame'>\n",
            "Int64Index: 23754 entries, 1 to 63899\n",
            "Data columns (total 16 columns):\n",
            " #   Column                 Non-Null Count  Dtype  \n",
            "---  ------                 --------------  -----  \n",
            " 0   floor_number           23754 non-null  int8   \n",
            " 1   floors_total           23754 non-null  int8   \n",
            " 2   area_total             23754 non-null  float32\n",
            " 3   kitchen_area           23754 non-null  float32\n",
            " 4   latitude               23754 non-null  float64\n",
            " 5   longitude              23754 non-null  float64\n",
            " 6   price                  23754 non-null  float64\n",
            " 7   block                  23754 non-null  int8   \n",
            " 8   brick                  23754 non-null  int8   \n",
            " 9   monolith               23754 non-null  int8   \n",
            " 10  monolith_brick         23754 non-null  int8   \n",
            " 11  panel                  23754 non-null  int8   \n",
            " 12  stalin                 23754 non-null  int8   \n",
            " 13  wood                   23754 non-null  int8   \n",
            " 14  location_address       23754 non-null  object \n",
            " 15  location_address_bool  23754 non-null  object \n",
            "dtypes: float32(2), float64(3), int8(9), object(2)\n",
            "memory usage: 1.5+ MB\n"
          ]
        }
      ],
      "source": [
        "for column in columns:\n",
        "    df2 = df2.loc[(df2[column] < df2[column].mean() + 2 * np.std(df2[column])) & (df2[column] > df2[column].mean() - 2 * np.std(df2[column]))]\n",
        "df2.info()"
      ]
    },
    {
      "cell_type": "code",
      "execution_count": 67,
      "id": "YjTJxGW0fmEH",
      "metadata": {
        "colab": {
          "base_uri": "https://localhost:8080/",
          "height": 1000
        },
        "id": "YjTJxGW0fmEH",
        "outputId": "f5f60262-e505-437a-a309-a999932b2bec"
      },
      "outputs": [
        {
          "output_type": "stream",
          "name": "stdout",
          "text": [
            "Column floor_number contains 0 blank spaces\n",
            "\n",
            "These are the 10 most frequent values of floor_number column\n",
            "\n"
          ]
        },
        {
          "output_type": "display_data",
          "data": {
            "text/plain": [
              "2     2839\n",
              "3     2387\n",
              "4     2226\n",
              "5     2187\n",
              "1     2056\n",
              "6     1579\n",
              "8     1571\n",
              "7     1546\n",
              "9     1386\n",
              "12     983\n",
              "Name: floor_number, dtype: int64"
            ]
          },
          "metadata": {}
        },
        {
          "output_type": "stream",
          "name": "stdout",
          "text": [
            "\n"
          ]
        },
        {
          "output_type": "display_data",
          "data": {
            "text/plain": [
              "count    23754.000000\n",
              "mean         6.717858\n",
              "std          4.572791\n",
              "min          1.000000\n",
              "25%          3.000000\n",
              "50%          6.000000\n",
              "75%         10.000000\n",
              "max         20.000000\n",
              "Name: floor_number, dtype: float64"
            ]
          },
          "metadata": {}
        },
        {
          "output_type": "stream",
          "name": "stdout",
          "text": [
            "\n"
          ]
        },
        {
          "output_type": "display_data",
          "data": {
            "text/plain": [
              "<Figure size 1008x864 with 1 Axes>"
            ],
            "image/png": "[encoded data removed]"
          },
          "metadata": {
            "needs_background": "light"
          }
        },
        {
          "output_type": "stream",
          "name": "stdout",
          "text": [
            "--------------------------------------------\n",
            "\n",
            "Column floors_total contains 0 blank spaces\n",
            "\n",
            "These are the 10 most frequent values of floors_total column\n",
            "\n"
          ]
        },
        {
          "output_type": "display_data",
          "data": {
            "text/plain": [
              "9     3930\n",
              "17    3844\n",
              "12    2768\n",
              "5     2372\n",
              "14    1948\n",
              "16    1842\n",
              "8      997\n",
              "22     841\n",
              "25     631\n",
              "15     567\n",
              "Name: floors_total, dtype: int64"
            ]
          },
          "metadata": {}
        },
        {
          "output_type": "stream",
          "name": "stdout",
          "text": [
            "\n"
          ]
        },
        {
          "output_type": "display_data",
          "data": {
            "text/plain": [
              "count    23754.000000\n",
              "mean        13.070557\n",
              "std          5.496545\n",
              "min          1.000000\n",
              "25%          9.000000\n",
              "50%         12.000000\n",
              "75%         17.000000\n",
              "max         27.000000\n",
              "Name: floors_total, dtype: float64"
            ]
          },
          "metadata": {}
        },
        {
          "output_type": "stream",
          "name": "stdout",
          "text": [
            "\n"
          ]
        },
        {
          "output_type": "display_data",
          "data": {
            "text/plain": [
              "<Figure size 1008x864 with 1 Axes>"
            ],
            "image/png": "[encoded data removed]"
          },
          "metadata": {
            "needs_background": "light"
          }
        },
        {
          "output_type": "stream",
          "name": "stdout",
          "text": [
            "--------------------------------------------\n",
            "\n",
            "Column area_total contains 0 blank spaces\n",
            "\n",
            "These are the 10 most frequent values of area_total column\n",
            "\n"
          ]
        },
        {
          "output_type": "display_data",
          "data": {
            "text/plain": [
              "38.0    552\n",
              "60.0    522\n",
              "54.0    489\n",
              "45.0    471\n",
              "52.0    461\n",
              "40.0    457\n",
              "39.0    441\n",
              "35.0    405\n",
              "33.0    363\n",
              "58.0    362\n",
              "Name: area_total, dtype: int64"
            ]
          },
          "metadata": {}
        },
        {
          "output_type": "stream",
          "name": "stdout",
          "text": [
            "\n"
          ]
        },
        {
          "output_type": "display_data",
          "data": {
            "text/plain": [
              "count    23754.000000\n",
              "mean        57.674835\n",
              "std         19.526268\n",
              "min         11.400000\n",
              "25%         41.200001\n",
              "50%         55.000000\n",
              "75%         71.400002\n",
              "max        145.000000\n",
              "Name: area_total, dtype: float64"
            ]
          },
          "metadata": {}
        },
        {
          "output_type": "stream",
          "name": "stdout",
          "text": [
            "\n"
          ]
        },
        {
          "output_type": "display_data",
          "data": {
            "text/plain": [
              "<Figure size 1008x864 with 1 Axes>"
            ],
            "image/png": "[encoded data removed]"
          },
          "metadata": {
            "needs_background": "light"
          }
        },
        {
          "output_type": "stream",
          "name": "stdout",
          "text": [
            "--------------------------------------------\n",
            "\n",
            "Column kitchen_area contains 0 blank spaces\n",
            "\n",
            "These are the 10 most frequent values of kitchen_area column\n",
            "\n"
          ]
        },
        {
          "output_type": "display_data",
          "data": {
            "text/plain": [
              "10.0    2970\n",
              "6.0     2624\n",
              "9.0     2281\n",
              "8.0     1722\n",
              "12.0    1231\n",
              "7.0     1199\n",
              "11.0     924\n",
              "13.0     663\n",
              "8.5      630\n",
              "15.0     526\n",
              "Name: kitchen_area, dtype: int64"
            ]
          },
          "metadata": {}
        },
        {
          "output_type": "stream",
          "name": "stdout",
          "text": [
            "\n"
          ]
        },
        {
          "output_type": "display_data",
          "data": {
            "text/plain": [
              "count    23754.000000\n",
              "mean         9.366982\n",
              "std          2.756009\n",
              "min          2.000000\n",
              "25%          7.100000\n",
              "50%          9.000000\n",
              "75%         10.800000\n",
              "max         18.400000\n",
              "Name: kitchen_area, dtype: float64"
            ]
          },
          "metadata": {}
        },
        {
          "output_type": "stream",
          "name": "stdout",
          "text": [
            "\n"
          ]
        },
        {
          "output_type": "display_data",
          "data": {
            "text/plain": [
              "<Figure size 1008x864 with 1 Axes>"
            ],
            "image/png": "[encoded data removed]"
          },
          "metadata": {
            "needs_background": "light"
          }
        },
        {
          "output_type": "stream",
          "name": "stdout",
          "text": [
            "--------------------------------------------\n",
            "\n",
            "Column price contains 0 blank spaces\n",
            "\n",
            "These are the 10 most frequent values of price column\n",
            "\n"
          ]
        },
        {
          "output_type": "display_data",
          "data": {
            "text/plain": [
              "9500000.0     384\n",
              "7500000.0     352\n",
              "8500000.0     347\n",
              "10500000.0    309\n",
              "11500000.0    292\n",
              "6500000.0     290\n",
              "12500000.0    271\n",
              "11000000.0    271\n",
              "9000000.0     251\n",
              "8000000.0     248\n",
              "Name: price, dtype: int64"
            ]
          },
          "metadata": {}
        },
        {
          "output_type": "stream",
          "name": "stdout",
          "text": [
            "\n"
          ]
        },
        {
          "output_type": "display_data",
          "data": {
            "text/plain": [
              "count    2.375400e+04\n",
              "mean     1.154135e+07\n",
              "std      5.301192e+06\n",
              "min      1.000000e+06\n",
              "25%      7.690000e+06\n",
              "50%      1.000000e+07\n",
              "75%      1.399000e+07\n",
              "max      3.120355e+07\n",
              "Name: price, dtype: float64"
            ]
          },
          "metadata": {}
        },
        {
          "output_type": "stream",
          "name": "stdout",
          "text": [
            "\n"
          ]
        },
        {
          "output_type": "display_data",
          "data": {
            "text/plain": [
              "<Figure size 1008x864 with 1 Axes>"
            ],
            "image/png": "[encoded data removed]"
          },
          "metadata": {
            "needs_background": "light"
          }
        },
        {
          "output_type": "stream",
          "name": "stdout",
          "text": [
            "--------------------------------------------\n",
            "\n",
            "The number of the full duplicates is 0\n"
          ]
        }
      ],
      "source": [
        "columns = ['floor_number', 'floors_total', 'area_total', 'kitchen_area', 'price']\n",
        "\n",
        "explore_columns(columns, df2)"
      ]
    },
    {
      "cell_type": "code",
      "execution_count": 68,
      "id": "8c5381b4",
      "metadata": {
        "colab": {
          "base_uri": "https://localhost:8080/",
          "height": 508
        },
        "id": "8c5381b4",
        "outputId": "b65e8438-56cf-49d4-99f0-b482b2df8178"
      },
      "outputs": [
        {
          "output_type": "execute_result",
          "data": {
            "text/plain": [
              "    \"House-flute\", k360, Savelkinsky proezd, 3rd microdistrict, Savyolki District, Zelenograd, Moscow, Central Federal District, 124482, Russia  \\\n",
              "1                                                   0                                                                                             \n",
              "3                                                   0                                                                                             \n",
              "4                                                   0                                                                                             \n",
              "9                                                   0                                                                                             \n",
              "10                                                  0                                                                                             \n",
              "\n",
              "    1 building 1, Malaya Sukharevskaya Square, Meshchansky District, Moscow, Central Federal District, 129090, Russia  \\\n",
              "1                                                   0                                                                   \n",
              "3                                                   0                                                                   \n",
              "4                                                   0                                                                   \n",
              "9                                                   0                                                                   \n",
              "10                                                  0                                                                   \n",
              "\n",
              "    1 building 1, Small Krasnoprudny dead end, Krasnoselsky District, Moscow, Central Federal District, 107140, Russia  \\\n",
              "1                                                   0                                                                    \n",
              "3                                                   0                                                                    \n",
              "4                                                   0                                                                    \n",
              "9                                                   0                                                                    \n",
              "10                                                  0                                                                    \n",
              "\n",
              "    1 building 25, Academician Kurchatov Square, Shchukino District, Moscow, Central Federal District, 123098, Russia  \\\n",
              "1                                                   0                                                                   \n",
              "3                                                   0                                                                   \n",
              "4                                                   0                                                                   \n",
              "9                                                   0                                                                   \n",
              "10                                                  0                                                                   \n",
              "\n",
              "    1 c1, Klimashkina Street, Presnensky District, Moscow, Central Federal District, 123557, Russia  \\\n",
              "1                                                   0                                                 \n",
              "3                                                   0                                                 \n",
              "4                                                   0                                                 \n",
              "9                                                   0                                                 \n",
              "10                                                  0                                                 \n",
              "\n",
              "    1 k1, 2nd Volskaya street, Nekrasovka, Moscow, Nekrasovka District, Moscow, Central Federal District, 111674, Russia  \\\n",
              "1                                                   0                                                                      \n",
              "3                                                   0                                                                      \n",
              "4                                                   0                                                                      \n",
              "9                                                   0                                                                      \n",
              "10                                                  0                                                                      \n",
              "\n",
              "    1 k1, 3rd Mitinsky lane, Mitino District, Moscow, Central Federal District, 125368, Russia  \\\n",
              "1                                                   0                                            \n",
              "3                                                   0                                            \n",
              "4                                                   0                                            \n",
              "9                                                   0                                            \n",
              "10                                                  0                                            \n",
              "\n",
              "    1 k1, 4th Sokolnicheskaya street, Sokolniki, Moscow, Sokolniki District, Moscow, Central Federal District, 107082, Russia  \\\n",
              "1                                                   0                                                                           \n",
              "3                                                   0                                                                           \n",
              "4                                                   0                                                                           \n",
              "9                                                   0                                                                           \n",
              "10                                                  0                                                                           \n",
              "\n",
              "    1 k1, Akademika Vinogradova Street, Tyoply Stan District, Moscow, Central Federal District, 117133, Russia  \\\n",
              "1                                                   0                                                            \n",
              "3                                                   0                                                            \n",
              "4                                                   0                                                            \n",
              "9                                                   0                                                            \n",
              "10                                                  0                                                            \n",
              "\n",
              "    1 k1, Akademika Yangelya Street, Chertanovo Yuzhnoye District, Moscow, Central Federal District, 117534, Russia  \\\n",
              "1                                                   0                                                                 \n",
              "3                                                   0                                                                 \n",
              "4                                                   0                                                                 \n",
              "9                                                   0                                                                 \n",
              "10                                                  0                                                                 \n",
              "\n",
              "    ...  \\\n",
              "1   ...   \n",
              "3   ...   \n",
              "4   ...   \n",
              "9   ...   \n",
              "10  ...   \n",
              "\n",
              "    k915, Chestnut alley of veterans, 9th microdistrict, Staroye Kryukovo District, Zelenograd, Moscow, Central Federal District, 124527, Russia  \\\n",
              "1                                                   0                                                                                              \n",
              "3                                                   0                                                                                              \n",
              "4                                                   0                                                                                              \n",
              "9                                                   0                                                                                              \n",
              "10                                                  0                                                                                              \n",
              "\n",
              "    k916, Chestnut alley of veterans, 9th microdistrict, Staroye Kryukovo District, Zelenograd, Moscow, Central Federal District, 124527, Russia  \\\n",
              "1                                                   0                                                                                              \n",
              "3                                                   0                                                                                              \n",
              "4                                                   0                                                                                              \n",
              "9                                                   0                                                                                              \n",
              "10                                                  0                                                                                              \n",
              "\n",
              "    k919, Chestnut alley of veterans, 9th microdistrict, Staroye Kryukovo District, Zelenograd, Moscow, Central Federal District, 124527, Russia  \\\n",
              "1                                                   0                                                                                              \n",
              "3                                                   0                                                                                              \n",
              "4                                                   0                                                                                              \n",
              "9                                                   0                                                                                              \n",
              "10                                                  0                                                                                              \n",
              "\n",
              "    k929, Solnechnaya alley, 9th microdistrict, Staroye Kryukovo District, Zelenograd, Moscow, Central Federal District, 124527, Russia  \\\n",
              "1                                                   0                                                                                     \n",
              "3                                                   0                                                                                     \n",
              "4                                                   0                                                                                     \n",
              "9                                                   0                                                                                     \n",
              "10                                                  0                                                                                     \n",
              "\n",
              "    k931, Solnechnaya alley, 9th microdistrict, Staroye Kryukovo District, Zelenograd, Moscow, Central Federal District, 124527, Russia  \\\n",
              "1                                                   0                                                                                     \n",
              "3                                                   0                                                                                     \n",
              "4                                                   0                                                                                     \n",
              "9                                                   0                                                                                     \n",
              "10                                                  0                                                                                     \n",
              "\n",
              "    metro station \"Pionerskaya\", Malaya Filevskaya street, Fili-Davydkovo District, Moscow, Central Federal District, 121433, Russia  \\\n",
              "1                                                   0                                                                                  \n",
              "3                                                   0                                                                                  \n",
              "4                                                   0                                                                                  \n",
              "9                                                   0                                                                                  \n",
              "10                                                  0                                                                                  \n",
              "\n",
              "    settlement Sosenskoye, Moscow, Central Federal District, 108801, Russia  \\\n",
              "1                                                   0                         \n",
              "3                                                   0                         \n",
              "4                                                   0                         \n",
              "9                                                   0                         \n",
              "10                                                  0                         \n",
              "\n",
              "    settlement Sosenskoye, Moscow, Central Federal District, 108814, Russia  \\\n",
              "1                                                   0                         \n",
              "3                                                   0                         \n",
              "4                                                   0                         \n",
              "9                                                   0                         \n",
              "10                                                  0                         \n",
              "\n",
              "    vl1 s5, MKAD, 44th kilometer, Tyoply Stan District, Moscow, Central Federal District, 117133, Russia  \\\n",
              "1                                                   0                                                      \n",
              "3                                                   0                                                      \n",
              "4                                                   0                                                      \n",
              "9                                                   0                                                      \n",
              "10                                                  0                                                      \n",
              "\n",
              "    vl29 s11, 175th quarter, Filimonkovskoye settlement, Moscow, Central Federal District, 142762, Russia  \n",
              "1                                                   0                                                      \n",
              "3                                                   0                                                      \n",
              "4                                                   0                                                      \n",
              "9                                                   0                                                      \n",
              "10                                                  0                                                      \n",
              "\n",
              "[5 rows x 9365 columns]"
            ],
            "text/html": [
              "\n",
              "  <div id=\"df-bab8f6d7-5ef2-43d2-a216-7af41506ec47\">\n",
              "    <div class=\"colab-df-container\">\n",
              "      <div>\n",
              "<style scoped>\n",
              "    .dataframe tbody tr th:only-of-type {\n",
              "        vertical-align: middle;\n",
              "    }\n",
              "\n",
              "    .dataframe tbody tr th {\n",
              "        vertical-align: top;\n",
              "    }\n",
              "\n",
              "    .dataframe thead th {\n",
              "        text-align: right;\n",
              "    }\n",
              "</style>\n",
              "<table border=\"1\" class=\"dataframe\">\n",
              "  <thead>\n",
              "    <tr style=\"text-align: right;\">\n",
              "      <th></th>\n",
              "      <th>\"House-flute\", k360, Savelkinsky proezd, 3rd microdistrict, Savyolki District, Zelenograd, Moscow, Central Federal District, 124482, Russia</th>\n",
              "      <th>1 building 1, Malaya Sukharevskaya Square, Meshchansky District, Moscow, Central Federal District, 129090, Russia</th>\n",
              "      <th>1 building 1, Small Krasnoprudny dead end, Krasnoselsky District, Moscow, Central Federal District, 107140, Russia</th>\n",
              "      <th>1 building 25, Academician Kurchatov Square, Shchukino District, Moscow, Central Federal District, 123098, Russia</th>\n",
              "      <th>1 c1, Klimashkina Street, Presnensky District, Moscow, Central Federal District, 123557, Russia</th>\n",
              "      <th>1 k1, 2nd Volskaya street, Nekrasovka, Moscow, Nekrasovka District, Moscow, Central Federal District, 111674, Russia</th>\n",
              "      <th>1 k1, 3rd Mitinsky lane, Mitino District, Moscow, Central Federal District, 125368, Russia</th>\n",
              "      <th>1 k1, 4th Sokolnicheskaya street, Sokolniki, Moscow, Sokolniki District, Moscow, Central Federal District, 107082, Russia</th>\n",
              "      <th>1 k1, Akademika Vinogradova Street, Tyoply Stan District, Moscow, Central Federal District, 117133, Russia</th>\n",
              "      <th>1 k1, Akademika Yangelya Street, Chertanovo Yuzhnoye District, Moscow, Central Federal District, 117534, Russia</th>\n",
              "      <th>...</th>\n",
              "      <th>k915, Chestnut alley of veterans, 9th microdistrict, Staroye Kryukovo District, Zelenograd, Moscow, Central Federal District, 124527, Russia</th>\n",
              "      <th>k916, Chestnut alley of veterans, 9th microdistrict, Staroye Kryukovo District, Zelenograd, Moscow, Central Federal District, 124527, Russia</th>\n",
              "      <th>k919, Chestnut alley of veterans, 9th microdistrict, Staroye Kryukovo District, Zelenograd, Moscow, Central Federal District, 124527, Russia</th>\n",
              "      <th>k929, Solnechnaya alley, 9th microdistrict, Staroye Kryukovo District, Zelenograd, Moscow, Central Federal District, 124527, Russia</th>\n",
              "      <th>k931, Solnechnaya alley, 9th microdistrict, Staroye Kryukovo District, Zelenograd, Moscow, Central Federal District, 124527, Russia</th>\n",
              "      <th>metro station \"Pionerskaya\", Malaya Filevskaya street, Fili-Davydkovo District, Moscow, Central Federal District, 121433, Russia</th>\n",
              "      <th>settlement Sosenskoye, Moscow, Central Federal District, 108801, Russia</th>\n",
              "      <th>settlement Sosenskoye, Moscow, Central Federal District, 108814, Russia</th>\n",
              "      <th>vl1 s5, MKAD, 44th kilometer, Tyoply Stan District, Moscow, Central Federal District, 117133, Russia</th>\n",
              "      <th>vl29 s11, 175th quarter, Filimonkovskoye settlement, Moscow, Central Federal District, 142762, Russia</th>\n",
              "    </tr>\n",
              "  </thead>\n",
              "  <tbody>\n",
              "    <tr>\n",
              "      <th>1</th>\n",
              "      <td>0</td>\n",
              "      <td>0</td>\n",
              "      <td>0</td>\n",
              "      <td>0</td>\n",
              "      <td>0</td>\n",
              "      <td>0</td>\n",
              "      <td>0</td>\n",
              "      <td>0</td>\n",
              "      <td>0</td>\n",
              "      <td>0</td>\n",
              "      <td>...</td>\n",
              "      <td>0</td>\n",
              "      <td>0</td>\n",
              "      <td>0</td>\n",
              "      <td>0</td>\n",
              "      <td>0</td>\n",
              "      <td>0</td>\n",
              "      <td>0</td>\n",
              "      <td>0</td>\n",
              "      <td>0</td>\n",
              "      <td>0</td>\n",
              "    </tr>\n",
              "    <tr>\n",
              "      <th>3</th>\n",
              "      <td>0</td>\n",
              "      <td>0</td>\n",
              "      <td>0</td>\n",
              "      <td>0</td>\n",
              "      <td>0</td>\n",
              "      <td>0</td>\n",
              "      <td>0</td>\n",
              "      <td>0</td>\n",
              "      <td>0</td>\n",
              "      <td>0</td>\n",
              "      <td>...</td>\n",
              "      <td>0</td>\n",
              "      <td>0</td>\n",
              "      <td>0</td>\n",
              "      <td>0</td>\n",
              "      <td>0</td>\n",
              "      <td>0</td>\n",
              "      <td>0</td>\n",
              "      <td>0</td>\n",
              "      <td>0</td>\n",
              "      <td>0</td>\n",
              "    </tr>\n",
              "    <tr>\n",
              "      <th>4</th>\n",
              "      <td>0</td>\n",
              "      <td>0</td>\n",
              "      <td>0</td>\n",
              "      <td>0</td>\n",
              "      <td>0</td>\n",
              "      <td>0</td>\n",
              "      <td>0</td>\n",
              "      <td>0</td>\n",
              "      <td>0</td>\n",
              "      <td>0</td>\n",
              "      <td>...</td>\n",
              "      <td>0</td>\n",
              "      <td>0</td>\n",
              "      <td>0</td>\n",
              "      <td>0</td>\n",
              "      <td>0</td>\n",
              "      <td>0</td>\n",
              "      <td>0</td>\n",
              "      <td>0</td>\n",
              "      <td>0</td>\n",
              "      <td>0</td>\n",
              "    </tr>\n",
              "    <tr>\n",
              "      <th>9</th>\n",
              "      <td>0</td>\n",
              "      <td>0</td>\n",
              "      <td>0</td>\n",
              "      <td>0</td>\n",
              "      <td>0</td>\n",
              "      <td>0</td>\n",
              "      <td>0</td>\n",
              "      <td>0</td>\n",
              "      <td>0</td>\n",
              "      <td>0</td>\n",
              "      <td>...</td>\n",
              "      <td>0</td>\n",
              "      <td>0</td>\n",
              "      <td>0</td>\n",
              "      <td>0</td>\n",
              "      <td>0</td>\n",
              "      <td>0</td>\n",
              "      <td>0</td>\n",
              "      <td>0</td>\n",
              "      <td>0</td>\n",
              "      <td>0</td>\n",
              "    </tr>\n",
              "    <tr>\n",
              "      <th>10</th>\n",
              "      <td>0</td>\n",
              "      <td>0</td>\n",
              "      <td>0</td>\n",
              "      <td>0</td>\n",
              "      <td>0</td>\n",
              "      <td>0</td>\n",
              "      <td>0</td>\n",
              "      <td>0</td>\n",
              "      <td>0</td>\n",
              "      <td>0</td>\n",
              "      <td>...</td>\n",
              "      <td>0</td>\n",
              "      <td>0</td>\n",
              "      <td>0</td>\n",
              "      <td>0</td>\n",
              "      <td>0</td>\n",
              "      <td>0</td>\n",
              "      <td>0</td>\n",
              "      <td>0</td>\n",
              "      <td>0</td>\n",
              "      <td>0</td>\n",
              "    </tr>\n",
              "  </tbody>\n",
              "</table>\n",
              "<p>5 rows × 9365 columns</p>\n",
              "</div>\n",
              "      <button class=\"colab-df-convert\" onclick=\"convertToInteractive('df-bab8f6d7-5ef2-43d2-a216-7af41506ec47')\"\n",
              "              title=\"Convert this dataframe to an interactive table.\"\n",
              "              style=\"display:none;\">\n",
              "        \n",
              "  <svg xmlns=\"http://www.w3.org/2000/svg\" height=\"24px\"viewBox=\"0 0 24 24\"\n",
              "       width=\"24px\">\n",
              "    <path d=\"M0 0h24v24H0V0z\" fill=\"none\"/>\n",
              "    <path d=\"M18.56 5.44l.94 2.06.94-2.06 2.06-.94-2.06-.94-.94-2.06-.94 2.06-2.06.94zm-11 1L8.5 8.5l.94-2.06 2.06-.94-2.06-.94L8.5 2.5l-.94 2.06-2.06.94zm10 10l.94 2.06.94-2.06 2.06-.94-2.06-.94-.94-2.06-.94 2.06-2.06.94z\"/><path d=\"M17.41 7.96l-1.37-1.37c-.4-.4-.92-.59-1.43-.59-.52 0-1.04.2-1.43.59L10.3 9.45l-7.72 7.72c-.78.78-.78 2.05 0 2.83L4 21.41c.39.39.9.59 1.41.59.51 0 1.02-.2 1.41-.59l7.78-7.78 2.81-2.81c.8-.78.8-2.07 0-2.86zM5.41 20L4 18.59l7.72-7.72 1.47 1.35L5.41 20z\"/>\n",
              "  </svg>\n",
              "      </button>\n",
              "      \n",
              "  <style>\n",
              "    .colab-df-container {\n",
              "      display:flex;\n",
              "      flex-wrap:wrap;\n",
              "      gap: 12px;\n",
              "    }\n",
              "\n",
              "    .colab-df-convert {\n",
              "      background-color: #E8F0FE;\n",
              "      border: none;\n",
              "      border-radius: 50%;\n",
              "      cursor: pointer;\n",
              "      display: none;\n",
              "      fill: #1967D2;\n",
              "      height: 32px;\n",
              "      padding: 0 0 0 0;\n",
              "      width: 32px;\n",
              "    }\n",
              "\n",
              "    .colab-df-convert:hover {\n",
              "      background-color: #E2EBFA;\n",
              "      box-shadow: 0px 1px 2px rgba(60, 64, 67, 0.3), 0px 1px 3px 1px rgba(60, 64, 67, 0.15);\n",
              "      fill: #174EA6;\n",
              "    }\n",
              "\n",
              "    [theme=dark] .colab-df-convert {\n",
              "      background-color: #3B4455;\n",
              "      fill: #D2E3FC;\n",
              "    }\n",
              "\n",
              "    [theme=dark] .colab-df-convert:hover {\n",
              "      background-color: #434B5C;\n",
              "      box-shadow: 0px 1px 3px 1px rgba(0, 0, 0, 0.15);\n",
              "      filter: drop-shadow(0px 1px 2px rgba(0, 0, 0, 0.3));\n",
              "      fill: #FFFFFF;\n",
              "    }\n",
              "  </style>\n",
              "\n",
              "      <script>\n",
              "        const buttonEl =\n",
              "          document.querySelector('#df-bab8f6d7-5ef2-43d2-a216-7af41506ec47 button.colab-df-convert');\n",
              "        buttonEl.style.display =\n",
              "          google.colab.kernel.accessAllowed ? 'block' : 'none';\n",
              "\n",
              "        async function convertToInteractive(key) {\n",
              "          const element = document.querySelector('#df-bab8f6d7-5ef2-43d2-a216-7af41506ec47');\n",
              "          const dataTable =\n",
              "            await google.colab.kernel.invokeFunction('convertToInteractive',\n",
              "                                                     [key], {});\n",
              "          if (!dataTable) return;\n",
              "\n",
              "          const docLinkHtml = 'Like what you see? Visit the ' +\n",
              "            '<a target=\"_blank\" href=https://colab.research.google.com/notebooks/data_table.ipynb>data table notebook</a>'\n",
              "            + ' to learn more about interactive tables.';\n",
              "          element.innerHTML = '';\n",
              "          dataTable['output_type'] = 'display_data';\n",
              "          await google.colab.output.renderOutput(dataTable, element);\n",
              "          const docLink = document.createElement('div');\n",
              "          docLink.innerHTML = docLinkHtml;\n",
              "          element.appendChild(docLink);\n",
              "        }\n",
              "      </script>\n",
              "    </div>\n",
              "  </div>\n",
              "  "
            ]
          },
          "metadata": {},
          "execution_count": 68
        }
      ],
      "source": [
        "# let's turn my column into a dummy value\n",
        "dummy = pd.get_dummies(df2['location_address'])\n",
        "#dummy.columns = ['block', 'brick', 'monolith', 'monolith_brick', 'panel', 'stalin','wood']\n",
        "\n",
        "dummy.head()"
      ]
    },
    {
      "cell_type": "code",
      "execution_count": 68,
      "id": "VfTHpr35aMqw",
      "metadata": {
        "id": "VfTHpr35aMqw"
      },
      "outputs": [],
      "source": []
    },
    {
      "cell_type": "markdown",
      "id": "ac1c9364",
      "metadata": {
        "id": "ac1c9364"
      },
      "source": [
        "Let's concatanate our data."
      ]
    },
    {
      "cell_type": "code",
      "execution_count": 69,
      "id": "w2PjmxO2jSlH",
      "metadata": {
        "colab": {
          "base_uri": "https://localhost:8080/"
        },
        "id": "w2PjmxO2jSlH",
        "outputId": "a0c8ba88-6a4d-4fc2-ac98-ba9fc847a295"
      },
      "outputs": [
        {
          "output_type": "stream",
          "name": "stdout",
          "text": [
            "<class 'pandas.core.frame.DataFrame'>\n",
            "Int64Index: 23754 entries, 1 to 63899\n",
            "Columns: 9365 entries, \"House-flute\", k360, Savelkinsky proezd, 3rd microdistrict, Savyolki District, Zelenograd, Moscow, Central Federal District, 124482, Russia to vl29 s11, 175th quarter, Filimonkovskoye settlement, Moscow, Central Federal District, 142762, Russia\n",
            "dtypes: uint8(9365)\n",
            "memory usage: 212.3 MB\n"
          ]
        }
      ],
      "source": [
        "dummy.info()"
      ]
    },
    {
      "cell_type": "code",
      "execution_count": 70,
      "id": "1b58e7c9",
      "metadata": {
        "colab": {
          "base_uri": "https://localhost:8080/",
          "height": 508
        },
        "id": "1b58e7c9",
        "outputId": "f90b33f5-bcf3-4453-d786-859867382238"
      },
      "outputs": [
        {
          "output_type": "execute_result",
          "data": {
            "text/plain": [
              "    floor_number  floors_total  area_total  kitchen_area      price  block  \\\n",
              "1              1             5   15.000000           3.0  4650000.0      0   \n",
              "3              1             7   18.400000           3.0  4390000.0      0   \n",
              "4              2             5   17.600000           2.0  4890000.0      0   \n",
              "9              1             5   25.200001           2.0  4850000.0      0   \n",
              "10             5             9   29.000000           7.0  8450000.0      0   \n",
              "\n",
              "    brick  monolith  monolith_brick  panel  ...  \\\n",
              "1       1         0               0      0  ...   \n",
              "3       1         0               0      0  ...   \n",
              "4       1         0               0      0  ...   \n",
              "9       1         0               0      0  ...   \n",
              "10      0         0               1      0  ...   \n",
              "\n",
              "    k915, Chestnut alley of veterans, 9th microdistrict, Staroye Kryukovo District, Zelenograd, Moscow, Central Federal District, 124527, Russia  \\\n",
              "1                                                   0                                                                                              \n",
              "3                                                   0                                                                                              \n",
              "4                                                   0                                                                                              \n",
              "9                                                   0                                                                                              \n",
              "10                                                  0                                                                                              \n",
              "\n",
              "    k916, Chestnut alley of veterans, 9th microdistrict, Staroye Kryukovo District, Zelenograd, Moscow, Central Federal District, 124527, Russia  \\\n",
              "1                                                   0                                                                                              \n",
              "3                                                   0                                                                                              \n",
              "4                                                   0                                                                                              \n",
              "9                                                   0                                                                                              \n",
              "10                                                  0                                                                                              \n",
              "\n",
              "    k919, Chestnut alley of veterans, 9th microdistrict, Staroye Kryukovo District, Zelenograd, Moscow, Central Federal District, 124527, Russia  \\\n",
              "1                                                   0                                                                                              \n",
              "3                                                   0                                                                                              \n",
              "4                                                   0                                                                                              \n",
              "9                                                   0                                                                                              \n",
              "10                                                  0                                                                                              \n",
              "\n",
              "    k929, Solnechnaya alley, 9th microdistrict, Staroye Kryukovo District, Zelenograd, Moscow, Central Federal District, 124527, Russia  \\\n",
              "1                                                   0                                                                                     \n",
              "3                                                   0                                                                                     \n",
              "4                                                   0                                                                                     \n",
              "9                                                   0                                                                                     \n",
              "10                                                  0                                                                                     \n",
              "\n",
              "    k931, Solnechnaya alley, 9th microdistrict, Staroye Kryukovo District, Zelenograd, Moscow, Central Federal District, 124527, Russia  \\\n",
              "1                                                   0                                                                                     \n",
              "3                                                   0                                                                                     \n",
              "4                                                   0                                                                                     \n",
              "9                                                   0                                                                                     \n",
              "10                                                  0                                                                                     \n",
              "\n",
              "    metro station \"Pionerskaya\", Malaya Filevskaya street, Fili-Davydkovo District, Moscow, Central Federal District, 121433, Russia  \\\n",
              "1                                                   0                                                                                  \n",
              "3                                                   0                                                                                  \n",
              "4                                                   0                                                                                  \n",
              "9                                                   0                                                                                  \n",
              "10                                                  0                                                                                  \n",
              "\n",
              "    settlement Sosenskoye, Moscow, Central Federal District, 108801, Russia  \\\n",
              "1                                                   0                         \n",
              "3                                                   0                         \n",
              "4                                                   0                         \n",
              "9                                                   0                         \n",
              "10                                                  0                         \n",
              "\n",
              "    settlement Sosenskoye, Moscow, Central Federal District, 108814, Russia  \\\n",
              "1                                                   0                         \n",
              "3                                                   0                         \n",
              "4                                                   0                         \n",
              "9                                                   0                         \n",
              "10                                                  0                         \n",
              "\n",
              "    vl1 s5, MKAD, 44th kilometer, Tyoply Stan District, Moscow, Central Federal District, 117133, Russia  \\\n",
              "1                                                   0                                                      \n",
              "3                                                   0                                                      \n",
              "4                                                   0                                                      \n",
              "9                                                   0                                                      \n",
              "10                                                  0                                                      \n",
              "\n",
              "    vl29 s11, 175th quarter, Filimonkovskoye settlement, Moscow, Central Federal District, 142762, Russia  \n",
              "1                                                   0                                                      \n",
              "3                                                   0                                                      \n",
              "4                                                   0                                                      \n",
              "9                                                   0                                                      \n",
              "10                                                  0                                                      \n",
              "\n",
              "[5 rows x 9377 columns]"
            ],
            "text/html": [
              "\n",
              "  <div id=\"df-b96353ca-6c43-4837-bdb2-1f08d0973bea\">\n",
              "    <div class=\"colab-df-container\">\n",
              "      <div>\n",
              "<style scoped>\n",
              "    .dataframe tbody tr th:only-of-type {\n",
              "        vertical-align: middle;\n",
              "    }\n",
              "\n",
              "    .dataframe tbody tr th {\n",
              "        vertical-align: top;\n",
              "    }\n",
              "\n",
              "    .dataframe thead th {\n",
              "        text-align: right;\n",
              "    }\n",
              "</style>\n",
              "<table border=\"1\" class=\"dataframe\">\n",
              "  <thead>\n",
              "    <tr style=\"text-align: right;\">\n",
              "      <th></th>\n",
              "      <th>floor_number</th>\n",
              "      <th>floors_total</th>\n",
              "      <th>area_total</th>\n",
              "      <th>kitchen_area</th>\n",
              "      <th>price</th>\n",
              "      <th>block</th>\n",
              "      <th>brick</th>\n",
              "      <th>monolith</th>\n",
              "      <th>monolith_brick</th>\n",
              "      <th>panel</th>\n",
              "      <th>...</th>\n",
              "      <th>k915, Chestnut alley of veterans, 9th microdistrict, Staroye Kryukovo District, Zelenograd, Moscow, Central Federal District, 124527, Russia</th>\n",
              "      <th>k916, Chestnut alley of veterans, 9th microdistrict, Staroye Kryukovo District, Zelenograd, Moscow, Central Federal District, 124527, Russia</th>\n",
              "      <th>k919, Chestnut alley of veterans, 9th microdistrict, Staroye Kryukovo District, Zelenograd, Moscow, Central Federal District, 124527, Russia</th>\n",
              "      <th>k929, Solnechnaya alley, 9th microdistrict, Staroye Kryukovo District, Zelenograd, Moscow, Central Federal District, 124527, Russia</th>\n",
              "      <th>k931, Solnechnaya alley, 9th microdistrict, Staroye Kryukovo District, Zelenograd, Moscow, Central Federal District, 124527, Russia</th>\n",
              "      <th>metro station \"Pionerskaya\", Malaya Filevskaya street, Fili-Davydkovo District, Moscow, Central Federal District, 121433, Russia</th>\n",
              "      <th>settlement Sosenskoye, Moscow, Central Federal District, 108801, Russia</th>\n",
              "      <th>settlement Sosenskoye, Moscow, Central Federal District, 108814, Russia</th>\n",
              "      <th>vl1 s5, MKAD, 44th kilometer, Tyoply Stan District, Moscow, Central Federal District, 117133, Russia</th>\n",
              "      <th>vl29 s11, 175th quarter, Filimonkovskoye settlement, Moscow, Central Federal District, 142762, Russia</th>\n",
              "    </tr>\n",
              "  </thead>\n",
              "  <tbody>\n",
              "    <tr>\n",
              "      <th>1</th>\n",
              "      <td>1</td>\n",
              "      <td>5</td>\n",
              "      <td>15.000000</td>\n",
              "      <td>3.0</td>\n",
              "      <td>4650000.0</td>\n",
              "      <td>0</td>\n",
              "      <td>1</td>\n",
              "      <td>0</td>\n",
              "      <td>0</td>\n",
              "      <td>0</td>\n",
              "      <td>...</td>\n",
              "      <td>0</td>\n",
              "      <td>0</td>\n",
              "      <td>0</td>\n",
              "      <td>0</td>\n",
              "      <td>0</td>\n",
              "      <td>0</td>\n",
              "      <td>0</td>\n",
              "      <td>0</td>\n",
              "      <td>0</td>\n",
              "      <td>0</td>\n",
              "    </tr>\n",
              "    <tr>\n",
              "      <th>3</th>\n",
              "      <td>1</td>\n",
              "      <td>7</td>\n",
              "      <td>18.400000</td>\n",
              "      <td>3.0</td>\n",
              "      <td>4390000.0</td>\n",
              "      <td>0</td>\n",
              "      <td>1</td>\n",
              "      <td>0</td>\n",
              "      <td>0</td>\n",
              "      <td>0</td>\n",
              "      <td>...</td>\n",
              "      <td>0</td>\n",
              "      <td>0</td>\n",
              "      <td>0</td>\n",
              "      <td>0</td>\n",
              "      <td>0</td>\n",
              "      <td>0</td>\n",
              "      <td>0</td>\n",
              "      <td>0</td>\n",
              "      <td>0</td>\n",
              "      <td>0</td>\n",
              "    </tr>\n",
              "    <tr>\n",
              "      <th>4</th>\n",
              "      <td>2</td>\n",
              "      <td>5</td>\n",
              "      <td>17.600000</td>\n",
              "      <td>2.0</td>\n",
              "      <td>4890000.0</td>\n",
              "      <td>0</td>\n",
              "      <td>1</td>\n",
              "      <td>0</td>\n",
              "      <td>0</td>\n",
              "      <td>0</td>\n",
              "      <td>...</td>\n",
              "      <td>0</td>\n",
              "      <td>0</td>\n",
              "      <td>0</td>\n",
              "      <td>0</td>\n",
              "      <td>0</td>\n",
              "      <td>0</td>\n",
              "      <td>0</td>\n",
              "      <td>0</td>\n",
              "      <td>0</td>\n",
              "      <td>0</td>\n",
              "    </tr>\n",
              "    <tr>\n",
              "      <th>9</th>\n",
              "      <td>1</td>\n",
              "      <td>5</td>\n",
              "      <td>25.200001</td>\n",
              "      <td>2.0</td>\n",
              "      <td>4850000.0</td>\n",
              "      <td>0</td>\n",
              "      <td>1</td>\n",
              "      <td>0</td>\n",
              "      <td>0</td>\n",
              "      <td>0</td>\n",
              "      <td>...</td>\n",
              "      <td>0</td>\n",
              "      <td>0</td>\n",
              "      <td>0</td>\n",
              "      <td>0</td>\n",
              "      <td>0</td>\n",
              "      <td>0</td>\n",
              "      <td>0</td>\n",
              "      <td>0</td>\n",
              "      <td>0</td>\n",
              "      <td>0</td>\n",
              "    </tr>\n",
              "    <tr>\n",
              "      <th>10</th>\n",
              "      <td>5</td>\n",
              "      <td>9</td>\n",
              "      <td>29.000000</td>\n",
              "      <td>7.0</td>\n",
              "      <td>8450000.0</td>\n",
              "      <td>0</td>\n",
              "      <td>0</td>\n",
              "      <td>0</td>\n",
              "      <td>1</td>\n",
              "      <td>0</td>\n",
              "      <td>...</td>\n",
              "      <td>0</td>\n",
              "      <td>0</td>\n",
              "      <td>0</td>\n",
              "      <td>0</td>\n",
              "      <td>0</td>\n",
              "      <td>0</td>\n",
              "      <td>0</td>\n",
              "      <td>0</td>\n",
              "      <td>0</td>\n",
              "      <td>0</td>\n",
              "    </tr>\n",
              "  </tbody>\n",
              "</table>\n",
              "<p>5 rows × 9377 columns</p>\n",
              "</div>\n",
              "      <button class=\"colab-df-convert\" onclick=\"convertToInteractive('df-b96353ca-6c43-4837-bdb2-1f08d0973bea')\"\n",
              "              title=\"Convert this dataframe to an interactive table.\"\n",
              "              style=\"display:none;\">\n",
              "        \n",
              "  <svg xmlns=\"http://www.w3.org/2000/svg\" height=\"24px\"viewBox=\"0 0 24 24\"\n",
              "       width=\"24px\">\n",
              "    <path d=\"M0 0h24v24H0V0z\" fill=\"none\"/>\n",
              "    <path d=\"M18.56 5.44l.94 2.06.94-2.06 2.06-.94-2.06-.94-.94-2.06-.94 2.06-2.06.94zm-11 1L8.5 8.5l.94-2.06 2.06-.94-2.06-.94L8.5 2.5l-.94 2.06-2.06.94zm10 10l.94 2.06.94-2.06 2.06-.94-2.06-.94-.94-2.06-.94 2.06-2.06.94z\"/><path d=\"M17.41 7.96l-1.37-1.37c-.4-.4-.92-.59-1.43-.59-.52 0-1.04.2-1.43.59L10.3 9.45l-7.72 7.72c-.78.78-.78 2.05 0 2.83L4 21.41c.39.39.9.59 1.41.59.51 0 1.02-.2 1.41-.59l7.78-7.78 2.81-2.81c.8-.78.8-2.07 0-2.86zM5.41 20L4 18.59l7.72-7.72 1.47 1.35L5.41 20z\"/>\n",
              "  </svg>\n",
              "      </button>\n",
              "      \n",
              "  <style>\n",
              "    .colab-df-container {\n",
              "      display:flex;\n",
              "      flex-wrap:wrap;\n",
              "      gap: 12px;\n",
              "    }\n",
              "\n",
              "    .colab-df-convert {\n",
              "      background-color: #E8F0FE;\n",
              "      border: none;\n",
              "      border-radius: 50%;\n",
              "      cursor: pointer;\n",
              "      display: none;\n",
              "      fill: #1967D2;\n",
              "      height: 32px;\n",
              "      padding: 0 0 0 0;\n",
              "      width: 32px;\n",
              "    }\n",
              "\n",
              "    .colab-df-convert:hover {\n",
              "      background-color: #E2EBFA;\n",
              "      box-shadow: 0px 1px 2px rgba(60, 64, 67, 0.3), 0px 1px 3px 1px rgba(60, 64, 67, 0.15);\n",
              "      fill: #174EA6;\n",
              "    }\n",
              "\n",
              "    [theme=dark] .colab-df-convert {\n",
              "      background-color: #3B4455;\n",
              "      fill: #D2E3FC;\n",
              "    }\n",
              "\n",
              "    [theme=dark] .colab-df-convert:hover {\n",
              "      background-color: #434B5C;\n",
              "      box-shadow: 0px 1px 3px 1px rgba(0, 0, 0, 0.15);\n",
              "      filter: drop-shadow(0px 1px 2px rgba(0, 0, 0, 0.3));\n",
              "      fill: #FFFFFF;\n",
              "    }\n",
              "  </style>\n",
              "\n",
              "      <script>\n",
              "        const buttonEl =\n",
              "          document.querySelector('#df-b96353ca-6c43-4837-bdb2-1f08d0973bea button.colab-df-convert');\n",
              "        buttonEl.style.display =\n",
              "          google.colab.kernel.accessAllowed ? 'block' : 'none';\n",
              "\n",
              "        async function convertToInteractive(key) {\n",
              "          const element = document.querySelector('#df-b96353ca-6c43-4837-bdb2-1f08d0973bea');\n",
              "          const dataTable =\n",
              "            await google.colab.kernel.invokeFunction('convertToInteractive',\n",
              "                                                     [key], {});\n",
              "          if (!dataTable) return;\n",
              "\n",
              "          const docLinkHtml = 'Like what you see? Visit the ' +\n",
              "            '<a target=\"_blank\" href=https://colab.research.google.com/notebooks/data_table.ipynb>data table notebook</a>'\n",
              "            + ' to learn more about interactive tables.';\n",
              "          element.innerHTML = '';\n",
              "          dataTable['output_type'] = 'display_data';\n",
              "          await google.colab.output.renderOutput(dataTable, element);\n",
              "          const docLink = document.createElement('div');\n",
              "          docLink.innerHTML = docLinkHtml;\n",
              "          element.appendChild(docLink);\n",
              "        }\n",
              "      </script>\n",
              "    </div>\n",
              "  </div>\n",
              "  "
            ]
          },
          "metadata": {},
          "execution_count": 70
        }
      ],
      "source": [
        "df2_ohe =pd.concat([df2, dummy], axis=1).drop('location_address', axis=1)\n",
        "df2_ohe = df2_ohe.drop(['location_address_bool','latitude','longitude'], axis=1)\n",
        "\n",
        "df2_ohe.head()"
      ]
    },
    {
      "cell_type": "code",
      "execution_count": 71,
      "id": "b7de3685",
      "metadata": {
        "colab": {
          "base_uri": "https://localhost:8080/"
        },
        "id": "b7de3685",
        "outputId": "6cad707c-d7f8-4f91-e7a0-eaccf3af96d6"
      },
      "outputs": [
        {
          "output_type": "stream",
          "name": "stdout",
          "text": [
            "<class 'pandas.core.frame.DataFrame'>\n",
            "Int64Index: 23754 entries, 1 to 63899\n",
            "Columns: 9377 entries, floor_number to vl29 s11, 175th quarter, Filimonkovskoye settlement, Moscow, Central Federal District, 142762, Russia\n",
            "dtypes: float32(2), float64(1), int8(9), uint8(9365)\n",
            "memory usage: 212.9 MB\n"
          ]
        }
      ],
      "source": [
        "df2_ohe.info()"
      ]
    },
    {
      "cell_type": "markdown",
      "id": "078a047f",
      "metadata": {
        "id": "078a047f"
      },
      "source": [
        "## 2.2 Training of the ML models"
      ]
    },
    {
      "cell_type": "code",
      "execution_count": 72,
      "id": "51697768",
      "metadata": {
        "id": "51697768"
      },
      "outputs": [],
      "source": [
        "features = df2_ohe.drop(['price'], axis=1)\n",
        "target = df2_ohe.price"
      ]
    },
    {
      "cell_type": "code",
      "execution_count": 73,
      "id": "042270bf",
      "metadata": {
        "id": "042270bf"
      },
      "outputs": [],
      "source": [
        "x_train, x_test, y_train, y_test = train_test_split(features, target, shuffle=True, test_size=0.25)"
      ]
    },
    {
      "cell_type": "code",
      "execution_count": 74,
      "id": "cb60194f",
      "metadata": {
        "id": "cb60194f"
      },
      "outputs": [],
      "source": [
        "stat = pd.DataFrame(columns=['model', 'rmse_train', 'rmse_valid','rmse_test'])"
      ]
    },
    {
      "cell_type": "code",
      "execution_count": 75,
      "id": "4289910e",
      "metadata": {
        "colab": {
          "base_uri": "https://localhost:8080/",
          "height": 49
        },
        "id": "4289910e",
        "outputId": "26a4e409-db66-411a-cc3c-c82c12bb219e"
      },
      "outputs": [
        {
          "output_type": "execute_result",
          "data": {
            "text/plain": [
              "Empty DataFrame\n",
              "Columns: [model, rmse_train, rmse_valid, rmse_test]\n",
              "Index: []"
            ],
            "text/html": [
              "\n",
              "  <div id=\"df-da4f0625-c353-4631-9523-33ac2ab5db94\">\n",
              "    <div class=\"colab-df-container\">\n",
              "      <div>\n",
              "<style scoped>\n",
              "    .dataframe tbody tr th:only-of-type {\n",
              "        vertical-align: middle;\n",
              "    }\n",
              "\n",
              "    .dataframe tbody tr th {\n",
              "        vertical-align: top;\n",
              "    }\n",
              "\n",
              "    .dataframe thead th {\n",
              "        text-align: right;\n",
              "    }\n",
              "</style>\n",
              "<table border=\"1\" class=\"dataframe\">\n",
              "  <thead>\n",
              "    <tr style=\"text-align: right;\">\n",
              "      <th></th>\n",
              "      <th>model</th>\n",
              "      <th>rmse_train</th>\n",
              "      <th>rmse_valid</th>\n",
              "      <th>rmse_test</th>\n",
              "    </tr>\n",
              "  </thead>\n",
              "  <tbody>\n",
              "  </tbody>\n",
              "</table>\n",
              "</div>\n",
              "      <button class=\"colab-df-convert\" onclick=\"convertToInteractive('df-da4f0625-c353-4631-9523-33ac2ab5db94')\"\n",
              "              title=\"Convert this dataframe to an interactive table.\"\n",
              "              style=\"display:none;\">\n",
              "        \n",
              "  <svg xmlns=\"http://www.w3.org/2000/svg\" height=\"24px\"viewBox=\"0 0 24 24\"\n",
              "       width=\"24px\">\n",
              "    <path d=\"M0 0h24v24H0V0z\" fill=\"none\"/>\n",
              "    <path d=\"M18.56 5.44l.94 2.06.94-2.06 2.06-.94-2.06-.94-.94-2.06-.94 2.06-2.06.94zm-11 1L8.5 8.5l.94-2.06 2.06-.94-2.06-.94L8.5 2.5l-.94 2.06-2.06.94zm10 10l.94 2.06.94-2.06 2.06-.94-2.06-.94-.94-2.06-.94 2.06-2.06.94z\"/><path d=\"M17.41 7.96l-1.37-1.37c-.4-.4-.92-.59-1.43-.59-.52 0-1.04.2-1.43.59L10.3 9.45l-7.72 7.72c-.78.78-.78 2.05 0 2.83L4 21.41c.39.39.9.59 1.41.59.51 0 1.02-.2 1.41-.59l7.78-7.78 2.81-2.81c.8-.78.8-2.07 0-2.86zM5.41 20L4 18.59l7.72-7.72 1.47 1.35L5.41 20z\"/>\n",
              "  </svg>\n",
              "      </button>\n",
              "      \n",
              "  <style>\n",
              "    .colab-df-container {\n",
              "      display:flex;\n",
              "      flex-wrap:wrap;\n",
              "      gap: 12px;\n",
              "    }\n",
              "\n",
              "    .colab-df-convert {\n",
              "      background-color: #E8F0FE;\n",
              "      border: none;\n",
              "      border-radius: 50%;\n",
              "      cursor: pointer;\n",
              "      display: none;\n",
              "      fill: #1967D2;\n",
              "      height: 32px;\n",
              "      padding: 0 0 0 0;\n",
              "      width: 32px;\n",
              "    }\n",
              "\n",
              "    .colab-df-convert:hover {\n",
              "      background-color: #E2EBFA;\n",
              "      box-shadow: 0px 1px 2px rgba(60, 64, 67, 0.3), 0px 1px 3px 1px rgba(60, 64, 67, 0.15);\n",
              "      fill: #174EA6;\n",
              "    }\n",
              "\n",
              "    [theme=dark] .colab-df-convert {\n",
              "      background-color: #3B4455;\n",
              "      fill: #D2E3FC;\n",
              "    }\n",
              "\n",
              "    [theme=dark] .colab-df-convert:hover {\n",
              "      background-color: #434B5C;\n",
              "      box-shadow: 0px 1px 3px 1px rgba(0, 0, 0, 0.15);\n",
              "      filter: drop-shadow(0px 1px 2px rgba(0, 0, 0, 0.3));\n",
              "      fill: #FFFFFF;\n",
              "    }\n",
              "  </style>\n",
              "\n",
              "      <script>\n",
              "        const buttonEl =\n",
              "          document.querySelector('#df-da4f0625-c353-4631-9523-33ac2ab5db94 button.colab-df-convert');\n",
              "        buttonEl.style.display =\n",
              "          google.colab.kernel.accessAllowed ? 'block' : 'none';\n",
              "\n",
              "        async function convertToInteractive(key) {\n",
              "          const element = document.querySelector('#df-da4f0625-c353-4631-9523-33ac2ab5db94');\n",
              "          const dataTable =\n",
              "            await google.colab.kernel.invokeFunction('convertToInteractive',\n",
              "                                                     [key], {});\n",
              "          if (!dataTable) return;\n",
              "\n",
              "          const docLinkHtml = 'Like what you see? Visit the ' +\n",
              "            '<a target=\"_blank\" href=https://colab.research.google.com/notebooks/data_table.ipynb>data table notebook</a>'\n",
              "            + ' to learn more about interactive tables.';\n",
              "          element.innerHTML = '';\n",
              "          dataTable['output_type'] = 'display_data';\n",
              "          await google.colab.output.renderOutput(dataTable, element);\n",
              "          const docLink = document.createElement('div');\n",
              "          docLink.innerHTML = docLinkHtml;\n",
              "          element.appendChild(docLink);\n",
              "        }\n",
              "      </script>\n",
              "    </div>\n",
              "  </div>\n",
              "  "
            ]
          },
          "metadata": {},
          "execution_count": 75
        }
      ],
      "source": [
        "stat"
      ]
    },
    {
      "cell_type": "code",
      "execution_count": 76,
      "id": "ae542532",
      "metadata": {
        "colab": {
          "base_uri": "https://localhost:8080/",
          "height": 206
        },
        "id": "ae542532",
        "outputId": "d5d733d5-b9a9-494c-8a42-7b771bae0c1e"
      },
      "outputs": [
        {
          "output_type": "execute_result",
          "data": {
            "text/plain": [
              "               model  best_score  \\\n",
              "0  linear_regression  -64.281807   \n",
              "1              lasso    0.784790   \n",
              "2      decision_tree    0.650650   \n",
              "3          cat_boost    0.734992   \n",
              "4     lgbm_regressor    0.644817   \n",
              "\n",
              "                                         best_params  \n",
              "0                               {'normalize': False}  \n",
              "1                {'alpha': 1, 'selection': 'random'}  \n",
              "2  {'criterion': 'mse', 'max_depth': 34, 'splitte...  \n",
              "3  {'iterations': 200, 'learning_rate': 0.8, 'ver...  \n",
              "4          {'learning_rate': 0.1, 'num_leaves': 100}  "
            ],
            "text/html": [
              "\n",
              "  <div id=\"df-33585597-1cf4-488d-859f-e56dab6cbdda\">\n",
              "    <div class=\"colab-df-container\">\n",
              "      <div>\n",
              "<style scoped>\n",
              "    .dataframe tbody tr th:only-of-type {\n",
              "        vertical-align: middle;\n",
              "    }\n",
              "\n",
              "    .dataframe tbody tr th {\n",
              "        vertical-align: top;\n",
              "    }\n",
              "\n",
              "    .dataframe thead th {\n",
              "        text-align: right;\n",
              "    }\n",
              "</style>\n",
              "<table border=\"1\" class=\"dataframe\">\n",
              "  <thead>\n",
              "    <tr style=\"text-align: right;\">\n",
              "      <th></th>\n",
              "      <th>model</th>\n",
              "      <th>best_score</th>\n",
              "      <th>best_params</th>\n",
              "    </tr>\n",
              "  </thead>\n",
              "  <tbody>\n",
              "    <tr>\n",
              "      <th>0</th>\n",
              "      <td>linear_regression</td>\n",
              "      <td>-64.281807</td>\n",
              "      <td>{'normalize': False}</td>\n",
              "    </tr>\n",
              "    <tr>\n",
              "      <th>1</th>\n",
              "      <td>lasso</td>\n",
              "      <td>0.784790</td>\n",
              "      <td>{'alpha': 1, 'selection': 'random'}</td>\n",
              "    </tr>\n",
              "    <tr>\n",
              "      <th>2</th>\n",
              "      <td>decision_tree</td>\n",
              "      <td>0.650650</td>\n",
              "      <td>{'criterion': 'mse', 'max_depth': 34, 'splitte...</td>\n",
              "    </tr>\n",
              "    <tr>\n",
              "      <th>3</th>\n",
              "      <td>cat_boost</td>\n",
              "      <td>0.734992</td>\n",
              "      <td>{'iterations': 200, 'learning_rate': 0.8, 'ver...</td>\n",
              "    </tr>\n",
              "    <tr>\n",
              "      <th>4</th>\n",
              "      <td>lgbm_regressor</td>\n",
              "      <td>0.644817</td>\n",
              "      <td>{'learning_rate': 0.1, 'num_leaves': 100}</td>\n",
              "    </tr>\n",
              "  </tbody>\n",
              "</table>\n",
              "</div>\n",
              "      <button class=\"colab-df-convert\" onclick=\"convertToInteractive('df-33585597-1cf4-488d-859f-e56dab6cbdda')\"\n",
              "              title=\"Convert this dataframe to an interactive table.\"\n",
              "              style=\"display:none;\">\n",
              "        \n",
              "  <svg xmlns=\"http://www.w3.org/2000/svg\" height=\"24px\"viewBox=\"0 0 24 24\"\n",
              "       width=\"24px\">\n",
              "    <path d=\"M0 0h24v24H0V0z\" fill=\"none\"/>\n",
              "    <path d=\"M18.56 5.44l.94 2.06.94-2.06 2.06-.94-2.06-.94-.94-2.06-.94 2.06-2.06.94zm-11 1L8.5 8.5l.94-2.06 2.06-.94-2.06-.94L8.5 2.5l-.94 2.06-2.06.94zm10 10l.94 2.06.94-2.06 2.06-.94-2.06-.94-.94-2.06-.94 2.06-2.06.94z\"/><path d=\"M17.41 7.96l-1.37-1.37c-.4-.4-.92-.59-1.43-.59-.52 0-1.04.2-1.43.59L10.3 9.45l-7.72 7.72c-.78.78-.78 2.05 0 2.83L4 21.41c.39.39.9.59 1.41.59.51 0 1.02-.2 1.41-.59l7.78-7.78 2.81-2.81c.8-.78.8-2.07 0-2.86zM5.41 20L4 18.59l7.72-7.72 1.47 1.35L5.41 20z\"/>\n",
              "  </svg>\n",
              "      </button>\n",
              "      \n",
              "  <style>\n",
              "    .colab-df-container {\n",
              "      display:flex;\n",
              "      flex-wrap:wrap;\n",
              "      gap: 12px;\n",
              "    }\n",
              "\n",
              "    .colab-df-convert {\n",
              "      background-color: #E8F0FE;\n",
              "      border: none;\n",
              "      border-radius: 50%;\n",
              "      cursor: pointer;\n",
              "      display: none;\n",
              "      fill: #1967D2;\n",
              "      height: 32px;\n",
              "      padding: 0 0 0 0;\n",
              "      width: 32px;\n",
              "    }\n",
              "\n",
              "    .colab-df-convert:hover {\n",
              "      background-color: #E2EBFA;\n",
              "      box-shadow: 0px 1px 2px rgba(60, 64, 67, 0.3), 0px 1px 3px 1px rgba(60, 64, 67, 0.15);\n",
              "      fill: #174EA6;\n",
              "    }\n",
              "\n",
              "    [theme=dark] .colab-df-convert {\n",
              "      background-color: #3B4455;\n",
              "      fill: #D2E3FC;\n",
              "    }\n",
              "\n",
              "    [theme=dark] .colab-df-convert:hover {\n",
              "      background-color: #434B5C;\n",
              "      box-shadow: 0px 1px 3px 1px rgba(0, 0, 0, 0.15);\n",
              "      filter: drop-shadow(0px 1px 2px rgba(0, 0, 0, 0.3));\n",
              "      fill: #FFFFFF;\n",
              "    }\n",
              "  </style>\n",
              "\n",
              "      <script>\n",
              "        const buttonEl =\n",
              "          document.querySelector('#df-33585597-1cf4-488d-859f-e56dab6cbdda button.colab-df-convert');\n",
              "        buttonEl.style.display =\n",
              "          google.colab.kernel.accessAllowed ? 'block' : 'none';\n",
              "\n",
              "        async function convertToInteractive(key) {\n",
              "          const element = document.querySelector('#df-33585597-1cf4-488d-859f-e56dab6cbdda');\n",
              "          const dataTable =\n",
              "            await google.colab.kernel.invokeFunction('convertToInteractive',\n",
              "                                                     [key], {});\n",
              "          if (!dataTable) return;\n",
              "\n",
              "          const docLinkHtml = 'Like what you see? Visit the ' +\n",
              "            '<a target=\"_blank\" href=https://colab.research.google.com/notebooks/data_table.ipynb>data table notebook</a>'\n",
              "            + ' to learn more about interactive tables.';\n",
              "          element.innerHTML = '';\n",
              "          dataTable['output_type'] = 'display_data';\n",
              "          await google.colab.output.renderOutput(dataTable, element);\n",
              "          const docLink = document.createElement('div');\n",
              "          docLink.innerHTML = docLinkHtml;\n",
              "          element.appendChild(docLink);\n",
              "        }\n",
              "      </script>\n",
              "    </div>\n",
              "  </div>\n",
              "  "
            ]
          },
          "metadata": {},
          "execution_count": 76
        }
      ],
      "source": [
        "def gridsearch_find_model(X, y):\n",
        "    max_depth_list = [x for x in range(2,35)]\n",
        "    algos = {\n",
        "        'linear_regression' : {\n",
        "            'model': LinearRegression(),\n",
        "            'params':{\n",
        "                'normalize':[True, False]\n",
        "            }\n",
        "        },\n",
        "        'lasso':{\n",
        "            'model':Lasso(),\n",
        "            'params':{\n",
        "                'alpha':[1,2],\n",
        "                'selection':['random', 'cyclic']\n",
        "            }\n",
        "        },\n",
        "        'decision_tree':{\n",
        "            'model':DecisionTreeRegressor(),\n",
        "            'params':{\n",
        "                'criterion':['mse','friedman_mse'],\n",
        "                'max_depth':max_depth_list,\n",
        "                'splitter':['best', 'random']\n",
        "            }\n",
        "        },\n",
        "        'cat_boost':{\n",
        "            'model':CatBoostRegressor(),\n",
        "            'params':{\n",
        "                'learning_rate':[0.1, 0.5, 0.8],\n",
        "                'iterations':[200],\n",
        "                'verbose':[False]\n",
        "            }\n",
        "        },\n",
        "        'lgbm_regressor':{\n",
        "            'model':LGBMRegressor(),\n",
        "            'params':{\n",
        "                'num_leaves':[31, 100, 200],\n",
        "                'learning_rate':[0.1, 0.3, 0.5]\n",
        "            }\n",
        "        }\n",
        "        \n",
        "    }\n",
        "    \n",
        "    scores = []\n",
        "    cv = ShuffleSplit(n_splits=5, test_size=0.2, random_state=12345)\n",
        "    for algo_name, config in algos.items():\n",
        "        gs = GridSearchCV(config['model'], config['params'], cv=cv, return_train_score=False)\n",
        "        gs.fit(X,y)\n",
        "        scores.append({\n",
        "            'model':algo_name,\n",
        "            'best_score':gs.best_score_,\n",
        "            'best_params':gs.best_params_\n",
        "        })\n",
        "        \n",
        "    return pd.DataFrame(scores, columns=['model', 'best_score', 'best_params'])\n",
        "\n",
        "gridsearch_find_model(x_train,y_train)"
      ]
    },
    {
      "cell_type": "markdown",
      "id": "cb3c0e0a",
      "metadata": {
        "id": "cb3c0e0a"
      },
      "source": [
        "# 3. Testing and conclusions "
      ]
    },
    {
      "cell_type": "code",
      "execution_count": 77,
      "id": "a6552f3c",
      "metadata": {
        "colab": {
          "base_uri": "https://localhost:8080/"
        },
        "id": "a6552f3c",
        "outputId": "6dc85a45-0524-4443-99ae-0efbdadfa57a"
      },
      "outputs": [
        {
          "output_type": "execute_result",
          "data": {
            "text/plain": [
              "Lasso(alpha=2, selection='random')"
            ]
          },
          "metadata": {},
          "execution_count": 77
        }
      ],
      "source": [
        "lasso_mod = Lasso(alpha=2, selection='random')\n",
        "lasso_mod.fit(x_train, y_train)"
      ]
    },
    {
      "cell_type": "code",
      "execution_count": 78,
      "id": "7c028f40",
      "metadata": {
        "id": "7c028f40"
      },
      "outputs": [],
      "source": [
        "def predict_price(materials, floor_number, floors_total, area_total, kitchen_area, location_address):\n",
        "    material_index = np.where(features.columns == materials)[0][0]\n",
        "    loc_index = np.where(features.columns == location_address)[0][0]\n",
        "    \n",
        "    x = np.zeros(len(features.columns))\n",
        "    x[0] = floor_number\n",
        "    x[1] = floors_total\n",
        "    x[2] = area_total\n",
        "    x[3] = kitchen_area\n",
        "    if loc_index >= 0:\n",
        "        x[loc_index] = 1\n",
        "    \n",
        "    if material_index >= 0:\n",
        "        x[material_index] = 1\n",
        "        \n",
        "    return lasso_mod.predict([x])[0]"
      ]
    },
    {
      "cell_type": "code",
      "execution_count": 79,
      "id": "bbded464",
      "metadata": {
        "colab": {
          "base_uri": "https://localhost:8080/"
        },
        "id": "bbded464",
        "outputId": "b3a113fc-23b5-4555-b568-9919c6670b60"
      },
      "outputs": [
        {
          "output_type": "execute_result",
          "data": {
            "text/plain": [
              "9484093.572265625"
            ]
          },
          "metadata": {},
          "execution_count": 79
        }
      ],
      "source": [
        "predict_price('panel',1, 5.0, 18.0, 3.0, 'metro station \"Pionerskaya\", Malaya Filevskaya street, Fili-Davydkovo District, Moscow, Central Federal District, 121433, Russia')"
      ]
    },
    {
      "cell_type": "code",
      "execution_count": 80,
      "id": "c4350680",
      "metadata": {
        "colab": {
          "base_uri": "https://localhost:8080/"
        },
        "id": "c4350680",
        "outputId": "4abf5949-bd8e-4a9b-ee83-6c71c00ed9dc"
      },
      "outputs": [
        {
          "output_type": "execute_result",
          "data": {
            "text/plain": [
              "9774509.955078125"
            ]
          },
          "metadata": {},
          "execution_count": 80
        }
      ],
      "source": [
        "predict_price('panel',1, 6.0, 20.0, 3.0, 'metro station \"Pionerskaya\", Malaya Filevskaya street, Fili-Davydkovo District, Moscow, Central Federal District, 121433, Russia')"
      ]
    },
    {
      "cell_type": "code",
      "execution_count": 81,
      "id": "d7868fc2",
      "metadata": {
        "id": "d7868fc2"
      },
      "outputs": [],
      "source": [
        "with open('moscow_home_prices_lasso_model.pickle','wb') as f:\n",
        "    pickle.dump(lasso_mod, f)"
      ]
    },
    {
      "cell_type": "code",
      "execution_count": 82,
      "id": "5b7429c9",
      "metadata": {
        "id": "5b7429c9"
      },
      "outputs": [],
      "source": [
        "columns = {\n",
        "    'data_columns':[col.lower() for col in features.columns]\n",
        "}\n",
        "with open(\"columns.json\",\"w\") as f:\n",
        "    f.write(json.dumps(columns))"
      ]
    },
    {
      "cell_type": "markdown",
      "id": "1329d9bb",
      "metadata": {
        "id": "1329d9bb"
      },
      "source": [
        "**Conclusions**\n",
        "\n",
        "The Lasso model showed the best results for preprocessed data - 0.78. Actual results were getting higher as long as we were increasing the amount of data for training, but since training of all data can take more than 10 hours, for the purposes of this project, we decided to limit the number of accepted addresses to 10,000."
      ]
    }
  ],
  "metadata": {
    "colab": {
      "collapsed_sections": [],
      "provenance": []
    },
    "kernelspec": {
      "display_name": "Python 3",
      "language": "python",
      "name": "python3"
    },
    "language_info": {
      "codemirror_mode": {
        "name": "ipython",
        "version": 3
      },
      "file_extension": ".py",
      "mimetype": "text/x-python",
      "name": "python",
      "nbconvert_exporter": "python",
      "pygments_lexer": "ipython3",
      "version": "3.8.8"
    }
  },
  "nbformat": 4,
  "nbformat_minor": 5
}